{
 "cells": [
  {
   "cell_type": "code",
   "execution_count": 72,
   "metadata": {},
   "outputs": [],
   "source": [
    "import pandas as pd\n",
    "import numpy as np\n",
    "import matplotlib.pyplot as plt\n",
    "import seaborn as sns\n",
    "import plotly.offline as py\n",
    "import plotly.graph_objs as go\n",
    "\n",
    "from sklearn.model_selection import train_test_split\n",
    "from sklearn.feature_extraction.text import CountVectorizer\n",
    "from sklearn.linear_model import LogisticRegression\n",
    "from sklearn.neighbors import KNeighborsClassifier\n",
    "from sklearn.naive_bayes import MultinomialNB\n",
    "from sklearn import metrics"
   ]
  },
  {
   "cell_type": "code",
   "execution_count": 3,
   "metadata": {},
   "outputs": [],
   "source": [
    "ufodb = pd.read_csv(\"scrubbed.csv\")"
   ]
  },
  {
   "cell_type": "code",
   "execution_count": 4,
   "metadata": {},
   "outputs": [
    {
     "name": "stdout",
     "output_type": "stream",
     "text": [
      "<class 'pandas.core.frame.DataFrame'>\n",
      "RangeIndex: 80332 entries, 0 to 80331\n",
      "Data columns (total 11 columns):\n",
      " #   Column                Non-Null Count  Dtype  \n",
      "---  ------                --------------  -----  \n",
      " 0   datetime              80332 non-null  object \n",
      " 1   city                  80332 non-null  object \n",
      " 2   state                 74535 non-null  object \n",
      " 3   country               70662 non-null  object \n",
      " 4   shape                 78400 non-null  object \n",
      " 5   duration (seconds)    80332 non-null  object \n",
      " 6   duration (hours/min)  80332 non-null  object \n",
      " 7   comments              80317 non-null  object \n",
      " 8   date posted           80332 non-null  object \n",
      " 9   latitude              80332 non-null  object \n",
      " 10  longitude             80332 non-null  float64\n",
      "dtypes: float64(1), object(10)\n",
      "memory usage: 6.7+ MB\n"
     ]
    }
   ],
   "source": [
    "ufodb.info()"
   ]
  },
  {
   "cell_type": "code",
   "execution_count": 5,
   "metadata": {},
   "outputs": [],
   "source": [
    "ufodb.dropna(inplace = True)"
   ]
  },
  {
   "cell_type": "code",
   "execution_count": 6,
   "metadata": {},
   "outputs": [
    {
     "name": "stdout",
     "output_type": "stream",
     "text": [
      "<class 'pandas.core.frame.DataFrame'>\n",
      "Int64Index: 66516 entries, 0 to 80331\n",
      "Data columns (total 11 columns):\n",
      " #   Column                Non-Null Count  Dtype  \n",
      "---  ------                --------------  -----  \n",
      " 0   datetime              66516 non-null  object \n",
      " 1   city                  66516 non-null  object \n",
      " 2   state                 66516 non-null  object \n",
      " 3   country               66516 non-null  object \n",
      " 4   shape                 66516 non-null  object \n",
      " 5   duration (seconds)    66516 non-null  object \n",
      " 6   duration (hours/min)  66516 non-null  object \n",
      " 7   comments              66516 non-null  object \n",
      " 8   date posted           66516 non-null  object \n",
      " 9   latitude              66516 non-null  object \n",
      " 10  longitude             66516 non-null  float64\n",
      "dtypes: float64(1), object(10)\n",
      "memory usage: 6.1+ MB\n"
     ]
    }
   ],
   "source": [
    "ufodb.info()"
   ]
  },
  {
   "cell_type": "code",
   "execution_count": 7,
   "metadata": {},
   "outputs": [
    {
     "data": {
      "text/plain": [
       "us    0.955454\n",
       "ca    0.044230\n",
       "gb    0.000165\n",
       "au    0.000150\n",
       "Name: country, dtype: float64"
      ]
     },
     "execution_count": 7,
     "metadata": {},
     "output_type": "execute_result"
    }
   ],
   "source": [
    "ufodb['country'].value_counts(normalize = True)"
   ]
  },
  {
   "cell_type": "code",
   "execution_count": 8,
   "metadata": {},
   "outputs": [
    {
     "data": {
      "text/html": [
       "<div>\n",
       "<style scoped>\n",
       "    .dataframe tbody tr th:only-of-type {\n",
       "        vertical-align: middle;\n",
       "    }\n",
       "\n",
       "    .dataframe tbody tr th {\n",
       "        vertical-align: top;\n",
       "    }\n",
       "\n",
       "    .dataframe thead th {\n",
       "        text-align: right;\n",
       "    }\n",
       "</style>\n",
       "<table border=\"1\" class=\"dataframe\">\n",
       "  <thead>\n",
       "    <tr style=\"text-align: right;\">\n",
       "      <th></th>\n",
       "      <th>datetime</th>\n",
       "      <th>city</th>\n",
       "      <th>state</th>\n",
       "      <th>country</th>\n",
       "      <th>shape</th>\n",
       "      <th>duration (seconds)</th>\n",
       "      <th>duration (hours/min)</th>\n",
       "      <th>comments</th>\n",
       "      <th>date posted</th>\n",
       "      <th>latitude</th>\n",
       "      <th>longitude</th>\n",
       "    </tr>\n",
       "  </thead>\n",
       "  <tbody>\n",
       "    <tr>\n",
       "      <th>0</th>\n",
       "      <td>10/10/1949 20:30</td>\n",
       "      <td>san marcos</td>\n",
       "      <td>tx</td>\n",
       "      <td>us</td>\n",
       "      <td>cylinder</td>\n",
       "      <td>2700</td>\n",
       "      <td>45 minutes</td>\n",
       "      <td>This event took place in early fall around 194...</td>\n",
       "      <td>4/27/2004</td>\n",
       "      <td>29.8830556</td>\n",
       "      <td>-97.941111</td>\n",
       "    </tr>\n",
       "    <tr>\n",
       "      <th>3</th>\n",
       "      <td>10/10/1956 21:00</td>\n",
       "      <td>edna</td>\n",
       "      <td>tx</td>\n",
       "      <td>us</td>\n",
       "      <td>circle</td>\n",
       "      <td>20</td>\n",
       "      <td>1/2 hour</td>\n",
       "      <td>My older brother and twin sister were leaving ...</td>\n",
       "      <td>1/17/2004</td>\n",
       "      <td>28.9783333</td>\n",
       "      <td>-96.645833</td>\n",
       "    </tr>\n",
       "    <tr>\n",
       "      <th>4</th>\n",
       "      <td>10/10/1960 20:00</td>\n",
       "      <td>kaneohe</td>\n",
       "      <td>hi</td>\n",
       "      <td>us</td>\n",
       "      <td>light</td>\n",
       "      <td>900</td>\n",
       "      <td>15 minutes</td>\n",
       "      <td>AS a Marine 1st Lt. flying an FJ4B fighter/att...</td>\n",
       "      <td>1/22/2004</td>\n",
       "      <td>21.4180556</td>\n",
       "      <td>-157.803611</td>\n",
       "    </tr>\n",
       "    <tr>\n",
       "      <th>5</th>\n",
       "      <td>10/10/1961 19:00</td>\n",
       "      <td>bristol</td>\n",
       "      <td>tn</td>\n",
       "      <td>us</td>\n",
       "      <td>sphere</td>\n",
       "      <td>300</td>\n",
       "      <td>5 minutes</td>\n",
       "      <td>My father is now 89 my brother 52 the girl wit...</td>\n",
       "      <td>4/27/2007</td>\n",
       "      <td>36.5950000</td>\n",
       "      <td>-82.188889</td>\n",
       "    </tr>\n",
       "    <tr>\n",
       "      <th>7</th>\n",
       "      <td>10/10/1965 23:45</td>\n",
       "      <td>norwalk</td>\n",
       "      <td>ct</td>\n",
       "      <td>us</td>\n",
       "      <td>disk</td>\n",
       "      <td>1200</td>\n",
       "      <td>20 minutes</td>\n",
       "      <td>A bright orange color changing to reddish colo...</td>\n",
       "      <td>10/2/1999</td>\n",
       "      <td>41.1175000</td>\n",
       "      <td>-73.408333</td>\n",
       "    </tr>\n",
       "    <tr>\n",
       "      <th>...</th>\n",
       "      <td>...</td>\n",
       "      <td>...</td>\n",
       "      <td>...</td>\n",
       "      <td>...</td>\n",
       "      <td>...</td>\n",
       "      <td>...</td>\n",
       "      <td>...</td>\n",
       "      <td>...</td>\n",
       "      <td>...</td>\n",
       "      <td>...</td>\n",
       "      <td>...</td>\n",
       "    </tr>\n",
       "    <tr>\n",
       "      <th>80327</th>\n",
       "      <td>9/9/2013 21:15</td>\n",
       "      <td>nashville</td>\n",
       "      <td>tn</td>\n",
       "      <td>us</td>\n",
       "      <td>light</td>\n",
       "      <td>600.0</td>\n",
       "      <td>10 minutes</td>\n",
       "      <td>Round from the distance/slowly changing colors...</td>\n",
       "      <td>9/30/2013</td>\n",
       "      <td>36.165833</td>\n",
       "      <td>-86.784444</td>\n",
       "    </tr>\n",
       "    <tr>\n",
       "      <th>80328</th>\n",
       "      <td>9/9/2013 22:00</td>\n",
       "      <td>boise</td>\n",
       "      <td>id</td>\n",
       "      <td>us</td>\n",
       "      <td>circle</td>\n",
       "      <td>1200.0</td>\n",
       "      <td>20 minutes</td>\n",
       "      <td>Boise&amp;#44 ID&amp;#44 spherical&amp;#44 20 min&amp;#44 10 r...</td>\n",
       "      <td>9/30/2013</td>\n",
       "      <td>43.613611</td>\n",
       "      <td>-116.202500</td>\n",
       "    </tr>\n",
       "    <tr>\n",
       "      <th>80329</th>\n",
       "      <td>9/9/2013 22:00</td>\n",
       "      <td>napa</td>\n",
       "      <td>ca</td>\n",
       "      <td>us</td>\n",
       "      <td>other</td>\n",
       "      <td>1200.0</td>\n",
       "      <td>hour</td>\n",
       "      <td>Napa UFO&amp;#44</td>\n",
       "      <td>9/30/2013</td>\n",
       "      <td>38.297222</td>\n",
       "      <td>-122.284444</td>\n",
       "    </tr>\n",
       "    <tr>\n",
       "      <th>80330</th>\n",
       "      <td>9/9/2013 22:20</td>\n",
       "      <td>vienna</td>\n",
       "      <td>va</td>\n",
       "      <td>us</td>\n",
       "      <td>circle</td>\n",
       "      <td>5.0</td>\n",
       "      <td>5 seconds</td>\n",
       "      <td>Saw a five gold lit cicular craft moving fastl...</td>\n",
       "      <td>9/30/2013</td>\n",
       "      <td>38.901111</td>\n",
       "      <td>-77.265556</td>\n",
       "    </tr>\n",
       "    <tr>\n",
       "      <th>80331</th>\n",
       "      <td>9/9/2013 23:00</td>\n",
       "      <td>edmond</td>\n",
       "      <td>ok</td>\n",
       "      <td>us</td>\n",
       "      <td>cigar</td>\n",
       "      <td>1020.0</td>\n",
       "      <td>17 minutes</td>\n",
       "      <td>2 witnesses 2  miles apart&amp;#44 Red &amp;amp; White...</td>\n",
       "      <td>9/30/2013</td>\n",
       "      <td>35.652778</td>\n",
       "      <td>-97.477778</td>\n",
       "    </tr>\n",
       "  </tbody>\n",
       "</table>\n",
       "<p>63553 rows × 11 columns</p>\n",
       "</div>"
      ],
      "text/plain": [
       "               datetime        city state country     shape  \\\n",
       "0      10/10/1949 20:30  san marcos    tx      us  cylinder   \n",
       "3      10/10/1956 21:00        edna    tx      us    circle   \n",
       "4      10/10/1960 20:00     kaneohe    hi      us     light   \n",
       "5      10/10/1961 19:00     bristol    tn      us    sphere   \n",
       "7      10/10/1965 23:45     norwalk    ct      us      disk   \n",
       "...                 ...         ...   ...     ...       ...   \n",
       "80327    9/9/2013 21:15   nashville    tn      us     light   \n",
       "80328    9/9/2013 22:00       boise    id      us    circle   \n",
       "80329    9/9/2013 22:00        napa    ca      us     other   \n",
       "80330    9/9/2013 22:20      vienna    va      us    circle   \n",
       "80331    9/9/2013 23:00      edmond    ok      us     cigar   \n",
       "\n",
       "      duration (seconds) duration (hours/min)  \\\n",
       "0                   2700           45 minutes   \n",
       "3                     20             1/2 hour   \n",
       "4                    900           15 minutes   \n",
       "5                    300            5 minutes   \n",
       "7                   1200           20 minutes   \n",
       "...                  ...                  ...   \n",
       "80327              600.0           10 minutes   \n",
       "80328             1200.0           20 minutes   \n",
       "80329             1200.0                 hour   \n",
       "80330                5.0            5 seconds   \n",
       "80331             1020.0           17 minutes   \n",
       "\n",
       "                                                comments date posted  \\\n",
       "0      This event took place in early fall around 194...   4/27/2004   \n",
       "3      My older brother and twin sister were leaving ...   1/17/2004   \n",
       "4      AS a Marine 1st Lt. flying an FJ4B fighter/att...   1/22/2004   \n",
       "5      My father is now 89 my brother 52 the girl wit...   4/27/2007   \n",
       "7      A bright orange color changing to reddish colo...   10/2/1999   \n",
       "...                                                  ...         ...   \n",
       "80327  Round from the distance/slowly changing colors...   9/30/2013   \n",
       "80328  Boise&#44 ID&#44 spherical&#44 20 min&#44 10 r...   9/30/2013   \n",
       "80329                                       Napa UFO&#44   9/30/2013   \n",
       "80330  Saw a five gold lit cicular craft moving fastl...   9/30/2013   \n",
       "80331  2 witnesses 2  miles apart&#44 Red &amp; White...   9/30/2013   \n",
       "\n",
       "         latitude  longitude   \n",
       "0      29.8830556  -97.941111  \n",
       "3      28.9783333  -96.645833  \n",
       "4      21.4180556 -157.803611  \n",
       "5      36.5950000  -82.188889  \n",
       "7      41.1175000  -73.408333  \n",
       "...           ...         ...  \n",
       "80327   36.165833  -86.784444  \n",
       "80328   43.613611 -116.202500  \n",
       "80329   38.297222 -122.284444  \n",
       "80330   38.901111  -77.265556  \n",
       "80331   35.652778  -97.477778  \n",
       "\n",
       "[63553 rows x 11 columns]"
      ]
     },
     "execution_count": 8,
     "metadata": {},
     "output_type": "execute_result"
    }
   ],
   "source": [
    "ufodb = ufodb[ufodb[\"country\"] == \"us\"]\n",
    "ufodb"
   ]
  },
  {
   "cell_type": "code",
   "execution_count": 12,
   "metadata": {},
   "outputs": [
    {
     "data": {
      "text/html": [
       "<div>\n",
       "<style scoped>\n",
       "    .dataframe tbody tr th:only-of-type {\n",
       "        vertical-align: middle;\n",
       "    }\n",
       "\n",
       "    .dataframe tbody tr th {\n",
       "        vertical-align: top;\n",
       "    }\n",
       "\n",
       "    .dataframe thead th {\n",
       "        text-align: right;\n",
       "    }\n",
       "</style>\n",
       "<table border=\"1\" class=\"dataframe\">\n",
       "  <thead>\n",
       "    <tr style=\"text-align: right;\">\n",
       "      <th></th>\n",
       "      <th>datetime</th>\n",
       "      <th>city</th>\n",
       "      <th>state</th>\n",
       "      <th>country</th>\n",
       "      <th>shape</th>\n",
       "      <th>duration (seconds)</th>\n",
       "      <th>duration (hours/min)</th>\n",
       "      <th>comments</th>\n",
       "      <th>date posted</th>\n",
       "      <th>latitude</th>\n",
       "      <th>longitude</th>\n",
       "      <th>sightYear</th>\n",
       "      <th>reportYear</th>\n",
       "    </tr>\n",
       "  </thead>\n",
       "  <tbody>\n",
       "    <tr>\n",
       "      <th>0</th>\n",
       "      <td>10/10/1949 20:30</td>\n",
       "      <td>san marcos</td>\n",
       "      <td>tx</td>\n",
       "      <td>us</td>\n",
       "      <td>cylinder</td>\n",
       "      <td>2700</td>\n",
       "      <td>45 minutes</td>\n",
       "      <td>This event took place in early fall around 194...</td>\n",
       "      <td>4/27/2004</td>\n",
       "      <td>29.8830556</td>\n",
       "      <td>-97.941111</td>\n",
       "      <td>1949</td>\n",
       "      <td>2004</td>\n",
       "    </tr>\n",
       "    <tr>\n",
       "      <th>3</th>\n",
       "      <td>10/10/1956 21:00</td>\n",
       "      <td>edna</td>\n",
       "      <td>tx</td>\n",
       "      <td>us</td>\n",
       "      <td>circle</td>\n",
       "      <td>20</td>\n",
       "      <td>1/2 hour</td>\n",
       "      <td>My older brother and twin sister were leaving ...</td>\n",
       "      <td>1/17/2004</td>\n",
       "      <td>28.9783333</td>\n",
       "      <td>-96.645833</td>\n",
       "      <td>1956</td>\n",
       "      <td>2004</td>\n",
       "    </tr>\n",
       "    <tr>\n",
       "      <th>4</th>\n",
       "      <td>10/10/1960 20:00</td>\n",
       "      <td>kaneohe</td>\n",
       "      <td>hi</td>\n",
       "      <td>us</td>\n",
       "      <td>light</td>\n",
       "      <td>900</td>\n",
       "      <td>15 minutes</td>\n",
       "      <td>AS a Marine 1st Lt. flying an FJ4B fighter/att...</td>\n",
       "      <td>1/22/2004</td>\n",
       "      <td>21.4180556</td>\n",
       "      <td>-157.803611</td>\n",
       "      <td>1960</td>\n",
       "      <td>2004</td>\n",
       "    </tr>\n",
       "    <tr>\n",
       "      <th>5</th>\n",
       "      <td>10/10/1961 19:00</td>\n",
       "      <td>bristol</td>\n",
       "      <td>tn</td>\n",
       "      <td>us</td>\n",
       "      <td>sphere</td>\n",
       "      <td>300</td>\n",
       "      <td>5 minutes</td>\n",
       "      <td>My father is now 89 my brother 52 the girl wit...</td>\n",
       "      <td>4/27/2007</td>\n",
       "      <td>36.5950000</td>\n",
       "      <td>-82.188889</td>\n",
       "      <td>1961</td>\n",
       "      <td>2007</td>\n",
       "    </tr>\n",
       "    <tr>\n",
       "      <th>7</th>\n",
       "      <td>10/10/1965 23:45</td>\n",
       "      <td>norwalk</td>\n",
       "      <td>ct</td>\n",
       "      <td>us</td>\n",
       "      <td>disk</td>\n",
       "      <td>1200</td>\n",
       "      <td>20 minutes</td>\n",
       "      <td>A bright orange color changing to reddish colo...</td>\n",
       "      <td>10/2/1999</td>\n",
       "      <td>41.1175000</td>\n",
       "      <td>-73.408333</td>\n",
       "      <td>1965</td>\n",
       "      <td>1999</td>\n",
       "    </tr>\n",
       "  </tbody>\n",
       "</table>\n",
       "</div>"
      ],
      "text/plain": [
       "           datetime        city state country     shape duration (seconds)  \\\n",
       "0  10/10/1949 20:30  san marcos    tx      us  cylinder               2700   \n",
       "3  10/10/1956 21:00        edna    tx      us    circle                 20   \n",
       "4  10/10/1960 20:00     kaneohe    hi      us     light                900   \n",
       "5  10/10/1961 19:00     bristol    tn      us    sphere                300   \n",
       "7  10/10/1965 23:45     norwalk    ct      us      disk               1200   \n",
       "\n",
       "  duration (hours/min)                                           comments  \\\n",
       "0           45 minutes  This event took place in early fall around 194...   \n",
       "3             1/2 hour  My older brother and twin sister were leaving ...   \n",
       "4           15 minutes  AS a Marine 1st Lt. flying an FJ4B fighter/att...   \n",
       "5            5 minutes  My father is now 89 my brother 52 the girl wit...   \n",
       "7           20 minutes  A bright orange color changing to reddish colo...   \n",
       "\n",
       "  date posted    latitude  longitude   sightYear  reportYear  \n",
       "0   4/27/2004  29.8830556  -97.941111       1949        2004  \n",
       "3   1/17/2004  28.9783333  -96.645833       1956        2004  \n",
       "4   1/22/2004  21.4180556 -157.803611       1960        2004  \n",
       "5   4/27/2007  36.5950000  -82.188889       1961        2007  \n",
       "7   10/2/1999  41.1175000  -73.408333       1965        1999  "
      ]
     },
     "execution_count": 12,
     "metadata": {},
     "output_type": "execute_result"
    }
   ],
   "source": [
    "def grep_year(x):\n",
    "    x = x.split(\" \")[0]\n",
    "    x = x.split(\"/\")[2]\n",
    "    x = int(x)\n",
    "    return x\n",
    "\n",
    "ufodb[\"sightYear\"] = ufodb[\"datetime\"].apply(grep_year)\n",
    "ufodb[\"reportYear\"] = ufodb[\"date posted\"].apply(grep_year)\n",
    "ufodb.head()"
   ]
  },
  {
   "cell_type": "code",
   "execution_count": 13,
   "metadata": {
    "collapsed": true,
    "jupyter": {
     "outputs_hidden": true
    },
    "tags": []
   },
   "outputs": [
    {
     "data": {
      "text/plain": [
       "['CA',\n",
       " 'FL',\n",
       " 'WA',\n",
       " 'TX',\n",
       " 'NY',\n",
       " 'IL',\n",
       " 'AZ',\n",
       " 'PA',\n",
       " 'OH',\n",
       " 'MI',\n",
       " 'NC',\n",
       " 'OR',\n",
       " 'MO',\n",
       " 'CO',\n",
       " 'IN',\n",
       " 'VA',\n",
       " 'MA',\n",
       " 'NJ',\n",
       " 'GA',\n",
       " 'WI',\n",
       " 'TN',\n",
       " 'MN',\n",
       " 'SC',\n",
       " 'CT',\n",
       " 'KY',\n",
       " 'MD',\n",
       " 'NV',\n",
       " 'OK',\n",
       " 'NM',\n",
       " 'IA',\n",
       " 'AL',\n",
       " 'UT',\n",
       " 'KS',\n",
       " 'AR',\n",
       " 'LA',\n",
       " 'ME',\n",
       " 'ID',\n",
       " 'NH',\n",
       " 'MT',\n",
       " 'WV',\n",
       " 'NE',\n",
       " 'MS',\n",
       " 'AK',\n",
       " 'HI',\n",
       " 'VT',\n",
       " 'RI',\n",
       " 'SD',\n",
       " 'WY',\n",
       " 'DE',\n",
       " 'ND',\n",
       " 'PR',\n",
       " 'DC']"
      ]
     },
     "execution_count": 13,
     "metadata": {},
     "output_type": "execute_result"
    }
   ],
   "source": [
    "states_us = ufodb[ufodb.country == \"us\"][\"state\"].value_counts().index\n",
    "states_us = [i.upper() for i in states_us]\n",
    "states_us"
   ]
  },
  {
   "cell_type": "code",
   "execution_count": 14,
   "metadata": {},
   "outputs": [
    {
     "data": {
      "text/plain": [
       "array([8683, 3754, 3707, 3398, 2915, 2447, 2362, 2319, 2251, 1781, 1722,\n",
       "       1667, 1431, 1385, 1268, 1248, 1238, 1236, 1235, 1205, 1091,  996,\n",
       "        986,  865,  843,  818,  778,  714,  693,  669,  629,  611,  599,\n",
       "        578,  547,  544,  508,  482,  460,  438,  373,  368,  311,  257,\n",
       "        254,  224,  177,  169,  165,  123,   24,    7])"
      ]
     },
     "execution_count": 14,
     "metadata": {},
     "output_type": "execute_result"
    }
   ],
   "source": [
    "states_ratio = ufodb[ufodb.country == \"us\"][\"state\"].value_counts().values\n",
    "states_ratio"
   ]
  },
  {
   "cell_type": "code",
   "execution_count": 312,
   "metadata": {},
   "outputs": [
    {
     "name": "stderr",
     "output_type": "stream",
     "text": [
      "/opt/anaconda3/lib/python3.7/site-packages/seaborn/_decorators.py:43: FutureWarning:\n",
      "\n",
      "Pass the following variables as keyword args: x, y. From version 0.12, the only valid positional argument will be `data`, and passing other arguments without an explicit keyword will result in an error or misinterpretation.\n",
      "\n"
     ]
    },
    {
     "data": {
      "image/png": "[encoded data removed]",
      "text/plain": [
       "<Figure size 1080x648 with 1 Axes>"
      ]
     },
     "metadata": {},
     "output_type": "display_data"
    }
   ],
   "source": [
    "plt.subplots(figsize=(15,9))\n",
    "sns.barplot(states_us, states_ratio)\n",
    "plt.xticks(rotation=45, fontsize=13)\n",
    "plt.yticks(fontsize=12)\n",
    "plt.title('UFO sightings in the US (by state) from 1934 to 2013')\n",
    "plt.show();"
   ]
  },
  {
   "cell_type": "code",
   "execution_count": 311,
   "metadata": {},
   "outputs": [
    {
     "data": {
      "application/vnd.plotly.v1+json": {
       "config": {
        "linkText": "Export to plot.ly",
        "plotlyServerURL": "https://plot.ly",
        "showLink": false
       },
       "data": [
        {
         "colorbar": {
          "title": {
           "text": "sight rates by states"
          }
         },
         "locationmode": "USA-states",
         "locations": [
          "CA",
          "FL",
          "WA",
          "TX",
          "NY",
          "IL",
          "AZ",
          "PA",
          "OH",
          "MI",
          "NC",
          "OR",
          "MO",
          "CO",
          "IN",
          "VA",
          "MA",
          "NJ",
          "GA",
          "WI",
          "TN",
          "MN",
          "SC",
          "CT",
          "KY",
          "MD",
          "NV",
          "OK",
          "NM",
          "IA",
          "AL",
          "UT",
          "KS",
          "AR",
          "LA",
          "ME",
          "ID",
          "NH",
          "MT",
          "WV",
          "NE",
          "MS",
          "AK",
          "HI",
          "VT",
          "RI",
          "SD",
          "WY",
          "DE",
          "ND",
          "PR",
          "DC"
         ],
         "marker": {
          "line": {
           "color": "rgb(255,255,255)",
           "width": 2
          }
         },
         "text": "times",
         "type": "choropleth",
         "z": [
          8683,
          3754,
          3707,
          3398,
          2915,
          2447,
          2362,
          2319,
          2251,
          1781,
          1722,
          1667,
          1431,
          1385,
          1268,
          1248,
          1238,
          1236,
          1235,
          1205,
          1091,
          996,
          986,
          865,
          843,
          818,
          778,
          714,
          693,
          669,
          629,
          611,
          599,
          578,
          547,
          544,
          508,
          482,
          460,
          438,
          373,
          368,
          311,
          257,
          254,
          224,
          177,
          169,
          165,
          123,
          24,
          7
         ]
        }
       ],
       "layout": {
        "autosize": true,
        "dragmode": "pan",
        "geo": {
         "center": {
          "lat": 35.48231268769783,
          "lon": -123.13477812188235
         },
         "lakecolor": "rgb(255,255,255)",
         "projection": {
          "scale": 1.1814584129227952,
          "type": "albers usa"
         },
         "scope": "usa",
         "showlakes": true
        },
        "template": {
         "data": {
          "bar": [
           {
            "error_x": {
             "color": "#2a3f5f"
            },
            "error_y": {
             "color": "#2a3f5f"
            },
            "marker": {
             "line": {
              "color": "#E5ECF6",
              "width": 0.5
             },
             "pattern": {
              "fillmode": "overlay",
              "size": 10,
              "solidity": 0.2
             }
            },
            "type": "bar"
           }
          ],
          "barpolar": [
           {
            "marker": {
             "line": {
              "color": "#E5ECF6",
              "width": 0.5
             },
             "pattern": {
              "fillmode": "overlay",
              "size": 10,
              "solidity": 0.2
             }
            },
            "type": "barpolar"
           }
          ],
          "carpet": [
           {
            "aaxis": {
             "endlinecolor": "#2a3f5f",
             "gridcolor": "white",
             "linecolor": "white",
             "minorgridcolor": "white",
             "startlinecolor": "#2a3f5f"
            },
            "baxis": {
             "endlinecolor": "#2a3f5f",
             "gridcolor": "white",
             "linecolor": "white",
             "minorgridcolor": "white",
             "startlinecolor": "#2a3f5f"
            },
            "type": "carpet"
           }
          ],
          "choropleth": [
           {
            "colorbar": {
             "outlinewidth": 0,
             "ticks": ""
            },
            "type": "choropleth"
           }
          ],
          "contour": [
           {
            "colorbar": {
             "outlinewidth": 0,
             "ticks": ""
            },
            "colorscale": [
             [
              0,
              "#0d0887"
             ],
             [
              0.1111111111111111,
              "#46039f"
             ],
             [
              0.2222222222222222,
              "#7201a8"
             ],
             [
              0.3333333333333333,
              "#9c179e"
             ],
             [
              0.4444444444444444,
              "#bd3786"
             ],
             [
              0.5555555555555556,
              "#d8576b"
             ],
             [
              0.6666666666666666,
              "#ed7953"
             ],
             [
              0.7777777777777778,
              "#fb9f3a"
             ],
             [
              0.8888888888888888,
              "#fdca26"
             ],
             [
              1,
              "#f0f921"
             ]
            ],
            "type": "contour"
           }
          ],
          "contourcarpet": [
           {
            "colorbar": {
             "outlinewidth": 0,
             "ticks": ""
            },
            "type": "contourcarpet"
           }
          ],
          "heatmap": [
           {
            "colorbar": {
             "outlinewidth": 0,
             "ticks": ""
            },
            "colorscale": [
             [
              0,
              "#0d0887"
             ],
             [
              0.1111111111111111,
              "#46039f"
             ],
             [
              0.2222222222222222,
              "#7201a8"
             ],
             [
              0.3333333333333333,
              "#9c179e"
             ],
             [
              0.4444444444444444,
              "#bd3786"
             ],
             [
              0.5555555555555556,
              "#d8576b"
             ],
             [
              0.6666666666666666,
              "#ed7953"
             ],
             [
              0.7777777777777778,
              "#fb9f3a"
             ],
             [
              0.8888888888888888,
              "#fdca26"
             ],
             [
              1,
              "#f0f921"
             ]
            ],
            "type": "heatmap"
           }
          ],
          "heatmapgl": [
           {
            "colorbar": {
             "outlinewidth": 0,
             "ticks": ""
            },
            "colorscale": [
             [
              0,
              "#0d0887"
             ],
             [
              0.1111111111111111,
              "#46039f"
             ],
             [
              0.2222222222222222,
              "#7201a8"
             ],
             [
              0.3333333333333333,
              "#9c179e"
             ],
             [
              0.4444444444444444,
              "#bd3786"
             ],
             [
              0.5555555555555556,
              "#d8576b"
             ],
             [
              0.6666666666666666,
              "#ed7953"
             ],
             [
              0.7777777777777778,
              "#fb9f3a"
             ],
             [
              0.8888888888888888,
              "#fdca26"
             ],
             [
              1,
              "#f0f921"
             ]
            ],
            "type": "heatmapgl"
           }
          ],
          "histogram": [
           {
            "marker": {
             "pattern": {
              "fillmode": "overlay",
              "size": 10,
              "solidity": 0.2
             }
            },
            "type": "histogram"
           }
          ],
          "histogram2d": [
           {
            "colorbar": {
             "outlinewidth": 0,
             "ticks": ""
            },
            "colorscale": [
             [
              0,
              "#0d0887"
             ],
             [
              0.1111111111111111,
              "#46039f"
             ],
             [
              0.2222222222222222,
              "#7201a8"
             ],
             [
              0.3333333333333333,
              "#9c179e"
             ],
             [
              0.4444444444444444,
              "#bd3786"
             ],
             [
              0.5555555555555556,
              "#d8576b"
             ],
             [
              0.6666666666666666,
              "#ed7953"
             ],
             [
              0.7777777777777778,
              "#fb9f3a"
             ],
             [
              0.8888888888888888,
              "#fdca26"
             ],
             [
              1,
              "#f0f921"
             ]
            ],
            "type": "histogram2d"
           }
          ],
          "histogram2dcontour": [
           {
            "colorbar": {
             "outlinewidth": 0,
             "ticks": ""
            },
            "colorscale": [
             [
              0,
              "#0d0887"
             ],
             [
              0.1111111111111111,
              "#46039f"
             ],
             [
              0.2222222222222222,
              "#7201a8"
             ],
             [
              0.3333333333333333,
              "#9c179e"
             ],
             [
              0.4444444444444444,
              "#bd3786"
             ],
             [
              0.5555555555555556,
              "#d8576b"
             ],
             [
              0.6666666666666666,
              "#ed7953"
             ],
             [
              0.7777777777777778,
              "#fb9f3a"
             ],
             [
              0.8888888888888888,
              "#fdca26"
             ],
             [
              1,
              "#f0f921"
             ]
            ],
            "type": "histogram2dcontour"
           }
          ],
          "mesh3d": [
           {
            "colorbar": {
             "outlinewidth": 0,
             "ticks": ""
            },
            "type": "mesh3d"
           }
          ],
          "parcoords": [
           {
            "line": {
             "colorbar": {
              "outlinewidth": 0,
              "ticks": ""
             }
            },
            "type": "parcoords"
           }
          ],
          "pie": [
           {
            "automargin": true,
            "type": "pie"
           }
          ],
          "scatter": [
           {
            "marker": {
             "colorbar": {
              "outlinewidth": 0,
              "ticks": ""
             }
            },
            "type": "scatter"
           }
          ],
          "scatter3d": [
           {
            "line": {
             "colorbar": {
              "outlinewidth": 0,
              "ticks": ""
             }
            },
            "marker": {
             "colorbar": {
              "outlinewidth": 0,
              "ticks": ""
             }
            },
            "type": "scatter3d"
           }
          ],
          "scattercarpet": [
           {
            "marker": {
             "colorbar": {
              "outlinewidth": 0,
              "ticks": ""
             }
            },
            "type": "scattercarpet"
           }
          ],
          "scattergeo": [
           {
            "marker": {
             "colorbar": {
              "outlinewidth": 0,
              "ticks": ""
             }
            },
            "type": "scattergeo"
           }
          ],
          "scattergl": [
           {
            "marker": {
             "colorbar": {
              "outlinewidth": 0,
              "ticks": ""
             }
            },
            "type": "scattergl"
           }
          ],
          "scattermapbox": [
           {
            "marker": {
             "colorbar": {
              "outlinewidth": 0,
              "ticks": ""
             }
            },
            "type": "scattermapbox"
           }
          ],
          "scatterpolar": [
           {
            "marker": {
             "colorbar": {
              "outlinewidth": 0,
              "ticks": ""
             }
            },
            "type": "scatterpolar"
           }
          ],
          "scatterpolargl": [
           {
            "marker": {
             "colorbar": {
              "outlinewidth": 0,
              "ticks": ""
             }
            },
            "type": "scatterpolargl"
           }
          ],
          "scatterternary": [
           {
            "marker": {
             "colorbar": {
              "outlinewidth": 0,
              "ticks": ""
             }
            },
            "type": "scatterternary"
           }
          ],
          "surface": [
           {
            "colorbar": {
             "outlinewidth": 0,
             "ticks": ""
            },
            "colorscale": [
             [
              0,
              "#0d0887"
             ],
             [
              0.1111111111111111,
              "#46039f"
             ],
             [
              0.2222222222222222,
              "#7201a8"
             ],
             [
              0.3333333333333333,
              "#9c179e"
             ],
             [
              0.4444444444444444,
              "#bd3786"
             ],
             [
              0.5555555555555556,
              "#d8576b"
             ],
             [
              0.6666666666666666,
              "#ed7953"
             ],
             [
              0.7777777777777778,
              "#fb9f3a"
             ],
             [
              0.8888888888888888,
              "#fdca26"
             ],
             [
              1,
              "#f0f921"
             ]
            ],
            "type": "surface"
           }
          ],
          "table": [
           {
            "cells": {
             "fill": {
              "color": "#EBF0F8"
             },
             "line": {
              "color": "white"
             }
            },
            "header": {
             "fill": {
              "color": "#C8D4E3"
             },
             "line": {
              "color": "white"
             }
            },
            "type": "table"
           }
          ]
         },
         "layout": {
          "annotationdefaults": {
           "arrowcolor": "#2a3f5f",
           "arrowhead": 0,
           "arrowwidth": 1
          },
          "autotypenumbers": "strict",
          "coloraxis": {
           "colorbar": {
            "outlinewidth": 0,
            "ticks": ""
           }
          },
          "colorscale": {
           "diverging": [
            [
             0,
             "#8e0152"
            ],
            [
             0.1,
             "#c51b7d"
            ],
            [
             0.2,
             "#de77ae"
            ],
            [
             0.3,
             "#f1b6da"
            ],
            [
             0.4,
             "#fde0ef"
            ],
            [
             0.5,
             "#f7f7f7"
            ],
            [
             0.6,
             "#e6f5d0"
            ],
            [
             0.7,
             "#b8e186"
            ],
            [
             0.8,
             "#7fbc41"
            ],
            [
             0.9,
             "#4d9221"
            ],
            [
             1,
             "#276419"
            ]
           ],
           "sequential": [
            [
             0,
             "#0d0887"
            ],
            [
             0.1111111111111111,
             "#46039f"
            ],
            [
             0.2222222222222222,
             "#7201a8"
            ],
            [
             0.3333333333333333,
             "#9c179e"
            ],
            [
             0.4444444444444444,
             "#bd3786"
            ],
            [
             0.5555555555555556,
             "#d8576b"
            ],
            [
             0.6666666666666666,
             "#ed7953"
            ],
            [
             0.7777777777777778,
             "#fb9f3a"
            ],
            [
             0.8888888888888888,
             "#fdca26"
            ],
            [
             1,
             "#f0f921"
            ]
           ],
           "sequentialminus": [
            [
             0,
             "#0d0887"
            ],
            [
             0.1111111111111111,
             "#46039f"
            ],
            [
             0.2222222222222222,
             "#7201a8"
            ],
            [
             0.3333333333333333,
             "#9c179e"
            ],
            [
             0.4444444444444444,
             "#bd3786"
            ],
            [
             0.5555555555555556,
             "#d8576b"
            ],
            [
             0.6666666666666666,
             "#ed7953"
            ],
            [
             0.7777777777777778,
             "#fb9f3a"
            ],
            [
             0.8888888888888888,
             "#fdca26"
            ],
            [
             1,
             "#f0f921"
            ]
           ]
          },
          "colorway": [
           "#636efa",
           "#EF553B",
           "#00cc96",
           "#ab63fa",
           "#FFA15A",
           "#19d3f3",
           "#FF6692",
           "#B6E880",
           "#FF97FF",
           "#FECB52"
          ],
          "font": {
           "color": "#2a3f5f"
          },
          "geo": {
           "bgcolor": "white",
           "lakecolor": "white",
           "landcolor": "#E5ECF6",
           "showlakes": true,
           "showland": true,
           "subunitcolor": "white"
          },
          "hoverlabel": {
           "align": "left"
          },
          "hovermode": "closest",
          "mapbox": {
           "style": "light"
          },
          "paper_bgcolor": "white",
          "plot_bgcolor": "#E5ECF6",
          "polar": {
           "angularaxis": {
            "gridcolor": "white",
            "linecolor": "white",
            "ticks": ""
           },
           "bgcolor": "#E5ECF6",
           "radialaxis": {
            "gridcolor": "white",
            "linecolor": "white",
            "ticks": ""
           }
          },
          "scene": {
           "xaxis": {
            "backgroundcolor": "#E5ECF6",
            "gridcolor": "white",
            "gridwidth": 2,
            "linecolor": "white",
            "showbackground": true,
            "ticks": "",
            "zerolinecolor": "white"
           },
           "yaxis": {
            "backgroundcolor": "#E5ECF6",
            "gridcolor": "white",
            "gridwidth": 2,
            "linecolor": "white",
            "showbackground": true,
            "ticks": "",
            "zerolinecolor": "white"
           },
           "zaxis": {
            "backgroundcolor": "#E5ECF6",
            "gridcolor": "white",
            "gridwidth": 2,
            "linecolor": "white",
            "showbackground": true,
            "ticks": "",
            "zerolinecolor": "white"
           }
          },
          "shapedefaults": {
           "line": {
            "color": "#2a3f5f"
           }
          },
          "ternary": {
           "aaxis": {
            "gridcolor": "white",
            "linecolor": "white",
            "ticks": ""
           },
           "baxis": {
            "gridcolor": "white",
            "linecolor": "white",
            "ticks": ""
           },
           "bgcolor": "#E5ECF6",
           "caxis": {
            "gridcolor": "white",
            "linecolor": "white",
            "ticks": ""
           }
          },
          "title": {
           "x": 0.05
          },
          "xaxis": {
           "automargin": true,
           "gridcolor": "white",
           "linecolor": "white",
           "ticks": "",
           "title": {
            "standoff": 15
           },
           "zerolinecolor": "white",
           "zerolinewidth": 2
          },
          "yaxis": {
           "automargin": true,
           "gridcolor": "white",
           "linecolor": "white",
           "ticks": "",
           "title": {
            "standoff": 15
           },
           "zerolinecolor": "white",
           "zerolinewidth": 2
          }
         }
        },
        "title": {
         "text": "ufo sight rates"
        }
       }
      },
      "image/png": "[encoded data removed]",
      "text/html": [
       "<div>                            <div id=\"927934a3-9086-47a3-894b-ac56f7e1c6cb\" class=\"plotly-graph-div\" style=\"height:525px; width:100%;\"></div>            <script type=\"text/javascript\">                require([\"plotly\"], function(Plotly) {                    window.PLOTLYENV=window.PLOTLYENV || {};                                    if (document.getElementById(\"927934a3-9086-47a3-894b-ac56f7e1c6cb\")) {                    Plotly.newPlot(                        \"927934a3-9086-47a3-894b-ac56f7e1c6cb\",                        [{\"colorbar\":{\"title\":{\"text\":\"sight rates by states\"}},\"locationmode\":\"USA-states\",\"locations\":[\"CA\",\"FL\",\"WA\",\"TX\",\"NY\",\"IL\",\"AZ\",\"PA\",\"OH\",\"MI\",\"NC\",\"OR\",\"MO\",\"CO\",\"IN\",\"VA\",\"MA\",\"NJ\",\"GA\",\"WI\",\"TN\",\"MN\",\"SC\",\"CT\",\"KY\",\"MD\",\"NV\",\"OK\",\"NM\",\"IA\",\"AL\",\"UT\",\"KS\",\"AR\",\"LA\",\"ME\",\"ID\",\"NH\",\"MT\",\"WV\",\"NE\",\"MS\",\"AK\",\"HI\",\"VT\",\"RI\",\"SD\",\"WY\",\"DE\",\"ND\",\"PR\",\"DC\"],\"marker\":{\"line\":{\"color\":\"rgb(255,255,255)\",\"width\":2}},\"text\":\"times\",\"type\":\"choropleth\",\"z\":[8683,3754,3707,3398,2915,2447,2362,2319,2251,1781,1722,1667,1431,1385,1268,1248,1238,1236,1235,1205,1091,996,986,865,843,818,778,714,693,669,629,611,599,578,547,544,508,482,460,438,373,368,311,257,254,224,177,169,165,123,24,7]}],                        {\"geo\":{\"lakecolor\":\"rgb(255,255,255)\",\"projection\":{\"type\":\"albers usa\"},\"scope\":\"usa\",\"showlakes\":true},\"template\":{\"data\":{\"bar\":[{\"error_x\":{\"color\":\"#2a3f5f\"},\"error_y\":{\"color\":\"#2a3f5f\"},\"marker\":{\"line\":{\"color\":\"#E5ECF6\",\"width\":0.5},\"pattern\":{\"fillmode\":\"overlay\",\"size\":10,\"solidity\":0.2}},\"type\":\"bar\"}],\"barpolar\":[{\"marker\":{\"line\":{\"color\":\"#E5ECF6\",\"width\":0.5},\"pattern\":{\"fillmode\":\"overlay\",\"size\":10,\"solidity\":0.2}},\"type\":\"barpolar\"}],\"carpet\":[{\"aaxis\":{\"endlinecolor\":\"#2a3f5f\",\"gridcolor\":\"white\",\"linecolor\":\"white\",\"minorgridcolor\":\"white\",\"startlinecolor\":\"#2a3f5f\"},\"baxis\":{\"endlinecolor\":\"#2a3f5f\",\"gridcolor\":\"white\",\"linecolor\":\"white\",\"minorgridcolor\":\"white\",\"startlinecolor\":\"#2a3f5f\"},\"type\":\"carpet\"}],\"choropleth\":[{\"colorbar\":{\"outlinewidth\":0,\"ticks\":\"\"},\"type\":\"choropleth\"}],\"contour\":[{\"colorbar\":{\"outlinewidth\":0,\"ticks\":\"\"},\"colorscale\":[[0.0,\"#0d0887\"],[0.1111111111111111,\"#46039f\"],[0.2222222222222222,\"#7201a8\"],[0.3333333333333333,\"#9c179e\"],[0.4444444444444444,\"#bd3786\"],[0.5555555555555556,\"#d8576b\"],[0.6666666666666666,\"#ed7953\"],[0.7777777777777778,\"#fb9f3a\"],[0.8888888888888888,\"#fdca26\"],[1.0,\"#f0f921\"]],\"type\":\"contour\"}],\"contourcarpet\":[{\"colorbar\":{\"outlinewidth\":0,\"ticks\":\"\"},\"type\":\"contourcarpet\"}],\"heatmap\":[{\"colorbar\":{\"outlinewidth\":0,\"ticks\":\"\"},\"colorscale\":[[0.0,\"#0d0887\"],[0.1111111111111111,\"#46039f\"],[0.2222222222222222,\"#7201a8\"],[0.3333333333333333,\"#9c179e\"],[0.4444444444444444,\"#bd3786\"],[0.5555555555555556,\"#d8576b\"],[0.6666666666666666,\"#ed7953\"],[0.7777777777777778,\"#fb9f3a\"],[0.8888888888888888,\"#fdca26\"],[1.0,\"#f0f921\"]],\"type\":\"heatmap\"}],\"heatmapgl\":[{\"colorbar\":{\"outlinewidth\":0,\"ticks\":\"\"},\"colorscale\":[[0.0,\"#0d0887\"],[0.1111111111111111,\"#46039f\"],[0.2222222222222222,\"#7201a8\"],[0.3333333333333333,\"#9c179e\"],[0.4444444444444444,\"#bd3786\"],[0.5555555555555556,\"#d8576b\"],[0.6666666666666666,\"#ed7953\"],[0.7777777777777778,\"#fb9f3a\"],[0.8888888888888888,\"#fdca26\"],[1.0,\"#f0f921\"]],\"type\":\"heatmapgl\"}],\"histogram\":[{\"marker\":{\"pattern\":{\"fillmode\":\"overlay\",\"size\":10,\"solidity\":0.2}},\"type\":\"histogram\"}],\"histogram2d\":[{\"colorbar\":{\"outlinewidth\":0,\"ticks\":\"\"},\"colorscale\":[[0.0,\"#0d0887\"],[0.1111111111111111,\"#46039f\"],[0.2222222222222222,\"#7201a8\"],[0.3333333333333333,\"#9c179e\"],[0.4444444444444444,\"#bd3786\"],[0.5555555555555556,\"#d8576b\"],[0.6666666666666666,\"#ed7953\"],[0.7777777777777778,\"#fb9f3a\"],[0.8888888888888888,\"#fdca26\"],[1.0,\"#f0f921\"]],\"type\":\"histogram2d\"}],\"histogram2dcontour\":[{\"colorbar\":{\"outlinewidth\":0,\"ticks\":\"\"},\"colorscale\":[[0.0,\"#0d0887\"],[0.1111111111111111,\"#46039f\"],[0.2222222222222222,\"#7201a8\"],[0.3333333333333333,\"#9c179e\"],[0.4444444444444444,\"#bd3786\"],[0.5555555555555556,\"#d8576b\"],[0.6666666666666666,\"#ed7953\"],[0.7777777777777778,\"#fb9f3a\"],[0.8888888888888888,\"#fdca26\"],[1.0,\"#f0f921\"]],\"type\":\"histogram2dcontour\"}],\"mesh3d\":[{\"colorbar\":{\"outlinewidth\":0,\"ticks\":\"\"},\"type\":\"mesh3d\"}],\"parcoords\":[{\"line\":{\"colorbar\":{\"outlinewidth\":0,\"ticks\":\"\"}},\"type\":\"parcoords\"}],\"pie\":[{\"automargin\":true,\"type\":\"pie\"}],\"scatter\":[{\"marker\":{\"colorbar\":{\"outlinewidth\":0,\"ticks\":\"\"}},\"type\":\"scatter\"}],\"scatter3d\":[{\"line\":{\"colorbar\":{\"outlinewidth\":0,\"ticks\":\"\"}},\"marker\":{\"colorbar\":{\"outlinewidth\":0,\"ticks\":\"\"}},\"type\":\"scatter3d\"}],\"scattercarpet\":[{\"marker\":{\"colorbar\":{\"outlinewidth\":0,\"ticks\":\"\"}},\"type\":\"scattercarpet\"}],\"scattergeo\":[{\"marker\":{\"colorbar\":{\"outlinewidth\":0,\"ticks\":\"\"}},\"type\":\"scattergeo\"}],\"scattergl\":[{\"marker\":{\"colorbar\":{\"outlinewidth\":0,\"ticks\":\"\"}},\"type\":\"scattergl\"}],\"scattermapbox\":[{\"marker\":{\"colorbar\":{\"outlinewidth\":0,\"ticks\":\"\"}},\"type\":\"scattermapbox\"}],\"scatterpolar\":[{\"marker\":{\"colorbar\":{\"outlinewidth\":0,\"ticks\":\"\"}},\"type\":\"scatterpolar\"}],\"scatterpolargl\":[{\"marker\":{\"colorbar\":{\"outlinewidth\":0,\"ticks\":\"\"}},\"type\":\"scatterpolargl\"}],\"scatterternary\":[{\"marker\":{\"colorbar\":{\"outlinewidth\":0,\"ticks\":\"\"}},\"type\":\"scatterternary\"}],\"surface\":[{\"colorbar\":{\"outlinewidth\":0,\"ticks\":\"\"},\"colorscale\":[[0.0,\"#0d0887\"],[0.1111111111111111,\"#46039f\"],[0.2222222222222222,\"#7201a8\"],[0.3333333333333333,\"#9c179e\"],[0.4444444444444444,\"#bd3786\"],[0.5555555555555556,\"#d8576b\"],[0.6666666666666666,\"#ed7953\"],[0.7777777777777778,\"#fb9f3a\"],[0.8888888888888888,\"#fdca26\"],[1.0,\"#f0f921\"]],\"type\":\"surface\"}],\"table\":[{\"cells\":{\"fill\":{\"color\":\"#EBF0F8\"},\"line\":{\"color\":\"white\"}},\"header\":{\"fill\":{\"color\":\"#C8D4E3\"},\"line\":{\"color\":\"white\"}},\"type\":\"table\"}]},\"layout\":{\"annotationdefaults\":{\"arrowcolor\":\"#2a3f5f\",\"arrowhead\":0,\"arrowwidth\":1},\"autotypenumbers\":\"strict\",\"coloraxis\":{\"colorbar\":{\"outlinewidth\":0,\"ticks\":\"\"}},\"colorscale\":{\"diverging\":[[0,\"#8e0152\"],[0.1,\"#c51b7d\"],[0.2,\"#de77ae\"],[0.3,\"#f1b6da\"],[0.4,\"#fde0ef\"],[0.5,\"#f7f7f7\"],[0.6,\"#e6f5d0\"],[0.7,\"#b8e186\"],[0.8,\"#7fbc41\"],[0.9,\"#4d9221\"],[1,\"#276419\"]],\"sequential\":[[0.0,\"#0d0887\"],[0.1111111111111111,\"#46039f\"],[0.2222222222222222,\"#7201a8\"],[0.3333333333333333,\"#9c179e\"],[0.4444444444444444,\"#bd3786\"],[0.5555555555555556,\"#d8576b\"],[0.6666666666666666,\"#ed7953\"],[0.7777777777777778,\"#fb9f3a\"],[0.8888888888888888,\"#fdca26\"],[1.0,\"#f0f921\"]],\"sequentialminus\":[[0.0,\"#0d0887\"],[0.1111111111111111,\"#46039f\"],[0.2222222222222222,\"#7201a8\"],[0.3333333333333333,\"#9c179e\"],[0.4444444444444444,\"#bd3786\"],[0.5555555555555556,\"#d8576b\"],[0.6666666666666666,\"#ed7953\"],[0.7777777777777778,\"#fb9f3a\"],[0.8888888888888888,\"#fdca26\"],[1.0,\"#f0f921\"]]},\"colorway\":[\"#636efa\",\"#EF553B\",\"#00cc96\",\"#ab63fa\",\"#FFA15A\",\"#19d3f3\",\"#FF6692\",\"#B6E880\",\"#FF97FF\",\"#FECB52\"],\"font\":{\"color\":\"#2a3f5f\"},\"geo\":{\"bgcolor\":\"white\",\"lakecolor\":\"white\",\"landcolor\":\"#E5ECF6\",\"showlakes\":true,\"showland\":true,\"subunitcolor\":\"white\"},\"hoverlabel\":{\"align\":\"left\"},\"hovermode\":\"closest\",\"mapbox\":{\"style\":\"light\"},\"paper_bgcolor\":\"white\",\"plot_bgcolor\":\"#E5ECF6\",\"polar\":{\"angularaxis\":{\"gridcolor\":\"white\",\"linecolor\":\"white\",\"ticks\":\"\"},\"bgcolor\":\"#E5ECF6\",\"radialaxis\":{\"gridcolor\":\"white\",\"linecolor\":\"white\",\"ticks\":\"\"}},\"scene\":{\"xaxis\":{\"backgroundcolor\":\"#E5ECF6\",\"gridcolor\":\"white\",\"gridwidth\":2,\"linecolor\":\"white\",\"showbackground\":true,\"ticks\":\"\",\"zerolinecolor\":\"white\"},\"yaxis\":{\"backgroundcolor\":\"#E5ECF6\",\"gridcolor\":\"white\",\"gridwidth\":2,\"linecolor\":\"white\",\"showbackground\":true,\"ticks\":\"\",\"zerolinecolor\":\"white\"},\"zaxis\":{\"backgroundcolor\":\"#E5ECF6\",\"gridcolor\":\"white\",\"gridwidth\":2,\"linecolor\":\"white\",\"showbackground\":true,\"ticks\":\"\",\"zerolinecolor\":\"white\"}},\"shapedefaults\":{\"line\":{\"color\":\"#2a3f5f\"}},\"ternary\":{\"aaxis\":{\"gridcolor\":\"white\",\"linecolor\":\"white\",\"ticks\":\"\"},\"baxis\":{\"gridcolor\":\"white\",\"linecolor\":\"white\",\"ticks\":\"\"},\"bgcolor\":\"#E5ECF6\",\"caxis\":{\"gridcolor\":\"white\",\"linecolor\":\"white\",\"ticks\":\"\"}},\"title\":{\"x\":0.05},\"xaxis\":{\"automargin\":true,\"gridcolor\":\"white\",\"linecolor\":\"white\",\"ticks\":\"\",\"title\":{\"standoff\":15},\"zerolinecolor\":\"white\",\"zerolinewidth\":2},\"yaxis\":{\"automargin\":true,\"gridcolor\":\"white\",\"linecolor\":\"white\",\"ticks\":\"\",\"title\":{\"standoff\":15},\"zerolinecolor\":\"white\",\"zerolinewidth\":2}}},\"title\":{\"text\":\"ufo sight rates\"}},                        {\"responsive\": true}                    ).then(function(){\n",
       "                            \n",
       "var gd = document.getElementById('927934a3-9086-47a3-894b-ac56f7e1c6cb');\n",
       "var x = new MutationObserver(function (mutations, observer) {{\n",
       "        var display = window.getComputedStyle(gd).display;\n",
       "        if (!display || display === 'none') {{\n",
       "            console.log([gd, 'removed!']);\n",
       "            Plotly.purge(gd);\n",
       "            observer.disconnect();\n",
       "        }}\n",
       "}});\n",
       "\n",
       "// Listen for the removal of the full notebook cells\n",
       "var notebookContainer = gd.closest('#notebook-container');\n",
       "if (notebookContainer) {{\n",
       "    x.observe(notebookContainer, {childList: true});\n",
       "}}\n",
       "\n",
       "// Listen for the clearing of the current output cell\n",
       "var outputEl = gd.closest('.output');\n",
       "if (outputEl) {{\n",
       "    x.observe(outputEl, {childList: true});\n",
       "}}\n",
       "\n",
       "                        })                };                });            </script>        </div>"
      ]
     },
     "metadata": {},
     "output_type": "display_data"
    }
   ],
   "source": [
    "data = [\n",
    "    dict(\n",
    "    type=\"choropleth\",\n",
    "    locations = states_us,\n",
    "    z = states_ratio,\n",
    "    locationmode = \"USA-states\",\n",
    "    text = \"times\",\n",
    "    marker = dict(\n",
    "        line = dict(\n",
    "            color = \"rgb(255,255,255)\",\n",
    "            width = 2\n",
    "        )),\n",
    "    colorbar = dict(\n",
    "    title = \"sight rates by states\")\n",
    "    )\n",
    "]\n",
    "\n",
    "layout = dict(\n",
    "    title = \"ufo sight rates\",\n",
    "    geo = dict(\n",
    "        scope = \"usa\",\n",
    "        projection = dict( type = \"albers usa\" ),\n",
    "        showlakes = True,\n",
    "        lakecolor = \"rgb(255,255,255)\"),\n",
    "\n",
    ")\n",
    "\n",
    "fig = go.Figure(data=data, layout=layout)\n",
    "py.iplot(fig,\n",
    "        image_width = 1200,\n",
    "        image_height = 1200)"
   ]
  },
  {
   "cell_type": "code",
   "execution_count": 17,
   "metadata": {},
   "outputs": [
    {
     "data": {
      "text/html": [
       "<div>\n",
       "<style scoped>\n",
       "    .dataframe tbody tr th:only-of-type {\n",
       "        vertical-align: middle;\n",
       "    }\n",
       "\n",
       "    .dataframe tbody tr th {\n",
       "        vertical-align: top;\n",
       "    }\n",
       "\n",
       "    .dataframe thead th {\n",
       "        text-align: right;\n",
       "    }\n",
       "</style>\n",
       "<table border=\"1\" class=\"dataframe\">\n",
       "  <thead>\n",
       "    <tr style=\"text-align: right;\">\n",
       "      <th></th>\n",
       "      <th>datetime</th>\n",
       "      <th>city</th>\n",
       "      <th>state</th>\n",
       "      <th>country</th>\n",
       "      <th>shape</th>\n",
       "      <th>duration (seconds)</th>\n",
       "      <th>duration (hours/min)</th>\n",
       "      <th>comments</th>\n",
       "      <th>date posted</th>\n",
       "      <th>latitude</th>\n",
       "      <th>longitude</th>\n",
       "      <th>sightYear</th>\n",
       "      <th>reportYear</th>\n",
       "    </tr>\n",
       "  </thead>\n",
       "  <tbody>\n",
       "    <tr>\n",
       "      <th>0</th>\n",
       "      <td>10/10/1949 20:30</td>\n",
       "      <td>san marcos</td>\n",
       "      <td>tx</td>\n",
       "      <td>us</td>\n",
       "      <td>cylinder</td>\n",
       "      <td>2700</td>\n",
       "      <td>45 minutes</td>\n",
       "      <td>This event took place in early fall around 194...</td>\n",
       "      <td>4/27/2004</td>\n",
       "      <td>29.8830556</td>\n",
       "      <td>-97.941111</td>\n",
       "      <td>1949</td>\n",
       "      <td>2004</td>\n",
       "    </tr>\n",
       "    <tr>\n",
       "      <th>3</th>\n",
       "      <td>10/10/1956 21:00</td>\n",
       "      <td>edna</td>\n",
       "      <td>tx</td>\n",
       "      <td>us</td>\n",
       "      <td>circle</td>\n",
       "      <td>20</td>\n",
       "      <td>1/2 hour</td>\n",
       "      <td>My older brother and twin sister were leaving ...</td>\n",
       "      <td>1/17/2004</td>\n",
       "      <td>28.9783333</td>\n",
       "      <td>-96.645833</td>\n",
       "      <td>1956</td>\n",
       "      <td>2004</td>\n",
       "    </tr>\n",
       "    <tr>\n",
       "      <th>4</th>\n",
       "      <td>10/10/1960 20:00</td>\n",
       "      <td>kaneohe</td>\n",
       "      <td>hi</td>\n",
       "      <td>us</td>\n",
       "      <td>light</td>\n",
       "      <td>900</td>\n",
       "      <td>15 minutes</td>\n",
       "      <td>AS a Marine 1st Lt. flying an FJ4B fighter/att...</td>\n",
       "      <td>1/22/2004</td>\n",
       "      <td>21.4180556</td>\n",
       "      <td>-157.803611</td>\n",
       "      <td>1960</td>\n",
       "      <td>2004</td>\n",
       "    </tr>\n",
       "    <tr>\n",
       "      <th>5</th>\n",
       "      <td>10/10/1961 19:00</td>\n",
       "      <td>bristol</td>\n",
       "      <td>tn</td>\n",
       "      <td>us</td>\n",
       "      <td>sphere</td>\n",
       "      <td>300</td>\n",
       "      <td>5 minutes</td>\n",
       "      <td>My father is now 89 my brother 52 the girl wit...</td>\n",
       "      <td>4/27/2007</td>\n",
       "      <td>36.5950000</td>\n",
       "      <td>-82.188889</td>\n",
       "      <td>1961</td>\n",
       "      <td>2007</td>\n",
       "    </tr>\n",
       "    <tr>\n",
       "      <th>7</th>\n",
       "      <td>10/10/1965 23:45</td>\n",
       "      <td>norwalk</td>\n",
       "      <td>ct</td>\n",
       "      <td>us</td>\n",
       "      <td>disk</td>\n",
       "      <td>1200</td>\n",
       "      <td>20 minutes</td>\n",
       "      <td>A bright orange color changing to reddish colo...</td>\n",
       "      <td>10/2/1999</td>\n",
       "      <td>41.1175000</td>\n",
       "      <td>-73.408333</td>\n",
       "      <td>1965</td>\n",
       "      <td>1999</td>\n",
       "    </tr>\n",
       "  </tbody>\n",
       "</table>\n",
       "</div>"
      ],
      "text/plain": [
       "           datetime        city state country     shape duration (seconds)  \\\n",
       "0  10/10/1949 20:30  san marcos    tx      us  cylinder               2700   \n",
       "3  10/10/1956 21:00        edna    tx      us    circle                 20   \n",
       "4  10/10/1960 20:00     kaneohe    hi      us     light                900   \n",
       "5  10/10/1961 19:00     bristol    tn      us    sphere                300   \n",
       "7  10/10/1965 23:45     norwalk    ct      us      disk               1200   \n",
       "\n",
       "  duration (hours/min)                                           comments  \\\n",
       "0           45 minutes  This event took place in early fall around 194...   \n",
       "3             1/2 hour  My older brother and twin sister were leaving ...   \n",
       "4           15 minutes  AS a Marine 1st Lt. flying an FJ4B fighter/att...   \n",
       "5            5 minutes  My father is now 89 my brother 52 the girl wit...   \n",
       "7           20 minutes  A bright orange color changing to reddish colo...   \n",
       "\n",
       "  date posted    latitude  longitude   sightYear  reportYear  \n",
       "0   4/27/2004  29.8830556  -97.941111       1949        2004  \n",
       "3   1/17/2004  28.9783333  -96.645833       1956        2004  \n",
       "4   1/22/2004  21.4180556 -157.803611       1960        2004  \n",
       "5   4/27/2007  36.5950000  -82.188889       1961        2007  \n",
       "7   10/2/1999  41.1175000  -73.408333       1965        1999  "
      ]
     },
     "execution_count": 17,
     "metadata": {},
     "output_type": "execute_result"
    }
   ],
   "source": [
    "ufodb.head()"
   ]
  },
  {
   "cell_type": "code",
   "execution_count": 18,
   "metadata": {},
   "outputs": [
    {
     "data": {
      "text/plain": [
       "0        This event took place in early fall around 194...\n",
       "3        My older brother and twin sister were leaving ...\n",
       "4        AS a Marine 1st Lt. flying an FJ4B fighter/att...\n",
       "5        My father is now 89 my brother 52 the girl wit...\n",
       "7        A bright orange color changing to reddish colo...\n",
       "                               ...                        \n",
       "80327    Round from the distance/slowly changing colors...\n",
       "80328    Boise&#44 ID&#44 spherical&#44 20 min&#44 10 r...\n",
       "80329                                         Napa UFO&#44\n",
       "80330    Saw a five gold lit cicular craft moving fastl...\n",
       "80331    2 witnesses 2  miles apart&#44 Red &amp; White...\n",
       "Name: comments, Length: 63553, dtype: object"
      ]
     },
     "execution_count": 18,
     "metadata": {},
     "output_type": "execute_result"
    }
   ],
   "source": [
    "ufodb['comments']"
   ]
  },
  {
   "cell_type": "code",
   "execution_count": 20,
   "metadata": {},
   "outputs": [
    {
     "data": {
      "text/plain": [
       "1934       1\n",
       "1941       1\n",
       "1929       1\n",
       "1925       1\n",
       "1920       1\n",
       "        ... \n",
       "2009    3612\n",
       "2008    3971\n",
       "2011    4332\n",
       "2013    5991\n",
       "2012    6253\n",
       "Name: sightYear, Length: 83, dtype: int64"
      ]
     },
     "execution_count": 20,
     "metadata": {},
     "output_type": "execute_result"
    }
   ],
   "source": [
    "ufodb['sightYear'].value_counts().sort_values()"
   ]
  },
  {
   "cell_type": "code",
   "execution_count": 49,
   "metadata": {},
   "outputs": [],
   "source": [
    "# Creating a dataset where we look at just UFO sightings from 2000 and on.\n",
    "\n",
    "ufo2k = ufodb[ufodb['sightYear'].isin(range(2000,2014))]"
   ]
  },
  {
   "cell_type": "code",
   "execution_count": 50,
   "metadata": {},
   "outputs": [
    {
     "data": {
      "text/html": [
       "<div>\n",
       "<style scoped>\n",
       "    .dataframe tbody tr th:only-of-type {\n",
       "        vertical-align: middle;\n",
       "    }\n",
       "\n",
       "    .dataframe tbody tr th {\n",
       "        vertical-align: top;\n",
       "    }\n",
       "\n",
       "    .dataframe thead th {\n",
       "        text-align: right;\n",
       "    }\n",
       "</style>\n",
       "<table border=\"1\" class=\"dataframe\">\n",
       "  <thead>\n",
       "    <tr style=\"text-align: right;\">\n",
       "      <th></th>\n",
       "      <th>datetime</th>\n",
       "      <th>city</th>\n",
       "      <th>state</th>\n",
       "      <th>country</th>\n",
       "      <th>shape</th>\n",
       "      <th>duration (seconds)</th>\n",
       "      <th>duration (hours/min)</th>\n",
       "      <th>comments</th>\n",
       "      <th>date posted</th>\n",
       "      <th>latitude</th>\n",
       "      <th>longitude</th>\n",
       "      <th>sightYear</th>\n",
       "      <th>reportYear</th>\n",
       "    </tr>\n",
       "  </thead>\n",
       "  <tbody>\n",
       "    <tr>\n",
       "      <th>93</th>\n",
       "      <td>10/10/2000 03:00</td>\n",
       "      <td>perryville</td>\n",
       "      <td>mo</td>\n",
       "      <td>us</td>\n",
       "      <td>oval</td>\n",
       "      <td>180</td>\n",
       "      <td>3 minutes</td>\n",
       "      <td>The craft was big&amp;#44 orange&amp;#44 and oval shaped.</td>\n",
       "      <td>12/2/2000</td>\n",
       "      <td>37.7241667</td>\n",
       "      <td>-89.861111</td>\n",
       "      <td>2000</td>\n",
       "      <td>2000</td>\n",
       "    </tr>\n",
       "    <tr>\n",
       "      <th>94</th>\n",
       "      <td>10/10/2000 06:15</td>\n",
       "      <td>boynton beach</td>\n",
       "      <td>fl</td>\n",
       "      <td>us</td>\n",
       "      <td>other</td>\n",
       "      <td>10</td>\n",
       "      <td>10 seconds</td>\n",
       "      <td>Unusual light formation moving extremely fast ...</td>\n",
       "      <td>12/2/2000</td>\n",
       "      <td>26.5250000</td>\n",
       "      <td>-80.066667</td>\n",
       "      <td>2000</td>\n",
       "      <td>2000</td>\n",
       "    </tr>\n",
       "    <tr>\n",
       "      <th>98</th>\n",
       "      <td>10/10/2000 20:30</td>\n",
       "      <td>brinktown</td>\n",
       "      <td>mo</td>\n",
       "      <td>us</td>\n",
       "      <td>light</td>\n",
       "      <td>1800</td>\n",
       "      <td>30 min.</td>\n",
       "      <td>3 bright golden lights moving independently ab...</td>\n",
       "      <td>12/2/2000</td>\n",
       "      <td>38.1266667</td>\n",
       "      <td>-92.084444</td>\n",
       "      <td>2000</td>\n",
       "      <td>2000</td>\n",
       "    </tr>\n",
       "    <tr>\n",
       "      <th>99</th>\n",
       "      <td>10/10/2000 21:30</td>\n",
       "      <td>florence</td>\n",
       "      <td>ky</td>\n",
       "      <td>us</td>\n",
       "      <td>light</td>\n",
       "      <td>5</td>\n",
       "      <td>4-5 seconds</td>\n",
       "      <td>Two objects traveling side by side pass over&amp;#...</td>\n",
       "      <td>12/2/2000</td>\n",
       "      <td>38.9988889</td>\n",
       "      <td>-84.626667</td>\n",
       "      <td>2000</td>\n",
       "      <td>2000</td>\n",
       "    </tr>\n",
       "    <tr>\n",
       "      <th>100</th>\n",
       "      <td>10/10/2000 21:30</td>\n",
       "      <td>seattle (west)</td>\n",
       "      <td>wa</td>\n",
       "      <td>us</td>\n",
       "      <td>unknown</td>\n",
       "      <td>10</td>\n",
       "      <td>10 sec</td>\n",
       "      <td>Dark object in the shape of a (4) after dusk i...</td>\n",
       "      <td>2/11/2003</td>\n",
       "      <td>47.6063889</td>\n",
       "      <td>-122.330833</td>\n",
       "      <td>2000</td>\n",
       "      <td>2003</td>\n",
       "    </tr>\n",
       "  </tbody>\n",
       "</table>\n",
       "</div>"
      ],
      "text/plain": [
       "             datetime            city state country    shape  \\\n",
       "93   10/10/2000 03:00      perryville    mo      us     oval   \n",
       "94   10/10/2000 06:15   boynton beach    fl      us    other   \n",
       "98   10/10/2000 20:30       brinktown    mo      us    light   \n",
       "99   10/10/2000 21:30        florence    ky      us    light   \n",
       "100  10/10/2000 21:30  seattle (west)    wa      us  unknown   \n",
       "\n",
       "    duration (seconds) duration (hours/min)  \\\n",
       "93                 180            3 minutes   \n",
       "94                  10           10 seconds   \n",
       "98                1800              30 min.   \n",
       "99                   5          4-5 seconds   \n",
       "100                 10               10 sec   \n",
       "\n",
       "                                              comments date posted  \\\n",
       "93   The craft was big&#44 orange&#44 and oval shaped.   12/2/2000   \n",
       "94   Unusual light formation moving extremely fast ...   12/2/2000   \n",
       "98   3 bright golden lights moving independently ab...   12/2/2000   \n",
       "99   Two objects traveling side by side pass over&#...   12/2/2000   \n",
       "100  Dark object in the shape of a (4) after dusk i...   2/11/2003   \n",
       "\n",
       "       latitude  longitude   sightYear  reportYear  \n",
       "93   37.7241667  -89.861111       2000        2000  \n",
       "94   26.5250000  -80.066667       2000        2000  \n",
       "98   38.1266667  -92.084444       2000        2000  \n",
       "99   38.9988889  -84.626667       2000        2000  \n",
       "100  47.6063889 -122.330833       2000        2003  "
      ]
     },
     "execution_count": 50,
     "metadata": {},
     "output_type": "execute_result"
    }
   ],
   "source": [
    "ufo2k.head()"
   ]
  },
  {
   "cell_type": "code",
   "execution_count": 51,
   "metadata": {},
   "outputs": [
    {
     "data": {
      "text/html": [
       "<div>\n",
       "<style scoped>\n",
       "    .dataframe tbody tr th:only-of-type {\n",
       "        vertical-align: middle;\n",
       "    }\n",
       "\n",
       "    .dataframe tbody tr th {\n",
       "        vertical-align: top;\n",
       "    }\n",
       "\n",
       "    .dataframe thead th {\n",
       "        text-align: right;\n",
       "    }\n",
       "</style>\n",
       "<table border=\"1\" class=\"dataframe\">\n",
       "  <thead>\n",
       "    <tr style=\"text-align: right;\">\n",
       "      <th></th>\n",
       "      <th>datetime</th>\n",
       "      <th>city</th>\n",
       "      <th>state</th>\n",
       "      <th>country</th>\n",
       "      <th>shape</th>\n",
       "      <th>duration (seconds)</th>\n",
       "      <th>duration (hours/min)</th>\n",
       "      <th>comments</th>\n",
       "      <th>date posted</th>\n",
       "      <th>latitude</th>\n",
       "      <th>longitude</th>\n",
       "      <th>sightYear</th>\n",
       "      <th>reportYear</th>\n",
       "    </tr>\n",
       "  </thead>\n",
       "  <tbody>\n",
       "    <tr>\n",
       "      <th>80327</th>\n",
       "      <td>9/9/2013 21:15</td>\n",
       "      <td>nashville</td>\n",
       "      <td>tn</td>\n",
       "      <td>us</td>\n",
       "      <td>light</td>\n",
       "      <td>600.0</td>\n",
       "      <td>10 minutes</td>\n",
       "      <td>Round from the distance/slowly changing colors...</td>\n",
       "      <td>9/30/2013</td>\n",
       "      <td>36.165833</td>\n",
       "      <td>-86.784444</td>\n",
       "      <td>2013</td>\n",
       "      <td>2013</td>\n",
       "    </tr>\n",
       "    <tr>\n",
       "      <th>80328</th>\n",
       "      <td>9/9/2013 22:00</td>\n",
       "      <td>boise</td>\n",
       "      <td>id</td>\n",
       "      <td>us</td>\n",
       "      <td>circle</td>\n",
       "      <td>1200.0</td>\n",
       "      <td>20 minutes</td>\n",
       "      <td>Boise&amp;#44 ID&amp;#44 spherical&amp;#44 20 min&amp;#44 10 r...</td>\n",
       "      <td>9/30/2013</td>\n",
       "      <td>43.613611</td>\n",
       "      <td>-116.202500</td>\n",
       "      <td>2013</td>\n",
       "      <td>2013</td>\n",
       "    </tr>\n",
       "    <tr>\n",
       "      <th>80329</th>\n",
       "      <td>9/9/2013 22:00</td>\n",
       "      <td>napa</td>\n",
       "      <td>ca</td>\n",
       "      <td>us</td>\n",
       "      <td>other</td>\n",
       "      <td>1200.0</td>\n",
       "      <td>hour</td>\n",
       "      <td>Napa UFO&amp;#44</td>\n",
       "      <td>9/30/2013</td>\n",
       "      <td>38.297222</td>\n",
       "      <td>-122.284444</td>\n",
       "      <td>2013</td>\n",
       "      <td>2013</td>\n",
       "    </tr>\n",
       "    <tr>\n",
       "      <th>80330</th>\n",
       "      <td>9/9/2013 22:20</td>\n",
       "      <td>vienna</td>\n",
       "      <td>va</td>\n",
       "      <td>us</td>\n",
       "      <td>circle</td>\n",
       "      <td>5.0</td>\n",
       "      <td>5 seconds</td>\n",
       "      <td>Saw a five gold lit cicular craft moving fastl...</td>\n",
       "      <td>9/30/2013</td>\n",
       "      <td>38.901111</td>\n",
       "      <td>-77.265556</td>\n",
       "      <td>2013</td>\n",
       "      <td>2013</td>\n",
       "    </tr>\n",
       "    <tr>\n",
       "      <th>80331</th>\n",
       "      <td>9/9/2013 23:00</td>\n",
       "      <td>edmond</td>\n",
       "      <td>ok</td>\n",
       "      <td>us</td>\n",
       "      <td>cigar</td>\n",
       "      <td>1020.0</td>\n",
       "      <td>17 minutes</td>\n",
       "      <td>2 witnesses 2  miles apart&amp;#44 Red &amp;amp; White...</td>\n",
       "      <td>9/30/2013</td>\n",
       "      <td>35.652778</td>\n",
       "      <td>-97.477778</td>\n",
       "      <td>2013</td>\n",
       "      <td>2013</td>\n",
       "    </tr>\n",
       "  </tbody>\n",
       "</table>\n",
       "</div>"
      ],
      "text/plain": [
       "             datetime       city state country   shape duration (seconds)  \\\n",
       "80327  9/9/2013 21:15  nashville    tn      us   light              600.0   \n",
       "80328  9/9/2013 22:00      boise    id      us  circle             1200.0   \n",
       "80329  9/9/2013 22:00       napa    ca      us   other             1200.0   \n",
       "80330  9/9/2013 22:20     vienna    va      us  circle                5.0   \n",
       "80331  9/9/2013 23:00     edmond    ok      us   cigar             1020.0   \n",
       "\n",
       "      duration (hours/min)                                           comments  \\\n",
       "80327           10 minutes  Round from the distance/slowly changing colors...   \n",
       "80328           20 minutes  Boise&#44 ID&#44 spherical&#44 20 min&#44 10 r...   \n",
       "80329                 hour                                       Napa UFO&#44   \n",
       "80330            5 seconds  Saw a five gold lit cicular craft moving fastl...   \n",
       "80331           17 minutes  2 witnesses 2  miles apart&#44 Red &amp; White...   \n",
       "\n",
       "      date posted   latitude  longitude   sightYear  reportYear  \n",
       "80327   9/30/2013  36.165833  -86.784444       2013        2013  \n",
       "80328   9/30/2013  43.613611 -116.202500       2013        2013  \n",
       "80329   9/30/2013  38.297222 -122.284444       2013        2013  \n",
       "80330   9/30/2013  38.901111  -77.265556       2013        2013  \n",
       "80331   9/30/2013  35.652778  -97.477778       2013        2013  "
      ]
     },
     "execution_count": 51,
     "metadata": {},
     "output_type": "execute_result"
    }
   ],
   "source": [
    "ufo2k.tail()"
   ]
  },
  {
   "cell_type": "code",
   "execution_count": 52,
   "metadata": {},
   "outputs": [
    {
     "data": {
      "text/html": [
       "<div>\n",
       "<style scoped>\n",
       "    .dataframe tbody tr th:only-of-type {\n",
       "        vertical-align: middle;\n",
       "    }\n",
       "\n",
       "    .dataframe tbody tr th {\n",
       "        vertical-align: top;\n",
       "    }\n",
       "\n",
       "    .dataframe thead th {\n",
       "        text-align: right;\n",
       "    }\n",
       "</style>\n",
       "<table border=\"1\" class=\"dataframe\">\n",
       "  <thead>\n",
       "    <tr style=\"text-align: right;\">\n",
       "      <th></th>\n",
       "      <th>datetime</th>\n",
       "      <th>city</th>\n",
       "      <th>state</th>\n",
       "      <th>country</th>\n",
       "      <th>shape</th>\n",
       "      <th>duration (seconds)</th>\n",
       "      <th>duration (hours/min)</th>\n",
       "      <th>comments</th>\n",
       "      <th>date posted</th>\n",
       "      <th>latitude</th>\n",
       "      <th>longitude</th>\n",
       "      <th>sightYear</th>\n",
       "      <th>reportYear</th>\n",
       "    </tr>\n",
       "  </thead>\n",
       "  <tbody>\n",
       "    <tr>\n",
       "      <th>0</th>\n",
       "      <td>10/10/2000 03:00</td>\n",
       "      <td>perryville</td>\n",
       "      <td>mo</td>\n",
       "      <td>us</td>\n",
       "      <td>oval</td>\n",
       "      <td>180</td>\n",
       "      <td>3 minutes</td>\n",
       "      <td>The craft was big&amp;#44 orange&amp;#44 and oval shaped.</td>\n",
       "      <td>12/2/2000</td>\n",
       "      <td>37.7241667</td>\n",
       "      <td>-89.861111</td>\n",
       "      <td>2000</td>\n",
       "      <td>2000</td>\n",
       "    </tr>\n",
       "    <tr>\n",
       "      <th>1</th>\n",
       "      <td>10/10/2000 06:15</td>\n",
       "      <td>boynton beach</td>\n",
       "      <td>fl</td>\n",
       "      <td>us</td>\n",
       "      <td>other</td>\n",
       "      <td>10</td>\n",
       "      <td>10 seconds</td>\n",
       "      <td>Unusual light formation moving extremely fast ...</td>\n",
       "      <td>12/2/2000</td>\n",
       "      <td>26.5250000</td>\n",
       "      <td>-80.066667</td>\n",
       "      <td>2000</td>\n",
       "      <td>2000</td>\n",
       "    </tr>\n",
       "    <tr>\n",
       "      <th>2</th>\n",
       "      <td>10/10/2000 20:30</td>\n",
       "      <td>brinktown</td>\n",
       "      <td>mo</td>\n",
       "      <td>us</td>\n",
       "      <td>light</td>\n",
       "      <td>1800</td>\n",
       "      <td>30 min.</td>\n",
       "      <td>3 bright golden lights moving independently ab...</td>\n",
       "      <td>12/2/2000</td>\n",
       "      <td>38.1266667</td>\n",
       "      <td>-92.084444</td>\n",
       "      <td>2000</td>\n",
       "      <td>2000</td>\n",
       "    </tr>\n",
       "    <tr>\n",
       "      <th>3</th>\n",
       "      <td>10/10/2000 21:30</td>\n",
       "      <td>florence</td>\n",
       "      <td>ky</td>\n",
       "      <td>us</td>\n",
       "      <td>light</td>\n",
       "      <td>5</td>\n",
       "      <td>4-5 seconds</td>\n",
       "      <td>Two objects traveling side by side pass over&amp;#...</td>\n",
       "      <td>12/2/2000</td>\n",
       "      <td>38.9988889</td>\n",
       "      <td>-84.626667</td>\n",
       "      <td>2000</td>\n",
       "      <td>2000</td>\n",
       "    </tr>\n",
       "    <tr>\n",
       "      <th>4</th>\n",
       "      <td>10/10/2000 21:30</td>\n",
       "      <td>seattle (west)</td>\n",
       "      <td>wa</td>\n",
       "      <td>us</td>\n",
       "      <td>unknown</td>\n",
       "      <td>10</td>\n",
       "      <td>10 sec</td>\n",
       "      <td>Dark object in the shape of a (4) after dusk i...</td>\n",
       "      <td>2/11/2003</td>\n",
       "      <td>47.6063889</td>\n",
       "      <td>-122.330833</td>\n",
       "      <td>2000</td>\n",
       "      <td>2003</td>\n",
       "    </tr>\n",
       "    <tr>\n",
       "      <th>...</th>\n",
       "      <td>...</td>\n",
       "      <td>...</td>\n",
       "      <td>...</td>\n",
       "      <td>...</td>\n",
       "      <td>...</td>\n",
       "      <td>...</td>\n",
       "      <td>...</td>\n",
       "      <td>...</td>\n",
       "      <td>...</td>\n",
       "      <td>...</td>\n",
       "      <td>...</td>\n",
       "      <td>...</td>\n",
       "      <td>...</td>\n",
       "    </tr>\n",
       "    <tr>\n",
       "      <th>50236</th>\n",
       "      <td>9/9/2013 21:15</td>\n",
       "      <td>nashville</td>\n",
       "      <td>tn</td>\n",
       "      <td>us</td>\n",
       "      <td>light</td>\n",
       "      <td>600.0</td>\n",
       "      <td>10 minutes</td>\n",
       "      <td>Round from the distance/slowly changing colors...</td>\n",
       "      <td>9/30/2013</td>\n",
       "      <td>36.165833</td>\n",
       "      <td>-86.784444</td>\n",
       "      <td>2013</td>\n",
       "      <td>2013</td>\n",
       "    </tr>\n",
       "    <tr>\n",
       "      <th>50237</th>\n",
       "      <td>9/9/2013 22:00</td>\n",
       "      <td>boise</td>\n",
       "      <td>id</td>\n",
       "      <td>us</td>\n",
       "      <td>circle</td>\n",
       "      <td>1200.0</td>\n",
       "      <td>20 minutes</td>\n",
       "      <td>Boise&amp;#44 ID&amp;#44 spherical&amp;#44 20 min&amp;#44 10 r...</td>\n",
       "      <td>9/30/2013</td>\n",
       "      <td>43.613611</td>\n",
       "      <td>-116.202500</td>\n",
       "      <td>2013</td>\n",
       "      <td>2013</td>\n",
       "    </tr>\n",
       "    <tr>\n",
       "      <th>50238</th>\n",
       "      <td>9/9/2013 22:00</td>\n",
       "      <td>napa</td>\n",
       "      <td>ca</td>\n",
       "      <td>us</td>\n",
       "      <td>other</td>\n",
       "      <td>1200.0</td>\n",
       "      <td>hour</td>\n",
       "      <td>Napa UFO&amp;#44</td>\n",
       "      <td>9/30/2013</td>\n",
       "      <td>38.297222</td>\n",
       "      <td>-122.284444</td>\n",
       "      <td>2013</td>\n",
       "      <td>2013</td>\n",
       "    </tr>\n",
       "    <tr>\n",
       "      <th>50239</th>\n",
       "      <td>9/9/2013 22:20</td>\n",
       "      <td>vienna</td>\n",
       "      <td>va</td>\n",
       "      <td>us</td>\n",
       "      <td>circle</td>\n",
       "      <td>5.0</td>\n",
       "      <td>5 seconds</td>\n",
       "      <td>Saw a five gold lit cicular craft moving fastl...</td>\n",
       "      <td>9/30/2013</td>\n",
       "      <td>38.901111</td>\n",
       "      <td>-77.265556</td>\n",
       "      <td>2013</td>\n",
       "      <td>2013</td>\n",
       "    </tr>\n",
       "    <tr>\n",
       "      <th>50240</th>\n",
       "      <td>9/9/2013 23:00</td>\n",
       "      <td>edmond</td>\n",
       "      <td>ok</td>\n",
       "      <td>us</td>\n",
       "      <td>cigar</td>\n",
       "      <td>1020.0</td>\n",
       "      <td>17 minutes</td>\n",
       "      <td>2 witnesses 2  miles apart&amp;#44 Red &amp;amp; White...</td>\n",
       "      <td>9/30/2013</td>\n",
       "      <td>35.652778</td>\n",
       "      <td>-97.477778</td>\n",
       "      <td>2013</td>\n",
       "      <td>2013</td>\n",
       "    </tr>\n",
       "  </tbody>\n",
       "</table>\n",
       "<p>50241 rows × 13 columns</p>\n",
       "</div>"
      ],
      "text/plain": [
       "               datetime            city state country    shape  \\\n",
       "0      10/10/2000 03:00      perryville    mo      us     oval   \n",
       "1      10/10/2000 06:15   boynton beach    fl      us    other   \n",
       "2      10/10/2000 20:30       brinktown    mo      us    light   \n",
       "3      10/10/2000 21:30        florence    ky      us    light   \n",
       "4      10/10/2000 21:30  seattle (west)    wa      us  unknown   \n",
       "...                 ...             ...   ...     ...      ...   \n",
       "50236    9/9/2013 21:15       nashville    tn      us    light   \n",
       "50237    9/9/2013 22:00           boise    id      us   circle   \n",
       "50238    9/9/2013 22:00            napa    ca      us    other   \n",
       "50239    9/9/2013 22:20          vienna    va      us   circle   \n",
       "50240    9/9/2013 23:00          edmond    ok      us    cigar   \n",
       "\n",
       "      duration (seconds) duration (hours/min)  \\\n",
       "0                    180            3 minutes   \n",
       "1                     10           10 seconds   \n",
       "2                   1800              30 min.   \n",
       "3                      5          4-5 seconds   \n",
       "4                     10               10 sec   \n",
       "...                  ...                  ...   \n",
       "50236              600.0           10 minutes   \n",
       "50237             1200.0           20 minutes   \n",
       "50238             1200.0                 hour   \n",
       "50239                5.0            5 seconds   \n",
       "50240             1020.0           17 minutes   \n",
       "\n",
       "                                                comments date posted  \\\n",
       "0      The craft was big&#44 orange&#44 and oval shaped.   12/2/2000   \n",
       "1      Unusual light formation moving extremely fast ...   12/2/2000   \n",
       "2      3 bright golden lights moving independently ab...   12/2/2000   \n",
       "3      Two objects traveling side by side pass over&#...   12/2/2000   \n",
       "4      Dark object in the shape of a (4) after dusk i...   2/11/2003   \n",
       "...                                                  ...         ...   \n",
       "50236  Round from the distance/slowly changing colors...   9/30/2013   \n",
       "50237  Boise&#44 ID&#44 spherical&#44 20 min&#44 10 r...   9/30/2013   \n",
       "50238                                       Napa UFO&#44   9/30/2013   \n",
       "50239  Saw a five gold lit cicular craft moving fastl...   9/30/2013   \n",
       "50240  2 witnesses 2  miles apart&#44 Red &amp; White...   9/30/2013   \n",
       "\n",
       "         latitude  longitude   sightYear  reportYear  \n",
       "0      37.7241667  -89.861111       2000        2000  \n",
       "1      26.5250000  -80.066667       2000        2000  \n",
       "2      38.1266667  -92.084444       2000        2000  \n",
       "3      38.9988889  -84.626667       2000        2000  \n",
       "4      47.6063889 -122.330833       2000        2003  \n",
       "...           ...         ...        ...         ...  \n",
       "50236   36.165833  -86.784444       2013        2013  \n",
       "50237   43.613611 -116.202500       2013        2013  \n",
       "50238   38.297222 -122.284444       2013        2013  \n",
       "50239   38.901111  -77.265556       2013        2013  \n",
       "50240   35.652778  -97.477778       2013        2013  \n",
       "\n",
       "[50241 rows x 13 columns]"
      ]
     },
     "execution_count": 52,
     "metadata": {},
     "output_type": "execute_result"
    }
   ],
   "source": [
    "ufo2k.reset_index(drop=True)"
   ]
  },
  {
   "cell_type": "code",
   "execution_count": 53,
   "metadata": {},
   "outputs": [
    {
     "data": {
      "text/plain": [
       "(50241, 13)"
      ]
     },
     "execution_count": 53,
     "metadata": {},
     "output_type": "execute_result"
    }
   ],
   "source": [
    "ufo2k.shape"
   ]
  },
  {
   "cell_type": "code",
   "execution_count": 54,
   "metadata": {},
   "outputs": [
    {
     "name": "stderr",
     "output_type": "stream",
     "text": [
      "/opt/anaconda3/lib/python3.7/site-packages/ipykernel_launcher.py:3: SettingWithCopyWarning:\n",
      "\n",
      "\n",
      "A value is trying to be set on a copy of a slice from a DataFrame.\n",
      "Try using .loc[row_indexer,col_indexer] = value instead\n",
      "\n",
      "See the caveats in the documentation: https://pandas.pydata.org/pandas-docs/stable/user_guide/indexing.html#returning-a-view-versus-a-copy\n",
      "\n"
     ]
    }
   ],
   "source": [
    "# Quick check to see how long our comments are:\n",
    "\n",
    "ufo2k['tokenized data'] = [i for i in ufo2k['comments'].str.split()]"
   ]
  },
  {
   "cell_type": "code",
   "execution_count": 56,
   "metadata": {},
   "outputs": [
    {
     "data": {
      "text/html": [
       "<div>\n",
       "<style scoped>\n",
       "    .dataframe tbody tr th:only-of-type {\n",
       "        vertical-align: middle;\n",
       "    }\n",
       "\n",
       "    .dataframe tbody tr th {\n",
       "        vertical-align: top;\n",
       "    }\n",
       "\n",
       "    .dataframe thead th {\n",
       "        text-align: right;\n",
       "    }\n",
       "</style>\n",
       "<table border=\"1\" class=\"dataframe\">\n",
       "  <thead>\n",
       "    <tr style=\"text-align: right;\">\n",
       "      <th></th>\n",
       "      <th>datetime</th>\n",
       "      <th>city</th>\n",
       "      <th>state</th>\n",
       "      <th>country</th>\n",
       "      <th>shape</th>\n",
       "      <th>duration (seconds)</th>\n",
       "      <th>duration (hours/min)</th>\n",
       "      <th>comments</th>\n",
       "      <th>date posted</th>\n",
       "      <th>latitude</th>\n",
       "      <th>longitude</th>\n",
       "      <th>sightYear</th>\n",
       "      <th>reportYear</th>\n",
       "      <th>tokenized data</th>\n",
       "    </tr>\n",
       "  </thead>\n",
       "  <tbody>\n",
       "    <tr>\n",
       "      <th>93</th>\n",
       "      <td>10/10/2000 03:00</td>\n",
       "      <td>perryville</td>\n",
       "      <td>mo</td>\n",
       "      <td>us</td>\n",
       "      <td>oval</td>\n",
       "      <td>180</td>\n",
       "      <td>3 minutes</td>\n",
       "      <td>The craft was big&amp;#44 orange&amp;#44 and oval shaped.</td>\n",
       "      <td>12/2/2000</td>\n",
       "      <td>37.7241667</td>\n",
       "      <td>-89.861111</td>\n",
       "      <td>2000</td>\n",
       "      <td>2000</td>\n",
       "      <td>[The, craft, was, big&amp;#44, orange&amp;#44, and, ov...</td>\n",
       "    </tr>\n",
       "    <tr>\n",
       "      <th>94</th>\n",
       "      <td>10/10/2000 06:15</td>\n",
       "      <td>boynton beach</td>\n",
       "      <td>fl</td>\n",
       "      <td>us</td>\n",
       "      <td>other</td>\n",
       "      <td>10</td>\n",
       "      <td>10 seconds</td>\n",
       "      <td>Unusual light formation moving extremely fast ...</td>\n",
       "      <td>12/2/2000</td>\n",
       "      <td>26.5250000</td>\n",
       "      <td>-80.066667</td>\n",
       "      <td>2000</td>\n",
       "      <td>2000</td>\n",
       "      <td>[Unusual, light, formation, moving, extremely,...</td>\n",
       "    </tr>\n",
       "    <tr>\n",
       "      <th>98</th>\n",
       "      <td>10/10/2000 20:30</td>\n",
       "      <td>brinktown</td>\n",
       "      <td>mo</td>\n",
       "      <td>us</td>\n",
       "      <td>light</td>\n",
       "      <td>1800</td>\n",
       "      <td>30 min.</td>\n",
       "      <td>3 bright golden lights moving independently ab...</td>\n",
       "      <td>12/2/2000</td>\n",
       "      <td>38.1266667</td>\n",
       "      <td>-92.084444</td>\n",
       "      <td>2000</td>\n",
       "      <td>2000</td>\n",
       "      <td>[3, bright, golden, lights, moving, independen...</td>\n",
       "    </tr>\n",
       "    <tr>\n",
       "      <th>99</th>\n",
       "      <td>10/10/2000 21:30</td>\n",
       "      <td>florence</td>\n",
       "      <td>ky</td>\n",
       "      <td>us</td>\n",
       "      <td>light</td>\n",
       "      <td>5</td>\n",
       "      <td>4-5 seconds</td>\n",
       "      <td>Two objects traveling side by side pass over&amp;#...</td>\n",
       "      <td>12/2/2000</td>\n",
       "      <td>38.9988889</td>\n",
       "      <td>-84.626667</td>\n",
       "      <td>2000</td>\n",
       "      <td>2000</td>\n",
       "      <td>[Two, objects, traveling, side, by, side, pass...</td>\n",
       "    </tr>\n",
       "    <tr>\n",
       "      <th>100</th>\n",
       "      <td>10/10/2000 21:30</td>\n",
       "      <td>seattle (west)</td>\n",
       "      <td>wa</td>\n",
       "      <td>us</td>\n",
       "      <td>unknown</td>\n",
       "      <td>10</td>\n",
       "      <td>10 sec</td>\n",
       "      <td>Dark object in the shape of a (4) after dusk i...</td>\n",
       "      <td>2/11/2003</td>\n",
       "      <td>47.6063889</td>\n",
       "      <td>-122.330833</td>\n",
       "      <td>2000</td>\n",
       "      <td>2003</td>\n",
       "      <td>[Dark, object, in, the, shape, of, a, (4), aft...</td>\n",
       "    </tr>\n",
       "    <tr>\n",
       "      <th>...</th>\n",
       "      <td>...</td>\n",
       "      <td>...</td>\n",
       "      <td>...</td>\n",
       "      <td>...</td>\n",
       "      <td>...</td>\n",
       "      <td>...</td>\n",
       "      <td>...</td>\n",
       "      <td>...</td>\n",
       "      <td>...</td>\n",
       "      <td>...</td>\n",
       "      <td>...</td>\n",
       "      <td>...</td>\n",
       "      <td>...</td>\n",
       "      <td>...</td>\n",
       "    </tr>\n",
       "    <tr>\n",
       "      <th>80327</th>\n",
       "      <td>9/9/2013 21:15</td>\n",
       "      <td>nashville</td>\n",
       "      <td>tn</td>\n",
       "      <td>us</td>\n",
       "      <td>light</td>\n",
       "      <td>600.0</td>\n",
       "      <td>10 minutes</td>\n",
       "      <td>Round from the distance/slowly changing colors...</td>\n",
       "      <td>9/30/2013</td>\n",
       "      <td>36.165833</td>\n",
       "      <td>-86.784444</td>\n",
       "      <td>2013</td>\n",
       "      <td>2013</td>\n",
       "      <td>[Round, from, the, distance/slowly, changing, ...</td>\n",
       "    </tr>\n",
       "    <tr>\n",
       "      <th>80328</th>\n",
       "      <td>9/9/2013 22:00</td>\n",
       "      <td>boise</td>\n",
       "      <td>id</td>\n",
       "      <td>us</td>\n",
       "      <td>circle</td>\n",
       "      <td>1200.0</td>\n",
       "      <td>20 minutes</td>\n",
       "      <td>Boise&amp;#44 ID&amp;#44 spherical&amp;#44 20 min&amp;#44 10 r...</td>\n",
       "      <td>9/30/2013</td>\n",
       "      <td>43.613611</td>\n",
       "      <td>-116.202500</td>\n",
       "      <td>2013</td>\n",
       "      <td>2013</td>\n",
       "      <td>[Boise&amp;#44, ID&amp;#44, spherical&amp;#44, 20, min&amp;#44...</td>\n",
       "    </tr>\n",
       "    <tr>\n",
       "      <th>80329</th>\n",
       "      <td>9/9/2013 22:00</td>\n",
       "      <td>napa</td>\n",
       "      <td>ca</td>\n",
       "      <td>us</td>\n",
       "      <td>other</td>\n",
       "      <td>1200.0</td>\n",
       "      <td>hour</td>\n",
       "      <td>Napa UFO&amp;#44</td>\n",
       "      <td>9/30/2013</td>\n",
       "      <td>38.297222</td>\n",
       "      <td>-122.284444</td>\n",
       "      <td>2013</td>\n",
       "      <td>2013</td>\n",
       "      <td>[Napa, UFO&amp;#44]</td>\n",
       "    </tr>\n",
       "    <tr>\n",
       "      <th>80330</th>\n",
       "      <td>9/9/2013 22:20</td>\n",
       "      <td>vienna</td>\n",
       "      <td>va</td>\n",
       "      <td>us</td>\n",
       "      <td>circle</td>\n",
       "      <td>5.0</td>\n",
       "      <td>5 seconds</td>\n",
       "      <td>Saw a five gold lit cicular craft moving fastl...</td>\n",
       "      <td>9/30/2013</td>\n",
       "      <td>38.901111</td>\n",
       "      <td>-77.265556</td>\n",
       "      <td>2013</td>\n",
       "      <td>2013</td>\n",
       "      <td>[Saw, a, five, gold, lit, cicular, craft, movi...</td>\n",
       "    </tr>\n",
       "    <tr>\n",
       "      <th>80331</th>\n",
       "      <td>9/9/2013 23:00</td>\n",
       "      <td>edmond</td>\n",
       "      <td>ok</td>\n",
       "      <td>us</td>\n",
       "      <td>cigar</td>\n",
       "      <td>1020.0</td>\n",
       "      <td>17 minutes</td>\n",
       "      <td>2 witnesses 2  miles apart&amp;#44 Red &amp;amp; White...</td>\n",
       "      <td>9/30/2013</td>\n",
       "      <td>35.652778</td>\n",
       "      <td>-97.477778</td>\n",
       "      <td>2013</td>\n",
       "      <td>2013</td>\n",
       "      <td>[2, witnesses, 2, miles, apart&amp;#44, Red, &amp;amp;...</td>\n",
       "    </tr>\n",
       "  </tbody>\n",
       "</table>\n",
       "<p>50241 rows × 14 columns</p>\n",
       "</div>"
      ],
      "text/plain": [
       "               datetime            city state country    shape  \\\n",
       "93     10/10/2000 03:00      perryville    mo      us     oval   \n",
       "94     10/10/2000 06:15   boynton beach    fl      us    other   \n",
       "98     10/10/2000 20:30       brinktown    mo      us    light   \n",
       "99     10/10/2000 21:30        florence    ky      us    light   \n",
       "100    10/10/2000 21:30  seattle (west)    wa      us  unknown   \n",
       "...                 ...             ...   ...     ...      ...   \n",
       "80327    9/9/2013 21:15       nashville    tn      us    light   \n",
       "80328    9/9/2013 22:00           boise    id      us   circle   \n",
       "80329    9/9/2013 22:00            napa    ca      us    other   \n",
       "80330    9/9/2013 22:20          vienna    va      us   circle   \n",
       "80331    9/9/2013 23:00          edmond    ok      us    cigar   \n",
       "\n",
       "      duration (seconds) duration (hours/min)  \\\n",
       "93                   180            3 minutes   \n",
       "94                    10           10 seconds   \n",
       "98                  1800              30 min.   \n",
       "99                     5          4-5 seconds   \n",
       "100                   10               10 sec   \n",
       "...                  ...                  ...   \n",
       "80327              600.0           10 minutes   \n",
       "80328             1200.0           20 minutes   \n",
       "80329             1200.0                 hour   \n",
       "80330                5.0            5 seconds   \n",
       "80331             1020.0           17 minutes   \n",
       "\n",
       "                                                comments date posted  \\\n",
       "93     The craft was big&#44 orange&#44 and oval shaped.   12/2/2000   \n",
       "94     Unusual light formation moving extremely fast ...   12/2/2000   \n",
       "98     3 bright golden lights moving independently ab...   12/2/2000   \n",
       "99     Two objects traveling side by side pass over&#...   12/2/2000   \n",
       "100    Dark object in the shape of a (4) after dusk i...   2/11/2003   \n",
       "...                                                  ...         ...   \n",
       "80327  Round from the distance/slowly changing colors...   9/30/2013   \n",
       "80328  Boise&#44 ID&#44 spherical&#44 20 min&#44 10 r...   9/30/2013   \n",
       "80329                                       Napa UFO&#44   9/30/2013   \n",
       "80330  Saw a five gold lit cicular craft moving fastl...   9/30/2013   \n",
       "80331  2 witnesses 2  miles apart&#44 Red &amp; White...   9/30/2013   \n",
       "\n",
       "         latitude  longitude   sightYear  reportYear  \\\n",
       "93     37.7241667  -89.861111       2000        2000   \n",
       "94     26.5250000  -80.066667       2000        2000   \n",
       "98     38.1266667  -92.084444       2000        2000   \n",
       "99     38.9988889  -84.626667       2000        2000   \n",
       "100    47.6063889 -122.330833       2000        2003   \n",
       "...           ...         ...        ...         ...   \n",
       "80327   36.165833  -86.784444       2013        2013   \n",
       "80328   43.613611 -116.202500       2013        2013   \n",
       "80329   38.297222 -122.284444       2013        2013   \n",
       "80330   38.901111  -77.265556       2013        2013   \n",
       "80331   35.652778  -97.477778       2013        2013   \n",
       "\n",
       "                                          tokenized data  \n",
       "93     [The, craft, was, big&#44, orange&#44, and, ov...  \n",
       "94     [Unusual, light, formation, moving, extremely,...  \n",
       "98     [3, bright, golden, lights, moving, independen...  \n",
       "99     [Two, objects, traveling, side, by, side, pass...  \n",
       "100    [Dark, object, in, the, shape, of, a, (4), aft...  \n",
       "...                                                  ...  \n",
       "80327  [Round, from, the, distance/slowly, changing, ...  \n",
       "80328  [Boise&#44, ID&#44, spherical&#44, 20, min&#44...  \n",
       "80329                                    [Napa, UFO&#44]  \n",
       "80330  [Saw, a, five, gold, lit, cicular, craft, movi...  \n",
       "80331  [2, witnesses, 2, miles, apart&#44, Red, &amp;...  \n",
       "\n",
       "[50241 rows x 14 columns]"
      ]
     },
     "execution_count": 56,
     "metadata": {},
     "output_type": "execute_result"
    }
   ],
   "source": [
    "ufo2k"
   ]
  },
  {
   "cell_type": "code",
   "execution_count": 57,
   "metadata": {},
   "outputs": [],
   "source": [
    "comment_length = [len(tokens) for tokens in ufo2k['tokenized data']]"
   ]
  },
  {
   "cell_type": "code",
   "execution_count": 58,
   "metadata": {},
   "outputs": [
    {
     "data": {
      "image/png": "[encoded data removed]",
      "text/plain": [
       "<Figure size 864x360 with 1 Axes>"
      ]
     },
     "metadata": {
      "needs_background": "light"
     },
     "output_type": "display_data"
    }
   ],
   "source": [
    "# Checking distribution!\n",
    "\n",
    "plt.figure(figsize = (12, 5))\n",
    "sns.histplot(comment_length)\n",
    "plt.xlabel('Length')\n",
    "plt.ylabel('Count');"
   ]
  },
  {
   "cell_type": "code",
   "execution_count": 59,
   "metadata": {},
   "outputs": [],
   "source": [
    "# I wonder if there's any possiblity we can predict when the comment was made just by the length of the comment...? Or the words within the comments? \n",
    "\n",
    "X = ufo2k['comments']\n",
    "y = ufo2k['sightYear']"
   ]
  },
  {
   "cell_type": "code",
   "execution_count": 60,
   "metadata": {},
   "outputs": [
    {
     "data": {
      "text/plain": [
       "2012    0.124460\n",
       "2013    0.119245\n",
       "2011    0.086224\n",
       "2008    0.079039\n",
       "2009    0.071893\n",
       "2010    0.069804\n",
       "2007    0.068569\n",
       "2004    0.063733\n",
       "2005    0.063534\n",
       "2003    0.058040\n",
       "2006    0.056906\n",
       "2001    0.048029\n",
       "2002    0.047750\n",
       "2000    0.042774\n",
       "Name: sightYear, dtype: float64"
      ]
     },
     "execution_count": 60,
     "metadata": {},
     "output_type": "execute_result"
    }
   ],
   "source": [
    "# Normalize the dataset / stratify because this is a classification model.\n",
    "\n",
    "y.value_counts(normalize = True)"
   ]
  },
  {
   "cell_type": "code",
   "execution_count": 61,
   "metadata": {},
   "outputs": [],
   "source": [
    "X_train, X_test, y_train, y_test = train_test_split(X, y, stratify = y)"
   ]
  },
  {
   "cell_type": "code",
   "execution_count": 112,
   "metadata": {},
   "outputs": [],
   "source": [
    "vect = CountVectorizer(lowercase = True, stop_words = 'english')"
   ]
  },
  {
   "cell_type": "code",
   "execution_count": 113,
   "metadata": {},
   "outputs": [],
   "source": [
    "X_train_cv = vect.fit_transform(X_train)"
   ]
  },
  {
   "cell_type": "code",
   "execution_count": 114,
   "metadata": {},
   "outputs": [],
   "source": [
    "X_test_cv = vect.transform(X_test)"
   ]
  },
  {
   "cell_type": "code",
   "execution_count": 115,
   "metadata": {},
   "outputs": [
    {
     "data": {
      "text/plain": [
       "<37680x16986 sparse matrix of type '<class 'numpy.int64'>'\n",
       "\twith 328134 stored elements in Compressed Sparse Row format>"
      ]
     },
     "execution_count": 115,
     "metadata": {},
     "output_type": "execute_result"
    }
   ],
   "source": [
    "X_train_cv"
   ]
  },
  {
   "cell_type": "code",
   "execution_count": 116,
   "metadata": {},
   "outputs": [
    {
     "data": {
      "text/plain": [
       "array([[0, 0, 0, ..., 0, 0, 0],\n",
       "       [0, 0, 0, ..., 0, 0, 0],\n",
       "       [0, 0, 0, ..., 0, 0, 0],\n",
       "       ...,\n",
       "       [0, 0, 0, ..., 0, 0, 0],\n",
       "       [0, 0, 0, ..., 0, 0, 0],\n",
       "       [0, 0, 0, ..., 0, 0, 0]])"
      ]
     },
     "execution_count": 116,
     "metadata": {},
     "output_type": "execute_result"
    }
   ],
   "source": [
    "X_train_cv.A"
   ]
  },
  {
   "cell_type": "code",
   "execution_count": 117,
   "metadata": {},
   "outputs": [],
   "source": [
    "# Now that we've converted into a numpy array, let us use Multinomial Bayes to see if we can predict the year.\n",
    "\n",
    "nb = MultinomialNB()"
   ]
  },
  {
   "cell_type": "code",
   "execution_count": 118,
   "metadata": {},
   "outputs": [
    {
     "data": {
      "text/plain": [
       "MultinomialNB()"
      ]
     },
     "execution_count": 118,
     "metadata": {},
     "output_type": "execute_result"
    }
   ],
   "source": [
    "nb.fit(X_train_cv, y_train)"
   ]
  },
  {
   "cell_type": "code",
   "execution_count": 119,
   "metadata": {},
   "outputs": [
    {
     "data": {
      "text/plain": [
       "0.1729161690948173"
      ]
     },
     "execution_count": 119,
     "metadata": {},
     "output_type": "execute_result"
    }
   ],
   "source": [
    "# Now we evaluate: \n",
    "\n",
    "nb.score(X_test_cv, y_test)"
   ]
  },
  {
   "cell_type": "code",
   "execution_count": 120,
   "metadata": {},
   "outputs": [
    {
     "data": {
      "text/plain": [
       "0.3742569002123142"
      ]
     },
     "execution_count": 120,
     "metadata": {},
     "output_type": "execute_result"
    }
   ],
   "source": [
    "nb.score(X_train_cv, y_train)"
   ]
  },
  {
   "cell_type": "code",
   "execution_count": 121,
   "metadata": {},
   "outputs": [
    {
     "data": {
      "image/png": "[encoded data removed]",
      "text/plain": [
       "<Figure size 432x288 with 2 Axes>"
      ]
     },
     "metadata": {
      "needs_background": "light"
     },
     "output_type": "display_data"
    }
   ],
   "source": [
    "# Checking confusion matrix: \n",
    "\n",
    "from sklearn.metrics import plot_confusion_matrix\n",
    "plot_confusion_matrix(nb, \n",
    "                      X_test_cv,\n",
    "                      y_test,\n",
    "                      normalize = 'true');"
   ]
  },
  {
   "cell_type": "code",
   "execution_count": 122,
   "metadata": {},
   "outputs": [
    {
     "data": {
      "text/plain": [
       "2012    0.124469\n",
       "2013    0.119241\n",
       "2011    0.086226\n",
       "2008    0.079034\n",
       "2009    0.071895\n",
       "2010    0.069798\n",
       "2007    0.068577\n",
       "2004    0.063721\n",
       "2005    0.063535\n",
       "2003    0.058041\n",
       "2006    0.056900\n",
       "2001    0.048036\n",
       "2002    0.047744\n",
       "2000    0.042781\n",
       "Name: sightYear, dtype: float64"
      ]
     },
     "execution_count": 122,
     "metadata": {},
     "output_type": "execute_result"
    }
   ],
   "source": [
    "y_train.value_counts(normalize = True)"
   ]
  },
  {
   "cell_type": "code",
   "execution_count": 124,
   "metadata": {},
   "outputs": [],
   "source": [
    "from sklearn.pipeline import make_pipeline\n",
    "from sklearn import set_config"
   ]
  },
  {
   "cell_type": "code",
   "execution_count": 127,
   "metadata": {},
   "outputs": [],
   "source": [
    "pipe = make_pipeline(CountVectorizer(lowercase = True, stop_words = 'english'), LogisticRegression(max_iter = 10_000))\n",
    "set_config(display = 'diagram')"
   ]
  },
  {
   "cell_type": "code",
   "execution_count": 128,
   "metadata": {},
   "outputs": [
    {
     "data": {
      "text/html": [
       "<style>#sk-f5a7a763-1574-49cc-94c4-d89a410f18aa {color: black;background-color: white;}#sk-f5a7a763-1574-49cc-94c4-d89a410f18aa pre{padding: 0;}#sk-f5a7a763-1574-49cc-94c4-d89a410f18aa div.sk-toggleable {background-color: white;}#sk-f5a7a763-1574-49cc-94c4-d89a410f18aa label.sk-toggleable__label {cursor: pointer;display: block;width: 100%;margin-bottom: 0;padding: 0.2em 0.3em;box-sizing: border-box;text-align: center;}#sk-f5a7a763-1574-49cc-94c4-d89a410f18aa div.sk-toggleable__content {max-height: 0;max-width: 0;overflow: hidden;text-align: left;background-color: #f0f8ff;}#sk-f5a7a763-1574-49cc-94c4-d89a410f18aa div.sk-toggleable__content pre {margin: 0.2em;color: black;border-radius: 0.25em;background-color: #f0f8ff;}#sk-f5a7a763-1574-49cc-94c4-d89a410f18aa input.sk-toggleable__control:checked~div.sk-toggleable__content {max-height: 200px;max-width: 100%;overflow: auto;}#sk-f5a7a763-1574-49cc-94c4-d89a410f18aa div.sk-estimator input.sk-toggleable__control:checked~label.sk-toggleable__label {background-color: #d4ebff;}#sk-f5a7a763-1574-49cc-94c4-d89a410f18aa div.sk-label input.sk-toggleable__control:checked~label.sk-toggleable__label {background-color: #d4ebff;}#sk-f5a7a763-1574-49cc-94c4-d89a410f18aa input.sk-hidden--visually {border: 0;clip: rect(1px 1px 1px 1px);clip: rect(1px, 1px, 1px, 1px);height: 1px;margin: -1px;overflow: hidden;padding: 0;position: absolute;width: 1px;}#sk-f5a7a763-1574-49cc-94c4-d89a410f18aa div.sk-estimator {font-family: monospace;background-color: #f0f8ff;margin: 0.25em 0.25em;border: 1px dotted black;border-radius: 0.25em;box-sizing: border-box;}#sk-f5a7a763-1574-49cc-94c4-d89a410f18aa div.sk-estimator:hover {background-color: #d4ebff;}#sk-f5a7a763-1574-49cc-94c4-d89a410f18aa div.sk-parallel-item::after {content: \"\";width: 100%;border-bottom: 1px solid gray;flex-grow: 1;}#sk-f5a7a763-1574-49cc-94c4-d89a410f18aa div.sk-label:hover label.sk-toggleable__label {background-color: #d4ebff;}#sk-f5a7a763-1574-49cc-94c4-d89a410f18aa div.sk-serial::before {content: \"\";position: absolute;border-left: 1px solid gray;box-sizing: border-box;top: 2em;bottom: 0;left: 50%;}#sk-f5a7a763-1574-49cc-94c4-d89a410f18aa div.sk-serial {display: flex;flex-direction: column;align-items: center;background-color: white;}#sk-f5a7a763-1574-49cc-94c4-d89a410f18aa div.sk-item {z-index: 1;}#sk-f5a7a763-1574-49cc-94c4-d89a410f18aa div.sk-parallel {display: flex;align-items: stretch;justify-content: center;background-color: white;}#sk-f5a7a763-1574-49cc-94c4-d89a410f18aa div.sk-parallel-item {display: flex;flex-direction: column;position: relative;background-color: white;}#sk-f5a7a763-1574-49cc-94c4-d89a410f18aa div.sk-parallel-item:first-child::after {align-self: flex-end;width: 50%;}#sk-f5a7a763-1574-49cc-94c4-d89a410f18aa div.sk-parallel-item:last-child::after {align-self: flex-start;width: 50%;}#sk-f5a7a763-1574-49cc-94c4-d89a410f18aa div.sk-parallel-item:only-child::after {width: 0;}#sk-f5a7a763-1574-49cc-94c4-d89a410f18aa div.sk-dashed-wrapped {border: 1px dashed gray;margin: 0.2em;box-sizing: border-box;padding-bottom: 0.1em;background-color: white;position: relative;}#sk-f5a7a763-1574-49cc-94c4-d89a410f18aa div.sk-label label {font-family: monospace;font-weight: bold;background-color: white;display: inline-block;line-height: 1.2em;}#sk-f5a7a763-1574-49cc-94c4-d89a410f18aa div.sk-label-container {position: relative;z-index: 2;text-align: center;}#sk-f5a7a763-1574-49cc-94c4-d89a410f18aa div.sk-container {display: inline-block;position: relative;}</style><div id=\"sk-f5a7a763-1574-49cc-94c4-d89a410f18aa\" class\"sk-top-container\"><div class=\"sk-container\"><div class=\"sk-item sk-dashed-wrapped\"><div class=\"sk-label-container\"><div class=\"sk-label sk-toggleable\"><input class=\"sk-toggleable__control sk-hidden--visually\" id=\"5b5ba336-ee66-4ded-90cb-3855fdb94acd\" type=\"checkbox\" ><label class=\"sk-toggleable__label\" for=\"5b5ba336-ee66-4ded-90cb-3855fdb94acd\">Pipeline</label><div class=\"sk-toggleable__content\"><pre>Pipeline(steps=[('countvectorizer', CountVectorizer(stop_words='english')),\n",
       "                ('logisticregression', LogisticRegression(max_iter=10000))])</pre></div></div></div><div class=\"sk-serial\"><div class=\"sk-item\"><div class=\"sk-estimator sk-toggleable\"><input class=\"sk-toggleable__control sk-hidden--visually\" id=\"45743870-079e-4f56-9f73-59e8418cc675\" type=\"checkbox\" ><label class=\"sk-toggleable__label\" for=\"45743870-079e-4f56-9f73-59e8418cc675\">CountVectorizer</label><div class=\"sk-toggleable__content\"><pre>CountVectorizer(stop_words='english')</pre></div></div></div><div class=\"sk-item\"><div class=\"sk-estimator sk-toggleable\"><input class=\"sk-toggleable__control sk-hidden--visually\" id=\"cf8bfd76-0167-4eaa-8a32-a1ad2824812a\" type=\"checkbox\" ><label class=\"sk-toggleable__label\" for=\"cf8bfd76-0167-4eaa-8a32-a1ad2824812a\">LogisticRegression</label><div class=\"sk-toggleable__content\"><pre>LogisticRegression(max_iter=10000)</pre></div></div></div></div></div></div></div>"
      ],
      "text/plain": [
       "Pipeline(steps=[('countvectorizer', CountVectorizer(stop_words='english')),\n",
       "                ('logisticregression', LogisticRegression(max_iter=10000))])"
      ]
     },
     "execution_count": 128,
     "metadata": {},
     "output_type": "execute_result"
    }
   ],
   "source": [
    "pipe.fit(X_train, y_train)"
   ]
  },
  {
   "cell_type": "code",
   "execution_count": 129,
   "metadata": {},
   "outputs": [
    {
     "data": {
      "text/plain": [
       "0.17737441286521774"
      ]
     },
     "execution_count": 129,
     "metadata": {},
     "output_type": "execute_result"
    }
   ],
   "source": [
    "pipe.score(X_test, y_test)"
   ]
  },
  {
   "cell_type": "code",
   "execution_count": 130,
   "metadata": {},
   "outputs": [
    {
     "data": {
      "text/plain": [
       "0.5371284501061571"
      ]
     },
     "execution_count": 130,
     "metadata": {},
     "output_type": "execute_result"
    }
   ],
   "source": [
    "pipe.score(X_train, y_train)"
   ]
  },
  {
   "cell_type": "code",
   "execution_count": 135,
   "metadata": {},
   "outputs": [],
   "source": [
    "from sklearn.model_selection import GridSearchCV\n",
    "from sklearn.tree import DecisionTreeClassifier"
   ]
  },
  {
   "cell_type": "code",
   "execution_count": 144,
   "metadata": {},
   "outputs": [],
   "source": [
    "# It is overfitting by quite a lot. Logistic Regression is not the way to go. What about Decision Tree? \n",
    "\n",
    "pipe_d = make_pipeline(CountVectorizer(stop_words = 'english'), DecisionTreeClassifier())"
   ]
  },
  {
   "cell_type": "code",
   "execution_count": 145,
   "metadata": {},
   "outputs": [
    {
     "data": {
      "text/plain": [
       "{'memory': None,\n",
       " 'steps': [('countvectorizer', CountVectorizer(stop_words='english')),\n",
       "  ('decisiontreeclassifier', DecisionTreeClassifier())],\n",
       " 'verbose': False,\n",
       " 'countvectorizer': CountVectorizer(stop_words='english'),\n",
       " 'decisiontreeclassifier': DecisionTreeClassifier(),\n",
       " 'countvectorizer__analyzer': 'word',\n",
       " 'countvectorizer__binary': False,\n",
       " 'countvectorizer__decode_error': 'strict',\n",
       " 'countvectorizer__dtype': numpy.int64,\n",
       " 'countvectorizer__encoding': 'utf-8',\n",
       " 'countvectorizer__input': 'content',\n",
       " 'countvectorizer__lowercase': True,\n",
       " 'countvectorizer__max_df': 1.0,\n",
       " 'countvectorizer__max_features': None,\n",
       " 'countvectorizer__min_df': 1,\n",
       " 'countvectorizer__ngram_range': (1, 1),\n",
       " 'countvectorizer__preprocessor': None,\n",
       " 'countvectorizer__stop_words': 'english',\n",
       " 'countvectorizer__strip_accents': None,\n",
       " 'countvectorizer__token_pattern': '(?u)\\\\b\\\\w\\\\w+\\\\b',\n",
       " 'countvectorizer__tokenizer': None,\n",
       " 'countvectorizer__vocabulary': None,\n",
       " 'decisiontreeclassifier__ccp_alpha': 0.0,\n",
       " 'decisiontreeclassifier__class_weight': None,\n",
       " 'decisiontreeclassifier__criterion': 'gini',\n",
       " 'decisiontreeclassifier__max_depth': None,\n",
       " 'decisiontreeclassifier__max_features': None,\n",
       " 'decisiontreeclassifier__max_leaf_nodes': None,\n",
       " 'decisiontreeclassifier__min_impurity_decrease': 0.0,\n",
       " 'decisiontreeclassifier__min_impurity_split': None,\n",
       " 'decisiontreeclassifier__min_samples_leaf': 1,\n",
       " 'decisiontreeclassifier__min_samples_split': 2,\n",
       " 'decisiontreeclassifier__min_weight_fraction_leaf': 0.0,\n",
       " 'decisiontreeclassifier__random_state': None,\n",
       " 'decisiontreeclassifier__splitter': 'best'}"
      ]
     },
     "execution_count": 145,
     "metadata": {},
     "output_type": "execute_result"
    }
   ],
   "source": [
    "pipe_d.get_params()"
   ]
  },
  {
   "cell_type": "code",
   "execution_count": 146,
   "metadata": {},
   "outputs": [],
   "source": [
    "params = {\n",
    "          'decisiontreeclassifier__max_depth': range(2, 6),\n",
    "          'decisiontreeclassifier__min_samples_leaf': [2, 3, 4]\n",
    "         } "
   ]
  },
  {
   "cell_type": "code",
   "execution_count": 147,
   "metadata": {},
   "outputs": [],
   "source": [
    "gs = GridSearchCV(estimator = pipe_d, param_grid = params, n_jobs = -1)"
   ]
  },
  {
   "cell_type": "code",
   "execution_count": 148,
   "metadata": {},
   "outputs": [
    {
     "data": {
      "text/html": [
       "<style>#sk-ef9fb84f-0d59-443f-a686-7f90aa541efd {color: black;background-color: white;}#sk-ef9fb84f-0d59-443f-a686-7f90aa541efd pre{padding: 0;}#sk-ef9fb84f-0d59-443f-a686-7f90aa541efd div.sk-toggleable {background-color: white;}#sk-ef9fb84f-0d59-443f-a686-7f90aa541efd label.sk-toggleable__label {cursor: pointer;display: block;width: 100%;margin-bottom: 0;padding: 0.2em 0.3em;box-sizing: border-box;text-align: center;}#sk-ef9fb84f-0d59-443f-a686-7f90aa541efd div.sk-toggleable__content {max-height: 0;max-width: 0;overflow: hidden;text-align: left;background-color: #f0f8ff;}#sk-ef9fb84f-0d59-443f-a686-7f90aa541efd div.sk-toggleable__content pre {margin: 0.2em;color: black;border-radius: 0.25em;background-color: #f0f8ff;}#sk-ef9fb84f-0d59-443f-a686-7f90aa541efd input.sk-toggleable__control:checked~div.sk-toggleable__content {max-height: 200px;max-width: 100%;overflow: auto;}#sk-ef9fb84f-0d59-443f-a686-7f90aa541efd div.sk-estimator input.sk-toggleable__control:checked~label.sk-toggleable__label {background-color: #d4ebff;}#sk-ef9fb84f-0d59-443f-a686-7f90aa541efd div.sk-label input.sk-toggleable__control:checked~label.sk-toggleable__label {background-color: #d4ebff;}#sk-ef9fb84f-0d59-443f-a686-7f90aa541efd input.sk-hidden--visually {border: 0;clip: rect(1px 1px 1px 1px);clip: rect(1px, 1px, 1px, 1px);height: 1px;margin: -1px;overflow: hidden;padding: 0;position: absolute;width: 1px;}#sk-ef9fb84f-0d59-443f-a686-7f90aa541efd div.sk-estimator {font-family: monospace;background-color: #f0f8ff;margin: 0.25em 0.25em;border: 1px dotted black;border-radius: 0.25em;box-sizing: border-box;}#sk-ef9fb84f-0d59-443f-a686-7f90aa541efd div.sk-estimator:hover {background-color: #d4ebff;}#sk-ef9fb84f-0d59-443f-a686-7f90aa541efd div.sk-parallel-item::after {content: \"\";width: 100%;border-bottom: 1px solid gray;flex-grow: 1;}#sk-ef9fb84f-0d59-443f-a686-7f90aa541efd div.sk-label:hover label.sk-toggleable__label {background-color: #d4ebff;}#sk-ef9fb84f-0d59-443f-a686-7f90aa541efd div.sk-serial::before {content: \"\";position: absolute;border-left: 1px solid gray;box-sizing: border-box;top: 2em;bottom: 0;left: 50%;}#sk-ef9fb84f-0d59-443f-a686-7f90aa541efd div.sk-serial {display: flex;flex-direction: column;align-items: center;background-color: white;}#sk-ef9fb84f-0d59-443f-a686-7f90aa541efd div.sk-item {z-index: 1;}#sk-ef9fb84f-0d59-443f-a686-7f90aa541efd div.sk-parallel {display: flex;align-items: stretch;justify-content: center;background-color: white;}#sk-ef9fb84f-0d59-443f-a686-7f90aa541efd div.sk-parallel-item {display: flex;flex-direction: column;position: relative;background-color: white;}#sk-ef9fb84f-0d59-443f-a686-7f90aa541efd div.sk-parallel-item:first-child::after {align-self: flex-end;width: 50%;}#sk-ef9fb84f-0d59-443f-a686-7f90aa541efd div.sk-parallel-item:last-child::after {align-self: flex-start;width: 50%;}#sk-ef9fb84f-0d59-443f-a686-7f90aa541efd div.sk-parallel-item:only-child::after {width: 0;}#sk-ef9fb84f-0d59-443f-a686-7f90aa541efd div.sk-dashed-wrapped {border: 1px dashed gray;margin: 0.2em;box-sizing: border-box;padding-bottom: 0.1em;background-color: white;position: relative;}#sk-ef9fb84f-0d59-443f-a686-7f90aa541efd div.sk-label label {font-family: monospace;font-weight: bold;background-color: white;display: inline-block;line-height: 1.2em;}#sk-ef9fb84f-0d59-443f-a686-7f90aa541efd div.sk-label-container {position: relative;z-index: 2;text-align: center;}#sk-ef9fb84f-0d59-443f-a686-7f90aa541efd div.sk-container {display: inline-block;position: relative;}</style><div id=\"sk-ef9fb84f-0d59-443f-a686-7f90aa541efd\" class\"sk-top-container\"><div class=\"sk-container\"><div class=\"sk-item sk-dashed-wrapped\"><div class=\"sk-label-container\"><div class=\"sk-label sk-toggleable\"><input class=\"sk-toggleable__control sk-hidden--visually\" id=\"edfd668b-b4d4-4277-b8e6-06687dbe5756\" type=\"checkbox\" ><label class=\"sk-toggleable__label\" for=\"edfd668b-b4d4-4277-b8e6-06687dbe5756\">GridSearchCV</label><div class=\"sk-toggleable__content\"><pre>GridSearchCV(estimator=Pipeline(steps=[('countvectorizer',\n",
       "                                        CountVectorizer(stop_words='english')),\n",
       "                                       ('decisiontreeclassifier',\n",
       "                                        DecisionTreeClassifier())]),\n",
       "             n_jobs=-1,\n",
       "             param_grid={'decisiontreeclassifier__max_depth': range(2, 6),\n",
       "                         'decisiontreeclassifier__min_samples_leaf': [2, 3, 4]})</pre></div></div></div><div class=\"sk-parallel\"><div class=\"sk-parallel-item\"><div class=\"sk-item\"><div class=\"sk-serial\"><div class=\"sk-item\"><div class=\"sk-serial\"><div class=\"sk-item\"><div class=\"sk-estimator sk-toggleable\"><input class=\"sk-toggleable__control sk-hidden--visually\" id=\"db4958af-4093-44d3-9545-eb1090b6a435\" type=\"checkbox\" ><label class=\"sk-toggleable__label\" for=\"db4958af-4093-44d3-9545-eb1090b6a435\">CountVectorizer</label><div class=\"sk-toggleable__content\"><pre>CountVectorizer(stop_words='english')</pre></div></div></div><div class=\"sk-item\"><div class=\"sk-estimator sk-toggleable\"><input class=\"sk-toggleable__control sk-hidden--visually\" id=\"cdc32ad6-6198-4086-bf27-fa30c89be3b0\" type=\"checkbox\" ><label class=\"sk-toggleable__label\" for=\"cdc32ad6-6198-4086-bf27-fa30c89be3b0\">DecisionTreeClassifier</label><div class=\"sk-toggleable__content\"><pre>DecisionTreeClassifier()</pre></div></div></div></div></div></div></div></div></div></div></div></div>"
      ],
      "text/plain": [
       "GridSearchCV(estimator=Pipeline(steps=[('countvectorizer',\n",
       "                                        CountVectorizer(stop_words='english')),\n",
       "                                       ('decisiontreeclassifier',\n",
       "                                        DecisionTreeClassifier())]),\n",
       "             n_jobs=-1,\n",
       "             param_grid={'decisiontreeclassifier__max_depth': range(2, 6),\n",
       "                         'decisiontreeclassifier__min_samples_leaf': [2, 3, 4]})"
      ]
     },
     "execution_count": 148,
     "metadata": {},
     "output_type": "execute_result"
    }
   ],
   "source": [
    "gs.fit(X_train, y_train)"
   ]
  },
  {
   "cell_type": "code",
   "execution_count": 149,
   "metadata": {},
   "outputs": [
    {
     "data": {
      "text/plain": [
       "0.13382692460791337"
      ]
     },
     "execution_count": 149,
     "metadata": {},
     "output_type": "execute_result"
    }
   ],
   "source": [
    "gs.score(X_test, y_test)"
   ]
  },
  {
   "cell_type": "code",
   "execution_count": 150,
   "metadata": {},
   "outputs": [],
   "source": [
    "from sklearn.metrics import balanced_accuracy_score"
   ]
  },
  {
   "cell_type": "code",
   "execution_count": 151,
   "metadata": {},
   "outputs": [
    {
     "data": {
      "text/plain": [
       "0.08002234678214885"
      ]
     },
     "execution_count": 151,
     "metadata": {},
     "output_type": "execute_result"
    }
   ],
   "source": [
    "balanced_accuracy_score(y_test, gs.predict(X_test))"
   ]
  },
  {
   "cell_type": "code",
   "execution_count": 153,
   "metadata": {},
   "outputs": [],
   "source": [
    "from sklearn.tree import plot_tree"
   ]
  },
  {
   "cell_type": "code",
   "execution_count": 155,
   "metadata": {},
   "outputs": [
    {
     "data": {
      "text/plain": [
       "58316    Single bright white light observed in eastern ...\n",
       "60826                    Unusual lights in Sanford Florida\n",
       "63285              5 orange oval shape objects in the sky.\n",
       "41480    7 red glowing forms travelling north in format...\n",
       "16770    Flashing light object that flew low to the gro...\n",
       "                               ...                        \n",
       "43702    5 objects travelling at high speed and fliying...\n",
       "22069                   Bright light over Tehachapi&#44 Ca\n",
       "29950    Bright white light in the sky.  Spring Hill TN...\n",
       "64703    UFO sighting over Ocean Beach&#44 CA on 11 AUG...\n",
       "11342                   Odessa tx flying object new years.\n",
       "Name: comments, Length: 37680, dtype: object"
      ]
     },
     "execution_count": 155,
     "metadata": {},
     "output_type": "execute_result"
    }
   ],
   "source": [
    "X_train"
   ]
  },
  {
   "cell_type": "code",
   "execution_count": 159,
   "metadata": {},
   "outputs": [
    {
     "data": {
      "image/png": "[encoded data removed]",
      "text/plain": [
       "<Figure size 2880x720 with 1 Axes>"
      ]
     },
     "metadata": {
      "needs_background": "light"
     },
     "output_type": "display_data"
    }
   ],
   "source": [
    "plt.figure(figsize=(40, 10))\n",
    "plot_tree(gs.best_estimator_.named_steps['decisiontreeclassifier'], filled = True, max_depth = 3);"
   ]
  },
  {
   "cell_type": "code",
   "execution_count": 160,
   "metadata": {},
   "outputs": [],
   "source": [
    "# Looking at most often used words\n",
    "\n",
    "import nltk"
   ]
  },
  {
   "cell_type": "code",
   "execution_count": 169,
   "metadata": {},
   "outputs": [
    {
     "name": "stderr",
     "output_type": "stream",
     "text": [
      "[nltk_data] Downloading package stopwords to /Users/KOH/nltk_data...\n",
      "[nltk_data]   Unzipping corpora/stopwords.zip.\n"
     ]
    },
    {
     "data": {
      "text/plain": [
       "True"
      ]
     },
     "execution_count": 169,
     "metadata": {},
     "output_type": "execute_result"
    }
   ],
   "source": [
    "nltk.download('stopwords')"
   ]
  },
  {
   "cell_type": "code",
   "execution_count": 162,
   "metadata": {},
   "outputs": [
    {
     "data": {
      "text/html": [
       "<div>\n",
       "<style scoped>\n",
       "    .dataframe tbody tr th:only-of-type {\n",
       "        vertical-align: middle;\n",
       "    }\n",
       "\n",
       "    .dataframe tbody tr th {\n",
       "        vertical-align: top;\n",
       "    }\n",
       "\n",
       "    .dataframe thead th {\n",
       "        text-align: right;\n",
       "    }\n",
       "</style>\n",
       "<table border=\"1\" class=\"dataframe\">\n",
       "  <thead>\n",
       "    <tr style=\"text-align: right;\">\n",
       "      <th></th>\n",
       "      <th>datetime</th>\n",
       "      <th>city</th>\n",
       "      <th>state</th>\n",
       "      <th>country</th>\n",
       "      <th>shape</th>\n",
       "      <th>duration (seconds)</th>\n",
       "      <th>duration (hours/min)</th>\n",
       "      <th>comments</th>\n",
       "      <th>date posted</th>\n",
       "      <th>latitude</th>\n",
       "      <th>longitude</th>\n",
       "      <th>sightYear</th>\n",
       "      <th>reportYear</th>\n",
       "      <th>tokenized data</th>\n",
       "    </tr>\n",
       "  </thead>\n",
       "  <tbody>\n",
       "    <tr>\n",
       "      <th>93</th>\n",
       "      <td>10/10/2000 03:00</td>\n",
       "      <td>perryville</td>\n",
       "      <td>mo</td>\n",
       "      <td>us</td>\n",
       "      <td>oval</td>\n",
       "      <td>180</td>\n",
       "      <td>3 minutes</td>\n",
       "      <td>The craft was big&amp;#44 orange&amp;#44 and oval shaped.</td>\n",
       "      <td>12/2/2000</td>\n",
       "      <td>37.7241667</td>\n",
       "      <td>-89.861111</td>\n",
       "      <td>2000</td>\n",
       "      <td>2000</td>\n",
       "      <td>[The, craft, was, big&amp;#44, orange&amp;#44, and, ov...</td>\n",
       "    </tr>\n",
       "    <tr>\n",
       "      <th>94</th>\n",
       "      <td>10/10/2000 06:15</td>\n",
       "      <td>boynton beach</td>\n",
       "      <td>fl</td>\n",
       "      <td>us</td>\n",
       "      <td>other</td>\n",
       "      <td>10</td>\n",
       "      <td>10 seconds</td>\n",
       "      <td>Unusual light formation moving extremely fast ...</td>\n",
       "      <td>12/2/2000</td>\n",
       "      <td>26.5250000</td>\n",
       "      <td>-80.066667</td>\n",
       "      <td>2000</td>\n",
       "      <td>2000</td>\n",
       "      <td>[Unusual, light, formation, moving, extremely,...</td>\n",
       "    </tr>\n",
       "    <tr>\n",
       "      <th>98</th>\n",
       "      <td>10/10/2000 20:30</td>\n",
       "      <td>brinktown</td>\n",
       "      <td>mo</td>\n",
       "      <td>us</td>\n",
       "      <td>light</td>\n",
       "      <td>1800</td>\n",
       "      <td>30 min.</td>\n",
       "      <td>3 bright golden lights moving independently ab...</td>\n",
       "      <td>12/2/2000</td>\n",
       "      <td>38.1266667</td>\n",
       "      <td>-92.084444</td>\n",
       "      <td>2000</td>\n",
       "      <td>2000</td>\n",
       "      <td>[3, bright, golden, lights, moving, independen...</td>\n",
       "    </tr>\n",
       "  </tbody>\n",
       "</table>\n",
       "</div>"
      ],
      "text/plain": [
       "            datetime           city state country  shape duration (seconds)  \\\n",
       "93  10/10/2000 03:00     perryville    mo      us   oval                180   \n",
       "94  10/10/2000 06:15  boynton beach    fl      us  other                 10   \n",
       "98  10/10/2000 20:30      brinktown    mo      us  light               1800   \n",
       "\n",
       "   duration (hours/min)                                           comments  \\\n",
       "93            3 minutes  The craft was big&#44 orange&#44 and oval shaped.   \n",
       "94           10 seconds  Unusual light formation moving extremely fast ...   \n",
       "98              30 min.  3 bright golden lights moving independently ab...   \n",
       "\n",
       "   date posted    latitude  longitude   sightYear  reportYear  \\\n",
       "93   12/2/2000  37.7241667  -89.861111       2000        2000   \n",
       "94   12/2/2000  26.5250000  -80.066667       2000        2000   \n",
       "98   12/2/2000  38.1266667  -92.084444       2000        2000   \n",
       "\n",
       "                                       tokenized data  \n",
       "93  [The, craft, was, big&#44, orange&#44, and, ov...  \n",
       "94  [Unusual, light, formation, moving, extremely,...  \n",
       "98  [3, bright, golden, lights, moving, independen...  "
      ]
     },
     "execution_count": 162,
     "metadata": {},
     "output_type": "execute_result"
    }
   ],
   "source": [
    "ufo2k.head(3)"
   ]
  },
  {
   "cell_type": "code",
   "execution_count": 175,
   "metadata": {},
   "outputs": [
    {
     "name": "stdout",
     "output_type": "stream",
     "text": [
      "        Frequency\n",
      "Word             \n",
      "light       10223\n",
      "lights      10137\n",
      "object       8468\n",
      "bright       8318\n",
      "sky          7619\n",
      "moving       5803\n",
      "orange       4899\n",
      "white        4603\n",
      "red          4214\n",
      "saw          3673\n"
     ]
    }
   ],
   "source": [
    "from collections import Counter\n",
    "\n",
    "top_N = 10\n",
    "\n",
    "stopwords = nltk.corpus.stopwords.words('english')\n",
    "# RegEx for stopwords\n",
    "RE_stopwords = r'\\b(?:{})\\b'.format('|'.join(stopwords))\n",
    "# replace '|'-->' ' and drop all stopwords\n",
    "words = (ufo2k['comments']\n",
    "           .str.lower()\n",
    "           .replace([r'\\|', RE_stopwords], [' ', ''], regex=True)\n",
    "           .str.cat(sep=' ')\n",
    "           .split()\n",
    ")\n",
    "\n",
    "# generate DF out of Counter\n",
    "rslt = pd.DataFrame(Counter(words).most_common(top_N),\n",
    "                    columns=['Word', 'Frequency']).set_index('Word')\n",
    "print(rslt)"
   ]
  },
  {
   "cell_type": "code",
   "execution_count": 186,
   "metadata": {},
   "outputs": [
    {
     "data": {
      "image/png": "[encoded data removed]",
      "text/plain": [
       "<Figure size 864x576 with 1 Axes>"
      ]
     },
     "metadata": {},
     "output_type": "display_data"
    }
   ],
   "source": [
    "rslt.plot(kind = 'bar',\n",
    "         figsize = (12,8),\n",
    "         title='Most common words describing UFO encounters 2000 - 2013');"
   ]
  },
  {
   "cell_type": "code",
   "execution_count": 256,
   "metadata": {},
   "outputs": [],
   "source": [
    "# What about in California...? \n",
    "\n",
    "ufo_ca_2k = ufodb[(ufodb['state'] == 'ca') & (ufodb['sightYear'].isin(range(2000,2014)))]"
   ]
  },
  {
   "cell_type": "code",
   "execution_count": 257,
   "metadata": {},
   "outputs": [
    {
     "data": {
      "text/html": [
       "<div>\n",
       "<style scoped>\n",
       "    .dataframe tbody tr th:only-of-type {\n",
       "        vertical-align: middle;\n",
       "    }\n",
       "\n",
       "    .dataframe tbody tr th {\n",
       "        vertical-align: top;\n",
       "    }\n",
       "\n",
       "    .dataframe thead th {\n",
       "        text-align: right;\n",
       "    }\n",
       "</style>\n",
       "<table border=\"1\" class=\"dataframe\">\n",
       "  <thead>\n",
       "    <tr style=\"text-align: right;\">\n",
       "      <th></th>\n",
       "      <th>datetime</th>\n",
       "      <th>city</th>\n",
       "      <th>state</th>\n",
       "      <th>country</th>\n",
       "      <th>shape</th>\n",
       "      <th>duration (seconds)</th>\n",
       "      <th>duration (hours/min)</th>\n",
       "      <th>comments</th>\n",
       "      <th>date posted</th>\n",
       "      <th>latitude</th>\n",
       "      <th>longitude</th>\n",
       "      <th>sightYear</th>\n",
       "      <th>reportYear</th>\n",
       "    </tr>\n",
       "  </thead>\n",
       "  <tbody>\n",
       "    <tr>\n",
       "      <th>105</th>\n",
       "      <td>10/10/2001 20:35</td>\n",
       "      <td>hayward</td>\n",
       "      <td>ca</td>\n",
       "      <td>us</td>\n",
       "      <td>circle</td>\n",
       "      <td>120</td>\n",
       "      <td>2/min.</td>\n",
       "      <td>FALLING STAR  STOPS  &amp;#39SHOTS OUT  DOZENS OF ...</td>\n",
       "      <td>11/20/2001</td>\n",
       "      <td>37.6688889</td>\n",
       "      <td>-122.079722</td>\n",
       "      <td>2001</td>\n",
       "      <td>2001</td>\n",
       "    </tr>\n",
       "    <tr>\n",
       "      <th>107</th>\n",
       "      <td>10/10/2001 21:30</td>\n",
       "      <td>fresno</td>\n",
       "      <td>ca</td>\n",
       "      <td>us</td>\n",
       "      <td>changing</td>\n",
       "      <td>900</td>\n",
       "      <td>15 min. apprx</td>\n",
       "      <td>Objects were sighted driving north on Highway ...</td>\n",
       "      <td>11/20/2001</td>\n",
       "      <td>36.7477778</td>\n",
       "      <td>-119.771389</td>\n",
       "      <td>2001</td>\n",
       "      <td>2001</td>\n",
       "    </tr>\n",
       "    <tr>\n",
       "      <th>118</th>\n",
       "      <td>10/10/2003 12:00</td>\n",
       "      <td>alhambra</td>\n",
       "      <td>ca</td>\n",
       "      <td>us</td>\n",
       "      <td>oval</td>\n",
       "      <td>300</td>\n",
       "      <td>5 min</td>\n",
       "      <td>3 Black ovals in the sky and a floating movie ...</td>\n",
       "      <td>1/17/2004</td>\n",
       "      <td>34.0952778</td>\n",
       "      <td>-118.126111</td>\n",
       "      <td>2003</td>\n",
       "      <td>2004</td>\n",
       "    </tr>\n",
       "    <tr>\n",
       "      <th>134</th>\n",
       "      <td>10/10/2004 15:00</td>\n",
       "      <td>berkeley</td>\n",
       "      <td>ca</td>\n",
       "      <td>us</td>\n",
       "      <td>unknown</td>\n",
       "      <td>180</td>\n",
       "      <td>3 minutes</td>\n",
       "      <td>While driving my car in the mid afternoon of a...</td>\n",
       "      <td>5/24/2005</td>\n",
       "      <td>37.8716667</td>\n",
       "      <td>-122.271667</td>\n",
       "      <td>2004</td>\n",
       "      <td>2005</td>\n",
       "    </tr>\n",
       "    <tr>\n",
       "      <th>146</th>\n",
       "      <td>10/10/2005 14:45</td>\n",
       "      <td>los angeles</td>\n",
       "      <td>ca</td>\n",
       "      <td>us</td>\n",
       "      <td>egg</td>\n",
       "      <td>10</td>\n",
       "      <td>10 seconds</td>\n",
       "      <td>Egg UFO over Hollywood Hills and LAX in LOS AN...</td>\n",
       "      <td>10/20/2005</td>\n",
       "      <td>34.0522222</td>\n",
       "      <td>-118.242778</td>\n",
       "      <td>2005</td>\n",
       "      <td>2005</td>\n",
       "    </tr>\n",
       "    <tr>\n",
       "      <th>...</th>\n",
       "      <td>...</td>\n",
       "      <td>...</td>\n",
       "      <td>...</td>\n",
       "      <td>...</td>\n",
       "      <td>...</td>\n",
       "      <td>...</td>\n",
       "      <td>...</td>\n",
       "      <td>...</td>\n",
       "      <td>...</td>\n",
       "      <td>...</td>\n",
       "      <td>...</td>\n",
       "      <td>...</td>\n",
       "      <td>...</td>\n",
       "    </tr>\n",
       "    <tr>\n",
       "      <th>80299</th>\n",
       "      <td>9/9/2012 20:00</td>\n",
       "      <td>arcata</td>\n",
       "      <td>ca</td>\n",
       "      <td>us</td>\n",
       "      <td>formation</td>\n",
       "      <td>600.0</td>\n",
       "      <td>10 minutes</td>\n",
       "      <td>Object with red and green lights moving sited ...</td>\n",
       "      <td>9/24/2012</td>\n",
       "      <td>40.866667</td>\n",
       "      <td>-124.081667</td>\n",
       "      <td>2012</td>\n",
       "      <td>2012</td>\n",
       "    </tr>\n",
       "    <tr>\n",
       "      <th>80305</th>\n",
       "      <td>9/9/2012 20:30</td>\n",
       "      <td>ventura</td>\n",
       "      <td>ca</td>\n",
       "      <td>us</td>\n",
       "      <td>chevron</td>\n",
       "      <td>900.0</td>\n",
       "      <td>15 minutes</td>\n",
       "      <td>Beautiful bright blue delta shaped aerobatics.</td>\n",
       "      <td>9/24/2012</td>\n",
       "      <td>34.278333</td>\n",
       "      <td>-119.292222</td>\n",
       "      <td>2012</td>\n",
       "      <td>2012</td>\n",
       "    </tr>\n",
       "    <tr>\n",
       "      <th>80310</th>\n",
       "      <td>9/9/2012 21:00</td>\n",
       "      <td>ventura</td>\n",
       "      <td>ca</td>\n",
       "      <td>us</td>\n",
       "      <td>circle</td>\n",
       "      <td>300.0</td>\n",
       "      <td>5 minutes</td>\n",
       "      <td>Bright Blue Object seen floating in sky near C...</td>\n",
       "      <td>9/24/2012</td>\n",
       "      <td>34.278333</td>\n",
       "      <td>-119.292222</td>\n",
       "      <td>2012</td>\n",
       "      <td>2012</td>\n",
       "    </tr>\n",
       "    <tr>\n",
       "      <th>80316</th>\n",
       "      <td>9/9/2013 09:51</td>\n",
       "      <td>san diego</td>\n",
       "      <td>ca</td>\n",
       "      <td>us</td>\n",
       "      <td>light</td>\n",
       "      <td>4.0</td>\n",
       "      <td>~4 seconds</td>\n",
       "      <td>2 white lights zig-zag over Qualcomm Stadium (...</td>\n",
       "      <td>9/30/2013</td>\n",
       "      <td>32.715278</td>\n",
       "      <td>-117.156389</td>\n",
       "      <td>2013</td>\n",
       "      <td>2013</td>\n",
       "    </tr>\n",
       "    <tr>\n",
       "      <th>80329</th>\n",
       "      <td>9/9/2013 22:00</td>\n",
       "      <td>napa</td>\n",
       "      <td>ca</td>\n",
       "      <td>us</td>\n",
       "      <td>other</td>\n",
       "      <td>1200.0</td>\n",
       "      <td>hour</td>\n",
       "      <td>Napa UFO&amp;#44</td>\n",
       "      <td>9/30/2013</td>\n",
       "      <td>38.297222</td>\n",
       "      <td>-122.284444</td>\n",
       "      <td>2013</td>\n",
       "      <td>2013</td>\n",
       "    </tr>\n",
       "  </tbody>\n",
       "</table>\n",
       "<p>6954 rows × 13 columns</p>\n",
       "</div>"
      ],
      "text/plain": [
       "               datetime         city state country      shape  \\\n",
       "105    10/10/2001 20:35      hayward    ca      us     circle   \n",
       "107    10/10/2001 21:30       fresno    ca      us   changing   \n",
       "118    10/10/2003 12:00     alhambra    ca      us       oval   \n",
       "134    10/10/2004 15:00     berkeley    ca      us    unknown   \n",
       "146    10/10/2005 14:45  los angeles    ca      us        egg   \n",
       "...                 ...          ...   ...     ...        ...   \n",
       "80299    9/9/2012 20:00       arcata    ca      us  formation   \n",
       "80305    9/9/2012 20:30      ventura    ca      us    chevron   \n",
       "80310    9/9/2012 21:00      ventura    ca      us     circle   \n",
       "80316    9/9/2013 09:51    san diego    ca      us      light   \n",
       "80329    9/9/2013 22:00         napa    ca      us      other   \n",
       "\n",
       "      duration (seconds) duration (hours/min)  \\\n",
       "105                  120               2/min.   \n",
       "107                  900        15 min. apprx   \n",
       "118                  300                5 min   \n",
       "134                  180            3 minutes   \n",
       "146                   10           10 seconds   \n",
       "...                  ...                  ...   \n",
       "80299              600.0           10 minutes   \n",
       "80305              900.0           15 minutes   \n",
       "80310              300.0            5 minutes   \n",
       "80316                4.0           ~4 seconds   \n",
       "80329             1200.0                 hour   \n",
       "\n",
       "                                                comments date posted  \\\n",
       "105    FALLING STAR  STOPS  &#39SHOTS OUT  DOZENS OF ...  11/20/2001   \n",
       "107    Objects were sighted driving north on Highway ...  11/20/2001   \n",
       "118    3 Black ovals in the sky and a floating movie ...   1/17/2004   \n",
       "134    While driving my car in the mid afternoon of a...   5/24/2005   \n",
       "146    Egg UFO over Hollywood Hills and LAX in LOS AN...  10/20/2005   \n",
       "...                                                  ...         ...   \n",
       "80299  Object with red and green lights moving sited ...   9/24/2012   \n",
       "80305     Beautiful bright blue delta shaped aerobatics.   9/24/2012   \n",
       "80310  Bright Blue Object seen floating in sky near C...   9/24/2012   \n",
       "80316  2 white lights zig-zag over Qualcomm Stadium (...   9/30/2013   \n",
       "80329                                       Napa UFO&#44   9/30/2013   \n",
       "\n",
       "         latitude  longitude   sightYear  reportYear  \n",
       "105    37.6688889 -122.079722       2001        2001  \n",
       "107    36.7477778 -119.771389       2001        2001  \n",
       "118    34.0952778 -118.126111       2003        2004  \n",
       "134    37.8716667 -122.271667       2004        2005  \n",
       "146    34.0522222 -118.242778       2005        2005  \n",
       "...           ...         ...        ...         ...  \n",
       "80299   40.866667 -124.081667       2012        2012  \n",
       "80305   34.278333 -119.292222       2012        2012  \n",
       "80310   34.278333 -119.292222       2012        2012  \n",
       "80316   32.715278 -117.156389       2013        2013  \n",
       "80329   38.297222 -122.284444       2013        2013  \n",
       "\n",
       "[6954 rows x 13 columns]"
      ]
     },
     "execution_count": 257,
     "metadata": {},
     "output_type": "execute_result"
    }
   ],
   "source": [
    "ufo_ca_2k.reset_index(drop=True)\n",
    "ufo_ca_2k"
   ]
  },
  {
   "cell_type": "code",
   "execution_count": 258,
   "metadata": {},
   "outputs": [
    {
     "name": "stdout",
     "output_type": "stream",
     "text": [
      "        Frequency\n",
      "Word             \n",
      "light        1481\n",
      "object       1291\n",
      "lights       1285\n",
      "bright       1178\n",
      "sky          1043\n",
      "moving        763\n",
      "red           648\n",
      "white         639\n",
      "orange        630\n",
      "seen          510\n"
     ]
    }
   ],
   "source": [
    "stopwords = nltk.corpus.stopwords.words('english')\n",
    "\n",
    "# RegEx for stopwords\n",
    "RE_stopwords = r'\\b(?:{})\\b'.format('|'.join(stopwords))\n",
    "\n",
    "# replace '|'-->' ' and drop all stopwords\n",
    "words = (ufo_ca_2k['comments']\n",
    "           .str.lower()\n",
    "           .replace([r'\\|', RE_stopwords], [' ', ''], regex=True)\n",
    "           .str.cat(sep=' ')\n",
    "           .split()\n",
    ")\n",
    "\n",
    "# generate DF out of Counter\n",
    "rslt_ca = pd.DataFrame(Counter(words).most_common(top_N),\n",
    "                    columns=['Word', 'Frequency']).set_index('Word')\n",
    "print(rslt_ca)"
   ]
  },
  {
   "cell_type": "code",
   "execution_count": 259,
   "metadata": {},
   "outputs": [
    {
     "data": {
      "text/plain": [
       "light        0.221887\n",
       "circle       0.100374\n",
       "triangle     0.095628\n",
       "fireball     0.081680\n",
       "sphere       0.070175\n",
       "other        0.067156\n",
       "unknown      0.064999\n",
       "disk         0.060253\n",
       "oval         0.044722\n",
       "formation    0.034656\n",
       "changing     0.032499\n",
       "cigar        0.019701\n",
       "flash        0.017688\n",
       "rectangle    0.016681\n",
       "chevron      0.016681\n",
       "diamond      0.015531\n",
       "cylinder     0.014380\n",
       "egg          0.009635\n",
       "teardrop     0.008341\n",
       "cross        0.003739\n",
       "cone         0.003595\n",
       "Name: shape, dtype: float64"
      ]
     },
     "execution_count": 259,
     "metadata": {},
     "output_type": "execute_result"
    }
   ],
   "source": [
    "# Okay, I think shape might be more interesting? \n",
    "\n",
    "ufo_ca_2k['shape'].value_counts(normalize = True)"
   ]
  },
  {
   "cell_type": "code",
   "execution_count": 260,
   "metadata": {},
   "outputs": [
    {
     "data": {
      "image/png": "[encoded data removed]",
      "text/plain": [
       "<Figure size 864x504 with 1 Axes>"
      ]
     },
     "metadata": {},
     "output_type": "display_data"
    }
   ],
   "source": [
    "ufo_ca_2k['shape'].value_counts().plot(kind = 'bar',\n",
    "                                      figsize = (12,7),\n",
    "                                      title = 'Most common UFO shapes from Observers in CA, 2000 - 2013',\n",
    "                                      color = 'blue');"
   ]
  },
  {
   "cell_type": "code",
   "execution_count": 261,
   "metadata": {},
   "outputs": [
    {
     "data": {
      "image/png": "[encoded data removed]",
      "text/plain": [
       "<Figure size 864x576 with 1 Axes>"
      ]
     },
     "metadata": {},
     "output_type": "display_data"
    }
   ],
   "source": [
    "# What about cities in CA? Which cities had the most UFO sightings between 2000 and 2013?\n",
    "\n",
    "ufo_ca_2k['city'].value_counts()[0:15].plot(kind = 'bar', \n",
    "                                           figsize = (12,8),\n",
    "                                           title = 'Top Cities in CA with most UFO sightings 2000 - 2013');"
   ]
  },
  {
   "cell_type": "code",
   "execution_count": 366,
   "metadata": {},
   "outputs": [],
   "source": [
    "# LA has the highest pop density, so it may be because of that we have highest sightings. What happens if we look at sightings per pop? \n",
    "# We should look at a single year so that population makes sense -- grabbing census data for these cities.\n",
    "\n",
    "CA_2010_pop = pd.DataFrame(columns = ['population'])"
   ]
  },
  {
   "cell_type": "code",
   "execution_count": 367,
   "metadata": {},
   "outputs": [],
   "source": [
    "ufo_ca_2010 = ufo_ca_2k[ufo_ca_2k['sightYear'] == 2010]"
   ]
  },
  {
   "cell_type": "code",
   "execution_count": 368,
   "metadata": {},
   "outputs": [],
   "source": [
    "CA_2010_pop['count'] = ufo_ca_2013['city'].value_counts()[0:15].sort_values(ascending = True)"
   ]
  },
  {
   "cell_type": "code",
   "execution_count": 370,
   "metadata": {},
   "outputs": [
    {
     "data": {
      "text/html": [
       "<div>\n",
       "<style scoped>\n",
       "    .dataframe tbody tr th:only-of-type {\n",
       "        vertical-align: middle;\n",
       "    }\n",
       "\n",
       "    .dataframe tbody tr th {\n",
       "        vertical-align: top;\n",
       "    }\n",
       "\n",
       "    .dataframe thead th {\n",
       "        text-align: right;\n",
       "    }\n",
       "</style>\n",
       "<table border=\"1\" class=\"dataframe\">\n",
       "  <thead>\n",
       "    <tr style=\"text-align: right;\">\n",
       "      <th></th>\n",
       "      <th>population</th>\n",
       "      <th>count</th>\n",
       "    </tr>\n",
       "  </thead>\n",
       "  <tbody>\n",
       "    <tr>\n",
       "      <th>escondido</th>\n",
       "      <td>NaN</td>\n",
       "      <td>5</td>\n",
       "    </tr>\n",
       "    <tr>\n",
       "      <th>orange</th>\n",
       "      <td>NaN</td>\n",
       "      <td>5</td>\n",
       "    </tr>\n",
       "    <tr>\n",
       "      <th>lake elsinore</th>\n",
       "      <td>NaN</td>\n",
       "      <td>5</td>\n",
       "    </tr>\n",
       "    <tr>\n",
       "      <th>bakersfield</th>\n",
       "      <td>NaN</td>\n",
       "      <td>5</td>\n",
       "    </tr>\n",
       "    <tr>\n",
       "      <th>redding</th>\n",
       "      <td>NaN</td>\n",
       "      <td>5</td>\n",
       "    </tr>\n",
       "    <tr>\n",
       "      <th>riverside</th>\n",
       "      <td>NaN</td>\n",
       "      <td>5</td>\n",
       "    </tr>\n",
       "    <tr>\n",
       "      <th>long beach</th>\n",
       "      <td>NaN</td>\n",
       "      <td>6</td>\n",
       "    </tr>\n",
       "    <tr>\n",
       "      <th>oakland</th>\n",
       "      <td>NaN</td>\n",
       "      <td>6</td>\n",
       "    </tr>\n",
       "    <tr>\n",
       "      <th>thousand oaks</th>\n",
       "      <td>NaN</td>\n",
       "      <td>6</td>\n",
       "    </tr>\n",
       "    <tr>\n",
       "      <th>sacramento</th>\n",
       "      <td>NaN</td>\n",
       "      <td>8</td>\n",
       "    </tr>\n",
       "    <tr>\n",
       "      <th>modesto</th>\n",
       "      <td>NaN</td>\n",
       "      <td>9</td>\n",
       "    </tr>\n",
       "    <tr>\n",
       "      <th>san francisco</th>\n",
       "      <td>NaN</td>\n",
       "      <td>9</td>\n",
       "    </tr>\n",
       "    <tr>\n",
       "      <th>san jose</th>\n",
       "      <td>NaN</td>\n",
       "      <td>11</td>\n",
       "    </tr>\n",
       "    <tr>\n",
       "      <th>san diego</th>\n",
       "      <td>NaN</td>\n",
       "      <td>11</td>\n",
       "    </tr>\n",
       "    <tr>\n",
       "      <th>los angeles</th>\n",
       "      <td>NaN</td>\n",
       "      <td>21</td>\n",
       "    </tr>\n",
       "  </tbody>\n",
       "</table>\n",
       "</div>"
      ],
      "text/plain": [
       "              population  count\n",
       "escondido            NaN      5\n",
       "orange               NaN      5\n",
       "lake elsinore        NaN      5\n",
       "bakersfield          NaN      5\n",
       "redding              NaN      5\n",
       "riverside            NaN      5\n",
       "long beach           NaN      6\n",
       "oakland              NaN      6\n",
       "thousand oaks        NaN      6\n",
       "sacramento           NaN      8\n",
       "modesto              NaN      9\n",
       "san francisco        NaN      9\n",
       "san jose             NaN     11\n",
       "san diego            NaN     11\n",
       "los angeles          NaN     21"
      ]
     },
     "execution_count": 370,
     "metadata": {},
     "output_type": "execute_result"
    }
   ],
   "source": [
    "CA_2010_pop"
   ]
  },
  {
   "cell_type": "code",
   "execution_count": 371,
   "metadata": {},
   "outputs": [],
   "source": [
    "CA_2010_pop.reset_index(inplace = True)"
   ]
  },
  {
   "cell_type": "code",
   "execution_count": 372,
   "metadata": {},
   "outputs": [],
   "source": [
    "CA_2010_pop.rename(columns = {'index':'name'}, inplace=True)"
   ]
  },
  {
   "cell_type": "code",
   "execution_count": 373,
   "metadata": {},
   "outputs": [],
   "source": [
    "ca_city = pd.read_csv('california_city.csv',thousands = ',')"
   ]
  },
  {
   "cell_type": "code",
   "execution_count": 374,
   "metadata": {},
   "outputs": [],
   "source": [
    "ca_city.columns = ca_city.columns.str.lower().str.strip()"
   ]
  },
  {
   "cell_type": "code",
   "execution_count": 375,
   "metadata": {},
   "outputs": [],
   "source": [
    "ca_city['name'] = ca_city['name'].str.lower()"
   ]
  },
  {
   "cell_type": "code",
   "execution_count": 376,
   "metadata": {},
   "outputs": [
    {
     "data": {
      "text/html": [
       "<div>\n",
       "<style scoped>\n",
       "    .dataframe tbody tr th:only-of-type {\n",
       "        vertical-align: middle;\n",
       "    }\n",
       "\n",
       "    .dataframe tbody tr th {\n",
       "        vertical-align: top;\n",
       "    }\n",
       "\n",
       "    .dataframe thead th {\n",
       "        text-align: right;\n",
       "    }\n",
       "</style>\n",
       "<table border=\"1\" class=\"dataframe\">\n",
       "  <thead>\n",
       "    <tr style=\"text-align: right;\">\n",
       "      <th></th>\n",
       "      <th>name</th>\n",
       "      <th>type</th>\n",
       "      <th>county</th>\n",
       "      <th>pop_2020</th>\n",
       "      <th>pop_2010</th>\n",
       "    </tr>\n",
       "  </thead>\n",
       "  <tbody>\n",
       "    <tr>\n",
       "      <th>0</th>\n",
       "      <td>adelanto</td>\n",
       "      <td>City</td>\n",
       "      <td>San Bernardino</td>\n",
       "      <td>38046</td>\n",
       "      <td>31765</td>\n",
       "    </tr>\n",
       "    <tr>\n",
       "      <th>1</th>\n",
       "      <td>agoura hills</td>\n",
       "      <td>City</td>\n",
       "      <td>Los Angeles</td>\n",
       "      <td>20299</td>\n",
       "      <td>20330</td>\n",
       "    </tr>\n",
       "    <tr>\n",
       "      <th>2</th>\n",
       "      <td>alameda</td>\n",
       "      <td>City</td>\n",
       "      <td>Alameda</td>\n",
       "      <td>78280</td>\n",
       "      <td>73812</td>\n",
       "    </tr>\n",
       "    <tr>\n",
       "      <th>3</th>\n",
       "      <td>albany</td>\n",
       "      <td>City</td>\n",
       "      <td>Alameda</td>\n",
       "      <td>20271</td>\n",
       "      <td>18539</td>\n",
       "    </tr>\n",
       "    <tr>\n",
       "      <th>4</th>\n",
       "      <td>alhambra</td>\n",
       "      <td>City</td>\n",
       "      <td>Los Angeles</td>\n",
       "      <td>82868</td>\n",
       "      <td>83089</td>\n",
       "    </tr>\n",
       "  </tbody>\n",
       "</table>\n",
       "</div>"
      ],
      "text/plain": [
       "           name  type          county  pop_2020  pop_2010\n",
       "0      adelanto  City  San Bernardino     38046     31765\n",
       "1  agoura hills  City     Los Angeles     20299     20330\n",
       "2       alameda  City         Alameda     78280     73812\n",
       "3        albany  City         Alameda     20271     18539\n",
       "4      alhambra  City     Los Angeles     82868     83089"
      ]
     },
     "execution_count": 376,
     "metadata": {},
     "output_type": "execute_result"
    }
   ],
   "source": [
    "ca_city.head()"
   ]
  },
  {
   "cell_type": "code",
   "execution_count": 377,
   "metadata": {},
   "outputs": [],
   "source": [
    "merged_ufo_ca = pd.merge(CA_2010_pop, ca_city, how = 'inner', on='name')"
   ]
  },
  {
   "cell_type": "code",
   "execution_count": 378,
   "metadata": {},
   "outputs": [
    {
     "data": {
      "text/html": [
       "<div>\n",
       "<style scoped>\n",
       "    .dataframe tbody tr th:only-of-type {\n",
       "        vertical-align: middle;\n",
       "    }\n",
       "\n",
       "    .dataframe tbody tr th {\n",
       "        vertical-align: top;\n",
       "    }\n",
       "\n",
       "    .dataframe thead th {\n",
       "        text-align: right;\n",
       "    }\n",
       "</style>\n",
       "<table border=\"1\" class=\"dataframe\">\n",
       "  <thead>\n",
       "    <tr style=\"text-align: right;\">\n",
       "      <th></th>\n",
       "      <th>name</th>\n",
       "      <th>count</th>\n",
       "      <th>type</th>\n",
       "      <th>county</th>\n",
       "      <th>pop_2020</th>\n",
       "      <th>pop_2010</th>\n",
       "    </tr>\n",
       "  </thead>\n",
       "  <tbody>\n",
       "    <tr>\n",
       "      <th>0</th>\n",
       "      <td>escondido</td>\n",
       "      <td>5</td>\n",
       "      <td>City</td>\n",
       "      <td>San Diego</td>\n",
       "      <td>151038</td>\n",
       "      <td>143911</td>\n",
       "    </tr>\n",
       "    <tr>\n",
       "      <th>1</th>\n",
       "      <td>orange</td>\n",
       "      <td>5</td>\n",
       "      <td>City</td>\n",
       "      <td>Orange</td>\n",
       "      <td>139911</td>\n",
       "      <td>134616</td>\n",
       "    </tr>\n",
       "    <tr>\n",
       "      <th>2</th>\n",
       "      <td>lake elsinore</td>\n",
       "      <td>5</td>\n",
       "      <td>City</td>\n",
       "      <td>Riverside</td>\n",
       "      <td>70265</td>\n",
       "      <td>51821</td>\n",
       "    </tr>\n",
       "    <tr>\n",
       "      <th>3</th>\n",
       "      <td>bakersfield</td>\n",
       "      <td>5</td>\n",
       "      <td>City</td>\n",
       "      <td>Kern</td>\n",
       "      <td>403455</td>\n",
       "      <td>347483</td>\n",
       "    </tr>\n",
       "    <tr>\n",
       "      <th>4</th>\n",
       "      <td>redding</td>\n",
       "      <td>5</td>\n",
       "      <td>City</td>\n",
       "      <td>Shasta</td>\n",
       "      <td>93611</td>\n",
       "      <td>89861</td>\n",
       "    </tr>\n",
       "    <tr>\n",
       "      <th>5</th>\n",
       "      <td>riverside</td>\n",
       "      <td>5</td>\n",
       "      <td>City</td>\n",
       "      <td>Riverside</td>\n",
       "      <td>314998</td>\n",
       "      <td>303871</td>\n",
       "    </tr>\n",
       "    <tr>\n",
       "      <th>6</th>\n",
       "      <td>long beach</td>\n",
       "      <td>6</td>\n",
       "      <td>City</td>\n",
       "      <td>Los Angeles</td>\n",
       "      <td>466742</td>\n",
       "      <td>462257</td>\n",
       "    </tr>\n",
       "    <tr>\n",
       "      <th>7</th>\n",
       "      <td>oakland</td>\n",
       "      <td>6</td>\n",
       "      <td>City</td>\n",
       "      <td>Alameda</td>\n",
       "      <td>440646</td>\n",
       "      <td>390724</td>\n",
       "    </tr>\n",
       "    <tr>\n",
       "      <th>8</th>\n",
       "      <td>thousand oaks</td>\n",
       "      <td>6</td>\n",
       "      <td>City</td>\n",
       "      <td>Ventura</td>\n",
       "      <td>126966</td>\n",
       "      <td>126683</td>\n",
       "    </tr>\n",
       "    <tr>\n",
       "      <th>9</th>\n",
       "      <td>sacramento</td>\n",
       "      <td>8</td>\n",
       "      <td>City</td>\n",
       "      <td>Sacramento</td>\n",
       "      <td>524943</td>\n",
       "      <td>466488</td>\n",
       "    </tr>\n",
       "    <tr>\n",
       "      <th>10</th>\n",
       "      <td>modesto</td>\n",
       "      <td>9</td>\n",
       "      <td>City</td>\n",
       "      <td>Stanislaus</td>\n",
       "      <td>218464</td>\n",
       "      <td>201165</td>\n",
       "    </tr>\n",
       "    <tr>\n",
       "      <th>11</th>\n",
       "      <td>san francisco</td>\n",
       "      <td>9</td>\n",
       "      <td>City and county</td>\n",
       "      <td>San Francisco</td>\n",
       "      <td>873965</td>\n",
       "      <td>805235</td>\n",
       "    </tr>\n",
       "    <tr>\n",
       "      <th>12</th>\n",
       "      <td>san jose</td>\n",
       "      <td>11</td>\n",
       "      <td>City</td>\n",
       "      <td>Santa Clara</td>\n",
       "      <td>1013240</td>\n",
       "      <td>945942</td>\n",
       "    </tr>\n",
       "    <tr>\n",
       "      <th>13</th>\n",
       "      <td>san diego</td>\n",
       "      <td>11</td>\n",
       "      <td>City</td>\n",
       "      <td>San Diego</td>\n",
       "      <td>1386932</td>\n",
       "      <td>1307402</td>\n",
       "    </tr>\n",
       "    <tr>\n",
       "      <th>14</th>\n",
       "      <td>los angeles</td>\n",
       "      <td>21</td>\n",
       "      <td>City</td>\n",
       "      <td>Los Angeles</td>\n",
       "      <td>3898747</td>\n",
       "      <td>3792621</td>\n",
       "    </tr>\n",
       "  </tbody>\n",
       "</table>\n",
       "</div>"
      ],
      "text/plain": [
       "             name  count             type         county  pop_2020  pop_2010\n",
       "0       escondido      5             City      San Diego    151038    143911\n",
       "1          orange      5             City         Orange    139911    134616\n",
       "2   lake elsinore      5             City      Riverside     70265     51821\n",
       "3     bakersfield      5             City           Kern    403455    347483\n",
       "4         redding      5             City         Shasta     93611     89861\n",
       "5       riverside      5             City      Riverside    314998    303871\n",
       "6      long beach      6             City    Los Angeles    466742    462257\n",
       "7         oakland      6             City        Alameda    440646    390724\n",
       "8   thousand oaks      6             City        Ventura    126966    126683\n",
       "9      sacramento      8             City     Sacramento    524943    466488\n",
       "10        modesto      9             City     Stanislaus    218464    201165\n",
       "11  san francisco      9  City and county  San Francisco    873965    805235\n",
       "12       san jose     11             City    Santa Clara   1013240    945942\n",
       "13      san diego     11             City      San Diego   1386932   1307402\n",
       "14    los angeles     21             City    Los Angeles   3898747   3792621"
      ]
     },
     "execution_count": 378,
     "metadata": {},
     "output_type": "execute_result"
    }
   ],
   "source": [
    "merged_ufo_ca.drop(columns='population',inplace=True)\n",
    "merged_ufo_ca"
   ]
  },
  {
   "cell_type": "code",
   "execution_count": 379,
   "metadata": {},
   "outputs": [
    {
     "name": "stdout",
     "output_type": "stream",
     "text": [
      "<class 'pandas.core.frame.DataFrame'>\n",
      "Int64Index: 15 entries, 0 to 14\n",
      "Data columns (total 6 columns):\n",
      " #   Column    Non-Null Count  Dtype \n",
      "---  ------    --------------  ----- \n",
      " 0   name      15 non-null     object\n",
      " 1   count     15 non-null     int64 \n",
      " 2   type      15 non-null     object\n",
      " 3   county    15 non-null     object\n",
      " 4   pop_2020  15 non-null     int64 \n",
      " 5   pop_2010  15 non-null     int64 \n",
      "dtypes: int64(3), object(3)\n",
      "memory usage: 840.0+ bytes\n"
     ]
    }
   ],
   "source": [
    "merged_ufo_ca.info()"
   ]
  },
  {
   "cell_type": "code",
   "execution_count": 380,
   "metadata": {},
   "outputs": [],
   "source": [
    "merged_ufo_ca['sightings per pop'] = merged_ufo_ca['count']/merged_ufo_ca['pop_2010']"
   ]
  },
  {
   "cell_type": "code",
   "execution_count": 382,
   "metadata": {},
   "outputs": [],
   "source": [
    "merged_ufo_ca['% of pop'] = merged_ufo_ca['sightings per pop'] * 100"
   ]
  },
  {
   "cell_type": "code",
   "execution_count": 383,
   "metadata": {},
   "outputs": [
    {
     "data": {
      "text/html": [
       "<div>\n",
       "<style scoped>\n",
       "    .dataframe tbody tr th:only-of-type {\n",
       "        vertical-align: middle;\n",
       "    }\n",
       "\n",
       "    .dataframe tbody tr th {\n",
       "        vertical-align: top;\n",
       "    }\n",
       "\n",
       "    .dataframe thead th {\n",
       "        text-align: right;\n",
       "    }\n",
       "</style>\n",
       "<table border=\"1\" class=\"dataframe\">\n",
       "  <thead>\n",
       "    <tr style=\"text-align: right;\">\n",
       "      <th></th>\n",
       "      <th>name</th>\n",
       "      <th>count</th>\n",
       "      <th>type</th>\n",
       "      <th>county</th>\n",
       "      <th>pop_2020</th>\n",
       "      <th>pop_2010</th>\n",
       "      <th>sightings per pop</th>\n",
       "      <th>% of pop</th>\n",
       "    </tr>\n",
       "  </thead>\n",
       "  <tbody>\n",
       "    <tr>\n",
       "      <th>2</th>\n",
       "      <td>lake elsinore</td>\n",
       "      <td>5</td>\n",
       "      <td>City</td>\n",
       "      <td>Riverside</td>\n",
       "      <td>70265</td>\n",
       "      <td>51821</td>\n",
       "      <td>0.000096</td>\n",
       "      <td>0.009649</td>\n",
       "    </tr>\n",
       "    <tr>\n",
       "      <th>4</th>\n",
       "      <td>redding</td>\n",
       "      <td>5</td>\n",
       "      <td>City</td>\n",
       "      <td>Shasta</td>\n",
       "      <td>93611</td>\n",
       "      <td>89861</td>\n",
       "      <td>0.000056</td>\n",
       "      <td>0.005564</td>\n",
       "    </tr>\n",
       "    <tr>\n",
       "      <th>8</th>\n",
       "      <td>thousand oaks</td>\n",
       "      <td>6</td>\n",
       "      <td>City</td>\n",
       "      <td>Ventura</td>\n",
       "      <td>126966</td>\n",
       "      <td>126683</td>\n",
       "      <td>0.000047</td>\n",
       "      <td>0.004736</td>\n",
       "    </tr>\n",
       "    <tr>\n",
       "      <th>10</th>\n",
       "      <td>modesto</td>\n",
       "      <td>9</td>\n",
       "      <td>City</td>\n",
       "      <td>Stanislaus</td>\n",
       "      <td>218464</td>\n",
       "      <td>201165</td>\n",
       "      <td>0.000045</td>\n",
       "      <td>0.004474</td>\n",
       "    </tr>\n",
       "    <tr>\n",
       "      <th>1</th>\n",
       "      <td>orange</td>\n",
       "      <td>5</td>\n",
       "      <td>City</td>\n",
       "      <td>Orange</td>\n",
       "      <td>139911</td>\n",
       "      <td>134616</td>\n",
       "      <td>0.000037</td>\n",
       "      <td>0.003714</td>\n",
       "    </tr>\n",
       "    <tr>\n",
       "      <th>0</th>\n",
       "      <td>escondido</td>\n",
       "      <td>5</td>\n",
       "      <td>City</td>\n",
       "      <td>San Diego</td>\n",
       "      <td>151038</td>\n",
       "      <td>143911</td>\n",
       "      <td>0.000035</td>\n",
       "      <td>0.003474</td>\n",
       "    </tr>\n",
       "    <tr>\n",
       "      <th>9</th>\n",
       "      <td>sacramento</td>\n",
       "      <td>8</td>\n",
       "      <td>City</td>\n",
       "      <td>Sacramento</td>\n",
       "      <td>524943</td>\n",
       "      <td>466488</td>\n",
       "      <td>0.000017</td>\n",
       "      <td>0.001715</td>\n",
       "    </tr>\n",
       "    <tr>\n",
       "      <th>5</th>\n",
       "      <td>riverside</td>\n",
       "      <td>5</td>\n",
       "      <td>City</td>\n",
       "      <td>Riverside</td>\n",
       "      <td>314998</td>\n",
       "      <td>303871</td>\n",
       "      <td>0.000016</td>\n",
       "      <td>0.001645</td>\n",
       "    </tr>\n",
       "    <tr>\n",
       "      <th>7</th>\n",
       "      <td>oakland</td>\n",
       "      <td>6</td>\n",
       "      <td>City</td>\n",
       "      <td>Alameda</td>\n",
       "      <td>440646</td>\n",
       "      <td>390724</td>\n",
       "      <td>0.000015</td>\n",
       "      <td>0.001536</td>\n",
       "    </tr>\n",
       "    <tr>\n",
       "      <th>3</th>\n",
       "      <td>bakersfield</td>\n",
       "      <td>5</td>\n",
       "      <td>City</td>\n",
       "      <td>Kern</td>\n",
       "      <td>403455</td>\n",
       "      <td>347483</td>\n",
       "      <td>0.000014</td>\n",
       "      <td>0.001439</td>\n",
       "    </tr>\n",
       "    <tr>\n",
       "      <th>6</th>\n",
       "      <td>long beach</td>\n",
       "      <td>6</td>\n",
       "      <td>City</td>\n",
       "      <td>Los Angeles</td>\n",
       "      <td>466742</td>\n",
       "      <td>462257</td>\n",
       "      <td>0.000013</td>\n",
       "      <td>0.001298</td>\n",
       "    </tr>\n",
       "    <tr>\n",
       "      <th>12</th>\n",
       "      <td>san jose</td>\n",
       "      <td>11</td>\n",
       "      <td>City</td>\n",
       "      <td>Santa Clara</td>\n",
       "      <td>1013240</td>\n",
       "      <td>945942</td>\n",
       "      <td>0.000012</td>\n",
       "      <td>0.001163</td>\n",
       "    </tr>\n",
       "    <tr>\n",
       "      <th>11</th>\n",
       "      <td>san francisco</td>\n",
       "      <td>9</td>\n",
       "      <td>City and county</td>\n",
       "      <td>San Francisco</td>\n",
       "      <td>873965</td>\n",
       "      <td>805235</td>\n",
       "      <td>0.000011</td>\n",
       "      <td>0.001118</td>\n",
       "    </tr>\n",
       "    <tr>\n",
       "      <th>13</th>\n",
       "      <td>san diego</td>\n",
       "      <td>11</td>\n",
       "      <td>City</td>\n",
       "      <td>San Diego</td>\n",
       "      <td>1386932</td>\n",
       "      <td>1307402</td>\n",
       "      <td>0.000008</td>\n",
       "      <td>0.000841</td>\n",
       "    </tr>\n",
       "    <tr>\n",
       "      <th>14</th>\n",
       "      <td>los angeles</td>\n",
       "      <td>21</td>\n",
       "      <td>City</td>\n",
       "      <td>Los Angeles</td>\n",
       "      <td>3898747</td>\n",
       "      <td>3792621</td>\n",
       "      <td>0.000006</td>\n",
       "      <td>0.000554</td>\n",
       "    </tr>\n",
       "  </tbody>\n",
       "</table>\n",
       "</div>"
      ],
      "text/plain": [
       "             name  count             type         county  pop_2020  pop_2010  \\\n",
       "2   lake elsinore      5             City      Riverside     70265     51821   \n",
       "4         redding      5             City         Shasta     93611     89861   \n",
       "8   thousand oaks      6             City        Ventura    126966    126683   \n",
       "10        modesto      9             City     Stanislaus    218464    201165   \n",
       "1          orange      5             City         Orange    139911    134616   \n",
       "0       escondido      5             City      San Diego    151038    143911   \n",
       "9      sacramento      8             City     Sacramento    524943    466488   \n",
       "5       riverside      5             City      Riverside    314998    303871   \n",
       "7         oakland      6             City        Alameda    440646    390724   \n",
       "3     bakersfield      5             City           Kern    403455    347483   \n",
       "6      long beach      6             City    Los Angeles    466742    462257   \n",
       "12       san jose     11             City    Santa Clara   1013240    945942   \n",
       "11  san francisco      9  City and county  San Francisco    873965    805235   \n",
       "13      san diego     11             City      San Diego   1386932   1307402   \n",
       "14    los angeles     21             City    Los Angeles   3898747   3792621   \n",
       "\n",
       "    sightings per pop  % of pop  \n",
       "2            0.000096  0.009649  \n",
       "4            0.000056  0.005564  \n",
       "8            0.000047  0.004736  \n",
       "10           0.000045  0.004474  \n",
       "1            0.000037  0.003714  \n",
       "0            0.000035  0.003474  \n",
       "9            0.000017  0.001715  \n",
       "5            0.000016  0.001645  \n",
       "7            0.000015  0.001536  \n",
       "3            0.000014  0.001439  \n",
       "6            0.000013  0.001298  \n",
       "12           0.000012  0.001163  \n",
       "11           0.000011  0.001118  \n",
       "13           0.000008  0.000841  \n",
       "14           0.000006  0.000554  "
      ]
     },
     "execution_count": 383,
     "metadata": {},
     "output_type": "execute_result"
    }
   ],
   "source": [
    "merged_ufo_ca.sort_values(by = 'sightings per pop', ascending = False)"
   ]
  },
  {
   "cell_type": "code",
   "execution_count": 444,
   "metadata": {},
   "outputs": [
    {
     "data": {
      "image/png": "[encoded data removed]",
      "text/plain": [
       "<Figure size 864x576 with 1 Axes>"
      ]
     },
     "metadata": {},
     "output_type": "display_data"
    }
   ],
   "source": [
    "merged_ufo_ca.sort_values(by = '% of pop', ascending = False).plot(x = 'name',\n",
    "                                                                   y = '% of pop',\n",
    "                                                                   kind = 'bar',\n",
    "                                                                   figsize = (12,8),\n",
    "                                                                   title = 'Percent of Population in Top 15 Californian Cities that have reported UFOs in 2010');"
   ]
  },
  {
   "cell_type": "code",
   "execution_count": 411,
   "metadata": {
    "tags": []
   },
   "outputs": [],
   "source": [
    "# Did CA see a growth of sightings over the years? \n",
    "\n",
    "ufodb_ca = ufodb[ufodb['state'] == 'ca']"
   ]
  },
  {
   "cell_type": "code",
   "execution_count": 417,
   "metadata": {},
   "outputs": [
    {
     "data": {
      "text/plain": [
       "10       [10/10/1968, 13:00]\n",
       "30       [10/10/1979, 22:00]\n",
       "45       [10/10/1989, 00:00]\n",
       "72       [10/10/1998, 02:30]\n",
       "82       [10/10/1999, 00:01]\n",
       "                ...         \n",
       "80299      [9/9/2012, 20:00]\n",
       "80305      [9/9/2012, 20:30]\n",
       "80310      [9/9/2012, 21:00]\n",
       "80316      [9/9/2013, 09:51]\n",
       "80329      [9/9/2013, 22:00]\n",
       "Name: datetime, Length: 8683, dtype: object"
      ]
     },
     "execution_count": 417,
     "metadata": {},
     "output_type": "execute_result"
    }
   ],
   "source": [
    "ufodb_ca['datetime'].str.split()"
   ]
  },
  {
   "cell_type": "code",
   "execution_count": 418,
   "metadata": {},
   "outputs": [
    {
     "data": {
      "text/plain": [
       "10       10/10/1968 13:00\n",
       "30       10/10/1979 22:00\n",
       "45       10/10/1989 00:00\n",
       "72       10/10/1998 02:30\n",
       "82       10/10/1999 00:01\n",
       "               ...       \n",
       "80299      9/9/2012 20:00\n",
       "80305      9/9/2012 20:30\n",
       "80310      9/9/2012 21:00\n",
       "80316      9/9/2013 09:51\n",
       "80329      9/9/2013 22:00\n",
       "Name: datetime, Length: 8683, dtype: object"
      ]
     },
     "execution_count": 419,
     "metadata": {},
     "output_type": "execute_result"
    }
   ],
   "source": []
  },
  {
   "cell_type": "code",
   "execution_count": 408,
   "metadata": {},
   "outputs": [],
   "source": [
    "ufodb_ca = ufodb_ca[ufodb_ca['datetime'].str.contains('10/12/2013 24:00')==False]"
   ]
  },
  {
   "cell_type": "code",
   "execution_count": 425,
   "metadata": {},
   "outputs": [
    {
     "data": {
      "text/plain": [
       "Series([], Name: datetime, dtype: datetime64[ns])"
      ]
     },
     "execution_count": 425,
     "metadata": {},
     "output_type": "execute_result"
    }
   ],
   "source": [
    "ufodb_ca['datetime'].filter(like='24:00')"
   ]
  },
  {
   "cell_type": "code",
   "execution_count": 409,
   "metadata": {},
   "outputs": [],
   "source": [
    "ufodb_ca.reset_index(drop = True, inplace=True)"
   ]
  },
  {
   "cell_type": "code",
   "execution_count": 422,
   "metadata": {},
   "outputs": [
    {
     "name": "stderr",
     "output_type": "stream",
     "text": [
      "/opt/anaconda3/lib/python3.7/site-packages/ipykernel_launcher.py:1: SettingWithCopyWarning:\n",
      "\n",
      "\n",
      "A value is trying to be set on a copy of a slice from a DataFrame.\n",
      "Try using .loc[row_indexer,col_indexer] = value instead\n",
      "\n",
      "See the caveats in the documentation: https://pandas.pydata.org/pandas-docs/stable/user_guide/indexing.html#returning-a-view-versus-a-copy\n",
      "\n"
     ]
    }
   ],
   "source": [
    "ufodb_ca['datetime'] = pd.to_datetime(ufodb_ca['datetime'], errors='coerce')"
   ]
  },
  {
   "cell_type": "code",
   "execution_count": 426,
   "metadata": {},
   "outputs": [
    {
     "name": "stdout",
     "output_type": "stream",
     "text": [
      "<class 'pandas.core.frame.DataFrame'>\n",
      "Int64Index: 8683 entries, 10 to 80329\n",
      "Data columns (total 13 columns):\n",
      " #   Column                Non-Null Count  Dtype         \n",
      "---  ------                --------------  -----         \n",
      " 0   datetime              8620 non-null   datetime64[ns]\n",
      " 1   city                  8683 non-null   object        \n",
      " 2   state                 8683 non-null   object        \n",
      " 3   country               8683 non-null   object        \n",
      " 4   shape                 8683 non-null   object        \n",
      " 5   duration (seconds)    8683 non-null   object        \n",
      " 6   duration (hours/min)  8683 non-null   object        \n",
      " 7   comments              8683 non-null   object        \n",
      " 8   date posted           8683 non-null   object        \n",
      " 9   latitude              8683 non-null   object        \n",
      " 10  longitude             8683 non-null   float64       \n",
      " 11  sightYear             8683 non-null   int64         \n",
      " 12  reportYear            8683 non-null   int64         \n",
      "dtypes: datetime64[ns](1), float64(1), int64(2), object(9)\n",
      "memory usage: 949.7+ KB\n"
     ]
    }
   ],
   "source": [
    "ufodb_ca.info()"
   ]
  },
  {
   "cell_type": "code",
   "execution_count": 427,
   "metadata": {},
   "outputs": [
    {
     "name": "stderr",
     "output_type": "stream",
     "text": [
      "/opt/anaconda3/lib/python3.7/site-packages/pandas/util/_decorators.py:311: SettingWithCopyWarning:\n",
      "\n",
      "\n",
      "A value is trying to be set on a copy of a slice from a DataFrame\n",
      "\n",
      "See the caveats in the documentation: https://pandas.pydata.org/pandas-docs/stable/user_guide/indexing.html#returning-a-view-versus-a-copy\n",
      "\n"
     ]
    }
   ],
   "source": [
    "ufodb_ca.sort_values(by = 'datetime', inplace = True)"
   ]
  },
  {
   "cell_type": "code",
   "execution_count": 430,
   "metadata": {},
   "outputs": [],
   "source": [
    "ufodb_ca = ufodb_ca[pd.notnull(ufodb_ca['datetime'])]"
   ]
  },
  {
   "cell_type": "code",
   "execution_count": 431,
   "metadata": {},
   "outputs": [
    {
     "name": "stdout",
     "output_type": "stream",
     "text": [
      "<class 'pandas.core.frame.DataFrame'>\n",
      "Int64Index: 8620 entries, 66131 to 46151\n",
      "Data columns (total 13 columns):\n",
      " #   Column                Non-Null Count  Dtype         \n",
      "---  ------                --------------  -----         \n",
      " 0   datetime              8620 non-null   datetime64[ns]\n",
      " 1   city                  8620 non-null   object        \n",
      " 2   state                 8620 non-null   object        \n",
      " 3   country               8620 non-null   object        \n",
      " 4   shape                 8620 non-null   object        \n",
      " 5   duration (seconds)    8620 non-null   object        \n",
      " 6   duration (hours/min)  8620 non-null   object        \n",
      " 7   comments              8620 non-null   object        \n",
      " 8   date posted           8620 non-null   object        \n",
      " 9   latitude              8620 non-null   object        \n",
      " 10  longitude             8620 non-null   float64       \n",
      " 11  sightYear             8620 non-null   int64         \n",
      " 12  reportYear            8620 non-null   int64         \n",
      "dtypes: datetime64[ns](1), float64(1), int64(2), object(9)\n",
      "memory usage: 942.8+ KB\n"
     ]
    }
   ],
   "source": [
    "ufodb_ca.info()"
   ]
  },
  {
   "cell_type": "code",
   "execution_count": 433,
   "metadata": {},
   "outputs": [],
   "source": [
    "ufodb_ca.set_index('datetime', inplace = True)"
   ]
  },
  {
   "cell_type": "code",
   "execution_count": 434,
   "metadata": {},
   "outputs": [
    {
     "data": {
      "text/html": [
       "<div>\n",
       "<style scoped>\n",
       "    .dataframe tbody tr th:only-of-type {\n",
       "        vertical-align: middle;\n",
       "    }\n",
       "\n",
       "    .dataframe tbody tr th {\n",
       "        vertical-align: top;\n",
       "    }\n",
       "\n",
       "    .dataframe thead th {\n",
       "        text-align: right;\n",
       "    }\n",
       "</style>\n",
       "<table border=\"1\" class=\"dataframe\">\n",
       "  <thead>\n",
       "    <tr style=\"text-align: right;\">\n",
       "      <th></th>\n",
       "      <th>city</th>\n",
       "      <th>state</th>\n",
       "      <th>country</th>\n",
       "      <th>shape</th>\n",
       "      <th>duration (seconds)</th>\n",
       "      <th>duration (hours/min)</th>\n",
       "      <th>comments</th>\n",
       "      <th>date posted</th>\n",
       "      <th>latitude</th>\n",
       "      <th>longitude</th>\n",
       "      <th>sightYear</th>\n",
       "      <th>reportYear</th>\n",
       "    </tr>\n",
       "    <tr>\n",
       "      <th>datetime</th>\n",
       "      <th></th>\n",
       "      <th></th>\n",
       "      <th></th>\n",
       "      <th></th>\n",
       "      <th></th>\n",
       "      <th></th>\n",
       "      <th></th>\n",
       "      <th></th>\n",
       "      <th></th>\n",
       "      <th></th>\n",
       "      <th></th>\n",
       "      <th></th>\n",
       "    </tr>\n",
       "  </thead>\n",
       "  <tbody>\n",
       "    <tr>\n",
       "      <th>1937-08-15 21:00:00</th>\n",
       "      <td>fontana</td>\n",
       "      <td>ca</td>\n",
       "      <td>us</td>\n",
       "      <td>light</td>\n",
       "      <td>600.0</td>\n",
       "      <td>5 to 10 min</td>\n",
       "      <td>A cylinder light came on above us with no sound .</td>\n",
       "      <td>2/22/2002</td>\n",
       "      <td>34.092222</td>\n",
       "      <td>-117.434167</td>\n",
       "      <td>1937</td>\n",
       "      <td>2002</td>\n",
       "    </tr>\n",
       "    <tr>\n",
       "      <th>1944-01-01 12:00:00</th>\n",
       "      <td>san diego</td>\n",
       "      <td>ca</td>\n",
       "      <td>us</td>\n",
       "      <td>cigar</td>\n",
       "      <td>180</td>\n",
       "      <td>3 minutes</td>\n",
       "      <td>A sighting of one silver or white enlongated c...</td>\n",
       "      <td>7/25/2004</td>\n",
       "      <td>32.7152778</td>\n",
       "      <td>-117.156389</td>\n",
       "      <td>1944</td>\n",
       "      <td>2004</td>\n",
       "    </tr>\n",
       "    <tr>\n",
       "      <th>1945-08-08 12:00:00</th>\n",
       "      <td>huntington beach</td>\n",
       "      <td>ca</td>\n",
       "      <td>us</td>\n",
       "      <td>disk</td>\n",
       "      <td>300.0</td>\n",
       "      <td>5 minutes</td>\n",
       "      <td>MY DAD SAYS HIS AUNT AND UNCLE SAW THIS CRAFT ...</td>\n",
       "      <td>1/17/2004</td>\n",
       "      <td>33.660278</td>\n",
       "      <td>-117.998333</td>\n",
       "      <td>1945</td>\n",
       "      <td>2004</td>\n",
       "    </tr>\n",
       "    <tr>\n",
       "      <th>1946-02-01 17:00:00</th>\n",
       "      <td>merced</td>\n",
       "      <td>ca</td>\n",
       "      <td>us</td>\n",
       "      <td>sphere</td>\n",
       "      <td>10</td>\n",
       "      <td>10 seconds</td>\n",
       "      <td>Three luminescent chartreusse spheres moving &amp;...</td>\n",
       "      <td>10/11/2005</td>\n",
       "      <td>37.3022222</td>\n",
       "      <td>-120.481944</td>\n",
       "      <td>1946</td>\n",
       "      <td>2005</td>\n",
       "    </tr>\n",
       "    <tr>\n",
       "      <th>1946-06-30 19:00:00</th>\n",
       "      <td>blairsden</td>\n",
       "      <td>ca</td>\n",
       "      <td>us</td>\n",
       "      <td>sphere</td>\n",
       "      <td>10</td>\n",
       "      <td>10 seconds</td>\n",
       "      <td>Looked up and saw sphere or disk 30-50 feet in...</td>\n",
       "      <td>1/21/2008</td>\n",
       "      <td>39.7811111</td>\n",
       "      <td>-120.615556</td>\n",
       "      <td>1946</td>\n",
       "      <td>2008</td>\n",
       "    </tr>\n",
       "  </tbody>\n",
       "</table>\n",
       "</div>"
      ],
      "text/plain": [
       "                                 city state country   shape  \\\n",
       "datetime                                                      \n",
       "1937-08-15 21:00:00           fontana    ca      us   light   \n",
       "1944-01-01 12:00:00         san diego    ca      us   cigar   \n",
       "1945-08-08 12:00:00  huntington beach    ca      us    disk   \n",
       "1946-02-01 17:00:00            merced    ca      us  sphere   \n",
       "1946-06-30 19:00:00         blairsden    ca      us  sphere   \n",
       "\n",
       "                    duration (seconds) duration (hours/min)  \\\n",
       "datetime                                                      \n",
       "1937-08-15 21:00:00              600.0          5 to 10 min   \n",
       "1944-01-01 12:00:00                180            3 minutes   \n",
       "1945-08-08 12:00:00              300.0            5 minutes   \n",
       "1946-02-01 17:00:00                 10           10 seconds   \n",
       "1946-06-30 19:00:00                 10           10 seconds   \n",
       "\n",
       "                                                              comments  \\\n",
       "datetime                                                                 \n",
       "1937-08-15 21:00:00  A cylinder light came on above us with no sound .   \n",
       "1944-01-01 12:00:00  A sighting of one silver or white enlongated c...   \n",
       "1945-08-08 12:00:00  MY DAD SAYS HIS AUNT AND UNCLE SAW THIS CRAFT ...   \n",
       "1946-02-01 17:00:00  Three luminescent chartreusse spheres moving &...   \n",
       "1946-06-30 19:00:00  Looked up and saw sphere or disk 30-50 feet in...   \n",
       "\n",
       "                    date posted    latitude  longitude   sightYear  reportYear  \n",
       "datetime                                                                        \n",
       "1937-08-15 21:00:00   2/22/2002   34.092222 -117.434167       1937        2002  \n",
       "1944-01-01 12:00:00   7/25/2004  32.7152778 -117.156389       1944        2004  \n",
       "1945-08-08 12:00:00   1/17/2004   33.660278 -117.998333       1945        2004  \n",
       "1946-02-01 17:00:00  10/11/2005  37.3022222 -120.481944       1946        2005  \n",
       "1946-06-30 19:00:00   1/21/2008  39.7811111 -120.615556       1946        2008  "
      ]
     },
     "execution_count": 434,
     "metadata": {},
     "output_type": "execute_result"
    }
   ],
   "source": [
    "ufodb_ca.head()"
   ]
  },
  {
   "cell_type": "code",
   "execution_count": 442,
   "metadata": {},
   "outputs": [
    {
     "data": {
      "image/png": "[encoded data removed]",
      "text/plain": [
       "<Figure size 864x576 with 1 Axes>"
      ]
     },
     "metadata": {},
     "output_type": "display_data"
    }
   ],
   "source": [
    "ufodb_ca['city'].resample('Y').count().plot(figsize = (12,8),\n",
    "                                           title='Sightings of UFOs in CA over time',\n",
    "                                           xlabel='Year',\n",
    "                                           ylabel='Count');"
   ]
  },
  {
   "cell_type": "code",
   "execution_count": 206,
   "metadata": {},
   "outputs": [
    {
     "data": {
      "text/plain": [
       "1934       1\n",
       "1941       1\n",
       "1929       1\n",
       "1925       1\n",
       "1920       1\n",
       "        ... \n",
       "2009    3612\n",
       "2008    3971\n",
       "2011    4332\n",
       "2013    5991\n",
       "2012    6253\n",
       "Name: sightYear, Length: 83, dtype: int64"
      ]
     },
     "execution_count": 206,
     "metadata": {},
     "output_type": "execute_result"
    }
   ],
   "source": [
    "ufodb['sightYear'].value_counts().sort_values()"
   ]
  },
  {
   "cell_type": "code",
   "execution_count": 207,
   "metadata": {},
   "outputs": [
    {
     "data": {
      "image/png": "[encoded data removed]",
      "text/plain": [
       "<Figure size 864x504 with 1 Axes>"
      ]
     },
     "metadata": {},
     "output_type": "display_data"
    }
   ],
   "source": [
    "ufodb['shape'].value_counts().plot(kind = 'bar',\n",
    "                                      figsize = (12,7),\n",
    "                                      title = 'Most common UFO shapes from Observers in the US, 1934 - 2013',\n",
    "                                      color = 'green');"
   ]
  },
  {
   "cell_type": "code",
   "execution_count": null,
   "metadata": {},
   "outputs": [],
   "source": []
  }
 ],
 "metadata": {
  "kernelspec": {
   "display_name": "Python 3",
   "language": "python",
   "name": "python3"
  },
  "language_info": {
   "codemirror_mode": {
    "name": "ipython",
    "version": 3
   },
   "file_extension": ".py",
   "mimetype": "text/x-python",
   "name": "python",
   "nbconvert_exporter": "python",
   "pygments_lexer": "ipython3",
   "version": "3.7.11"
  }
 },
 "nbformat": 4,
 "nbformat_minor": 4
}
